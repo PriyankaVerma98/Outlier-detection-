{
 "cells": [
  {
   "cell_type": "code",
   "execution_count": 1,
   "metadata": {},
   "outputs": [],
   "source": [
    "import pandas as pd\n",
    "import numpy as np\n",
    "import datetime\n",
    "from datetime import timedelta\n",
    "import seaborn as sns"
   ]
  },
  {
   "cell_type": "code",
   "execution_count": 11,
   "metadata": {},
   "outputs": [],
   "source": [
    "data = pd.read_csv(\"Cleaned_Data2016-17.csv\")"
   ]
  },
  {
   "cell_type": "code",
   "execution_count": 12,
   "metadata": {
    "scrolled": true
   },
   "outputs": [
    {
     "data": {
      "text/plain": [
       "3390595"
      ]
     },
     "execution_count": 12,
     "metadata": {},
     "output_type": "execute_result"
    }
   ],
   "source": [
    "df_concat = data[['Unnamed: 0', 'Commodity', 'State', 'Market Center', 'Report Date', 'Modal Prices(in Rs/quintals)', 'Arrival_Tonnes_Calc']]\n",
    "len(df_concat)"
   ]
  },
  {
   "cell_type": "code",
   "execution_count": 13,
   "metadata": {
    "collapsed": true
   },
   "outputs": [
    {
     "name": "stderr",
     "output_type": "stream",
     "text": [
      "/Users/PV/anaconda3/lib/python3.6/site-packages/ipykernel_launcher.py:1: SettingWithCopyWarning: \n",
      "A value is trying to be set on a copy of a slice from a DataFrame\n",
      "\n",
      "See the caveats in the documentation: http://pandas.pydata.org/pandas-docs/stable/indexing.html#indexing-view-versus-copy\n",
      "  \"\"\"Entry point for launching an IPython kernel.\n"
     ]
    },
    {
     "data": {
      "text/plain": [
       "3002888"
      ]
     },
     "execution_count": 13,
     "metadata": {},
     "output_type": "execute_result"
    }
   ],
   "source": [
    "df_concat.dropna(inplace = True)\n",
    "len(df_concat)"
   ]
  },
  {
   "cell_type": "code",
   "execution_count": 14,
   "metadata": {},
   "outputs": [
    {
     "data": {
      "text/html": [
       "<div>\n",
       "<style scoped>\n",
       "    .dataframe tbody tr th:only-of-type {\n",
       "        vertical-align: middle;\n",
       "    }\n",
       "\n",
       "    .dataframe tbody tr th {\n",
       "        vertical-align: top;\n",
       "    }\n",
       "\n",
       "    .dataframe thead th {\n",
       "        text-align: right;\n",
       "    }\n",
       "</style>\n",
       "<table border=\"1\" class=\"dataframe\">\n",
       "  <thead>\n",
       "    <tr style=\"text-align: right;\">\n",
       "      <th></th>\n",
       "      <th>Unnamed: 0</th>\n",
       "      <th>Commodity</th>\n",
       "      <th>State</th>\n",
       "      <th>Market Center</th>\n",
       "      <th>Report Date</th>\n",
       "      <th>Modal Prices(in Rs/quintals)</th>\n",
       "      <th>Arrival_Tonnes_Calc</th>\n",
       "    </tr>\n",
       "  </thead>\n",
       "  <tbody>\n",
       "    <tr>\n",
       "      <th>1</th>\n",
       "      <td>1</td>\n",
       "      <td>Coffee</td>\n",
       "      <td>Kerala</td>\n",
       "      <td>Kalpetta</td>\n",
       "      <td>20160402</td>\n",
       "      <td>5700.0</td>\n",
       "      <td>10.0</td>\n",
       "    </tr>\n",
       "    <tr>\n",
       "      <th>2</th>\n",
       "      <td>2</td>\n",
       "      <td>Coffee</td>\n",
       "      <td>Kerala</td>\n",
       "      <td>Kalpetta</td>\n",
       "      <td>20160404</td>\n",
       "      <td>5700.0</td>\n",
       "      <td>10.0</td>\n",
       "    </tr>\n",
       "    <tr>\n",
       "      <th>3</th>\n",
       "      <td>3</td>\n",
       "      <td>Coffee</td>\n",
       "      <td>Kerala</td>\n",
       "      <td>Kalpetta</td>\n",
       "      <td>20160406</td>\n",
       "      <td>5700.0</td>\n",
       "      <td>7.5</td>\n",
       "    </tr>\n",
       "    <tr>\n",
       "      <th>4</th>\n",
       "      <td>4</td>\n",
       "      <td>Coffee</td>\n",
       "      <td>Kerala</td>\n",
       "      <td>Kalpetta</td>\n",
       "      <td>20160407</td>\n",
       "      <td>5700.0</td>\n",
       "      <td>8.0</td>\n",
       "    </tr>\n",
       "    <tr>\n",
       "      <th>5</th>\n",
       "      <td>5</td>\n",
       "      <td>Coffee</td>\n",
       "      <td>Kerala</td>\n",
       "      <td>Kalpetta</td>\n",
       "      <td>20160408</td>\n",
       "      <td>5700.0</td>\n",
       "      <td>7.5</td>\n",
       "    </tr>\n",
       "  </tbody>\n",
       "</table>\n",
       "</div>"
      ],
      "text/plain": [
       "   Unnamed: 0 Commodity   State Market Center  Report Date  \\\n",
       "1           1    Coffee  Kerala      Kalpetta     20160402   \n",
       "2           2    Coffee  Kerala      Kalpetta     20160404   \n",
       "3           3    Coffee  Kerala      Kalpetta     20160406   \n",
       "4           4    Coffee  Kerala      Kalpetta     20160407   \n",
       "5           5    Coffee  Kerala      Kalpetta     20160408   \n",
       "\n",
       "   Modal Prices(in Rs/quintals)  Arrival_Tonnes_Calc  \n",
       "1                        5700.0                 10.0  \n",
       "2                        5700.0                 10.0  \n",
       "3                        5700.0                  7.5  \n",
       "4                        5700.0                  8.0  \n",
       "5                        5700.0                  7.5  "
      ]
     },
     "execution_count": 14,
     "metadata": {},
     "output_type": "execute_result"
    }
   ],
   "source": [
    "df_concat.head()"
   ]
  },
  {
   "cell_type": "code",
   "execution_count": 15,
   "metadata": {},
   "outputs": [],
   "source": [
    "df = df_concat.groupby([\"Commodity\", \"State\", \"Market Center\"], as_index = False)\n",
    "df = df.apply(lambda _df: _df.sort_values('Report Date', ascending = True))\n",
    "\n",
    "#filtering onion data\n",
    "df1 = df[(df[\"Commodity\"]== 'Onion') ]\n"
   ]
  },
  {
   "cell_type": "code",
   "execution_count": 16,
   "metadata": {},
   "outputs": [],
   "source": [
    "df2 = df1[df1[\"Market Center\"] == \"Mahuva(Station Road)\"]"
   ]
  },
  {
   "cell_type": "code",
   "execution_count": 19,
   "metadata": {},
   "outputs": [
    {
     "name": "stdout",
     "output_type": "stream",
     "text": [
      "<class 'pandas.core.frame.DataFrame'>\n",
      "MultiIndex: 365 entries, (20114, 2733532) to (20114, 2733897)\n",
      "Data columns (total 7 columns):\n",
      "Unnamed: 0                      365 non-null int64\n",
      "Commodity                       365 non-null object\n",
      "State                           365 non-null object\n",
      "Market Center                   365 non-null object\n",
      "Report Date                     365 non-null int64\n",
      "Modal Prices(in Rs/quintals)    365 non-null float64\n",
      "Arrival_Tonnes_Calc             365 non-null float64\n",
      "dtypes: float64(2), int64(2), object(3)\n",
      "memory usage: 23.2+ MB\n"
     ]
    }
   ],
   "source": [
    "df2.info()"
   ]
  },
  {
   "cell_type": "code",
   "execution_count": 24,
   "metadata": {},
   "outputs": [
    {
     "data": {
      "text/html": [
       "<div>\n",
       "<style scoped>\n",
       "    .dataframe tbody tr th:only-of-type {\n",
       "        vertical-align: middle;\n",
       "    }\n",
       "\n",
       "    .dataframe tbody tr th {\n",
       "        vertical-align: top;\n",
       "    }\n",
       "\n",
       "    .dataframe thead th {\n",
       "        text-align: right;\n",
       "    }\n",
       "</style>\n",
       "<table border=\"1\" class=\"dataframe\">\n",
       "  <thead>\n",
       "    <tr style=\"text-align: right;\">\n",
       "      <th></th>\n",
       "      <th></th>\n",
       "      <th>Unnamed: 0</th>\n",
       "      <th>Commodity</th>\n",
       "      <th>State</th>\n",
       "      <th>Market Center</th>\n",
       "      <th>Report Date</th>\n",
       "      <th>Modal Prices(in Rs/quintals)</th>\n",
       "      <th>Arrival_Tonnes_Calc</th>\n",
       "    </tr>\n",
       "  </thead>\n",
       "  <tbody>\n",
       "    <tr>\n",
       "      <th rowspan=\"7\" valign=\"top\">20114</th>\n",
       "      <th>2733532</th>\n",
       "      <td>2733532</td>\n",
       "      <td>Onion</td>\n",
       "      <td>Gujarat</td>\n",
       "      <td>Mahuva(Station Road)</td>\n",
       "      <td>20160401</td>\n",
       "      <td>600.0</td>\n",
       "      <td>13035.7</td>\n",
       "    </tr>\n",
       "    <tr>\n",
       "      <th>2733533</th>\n",
       "      <td>2733533</td>\n",
       "      <td>Onion</td>\n",
       "      <td>Gujarat</td>\n",
       "      <td>Mahuva(Station Road)</td>\n",
       "      <td>20160401</td>\n",
       "      <td>600.0</td>\n",
       "      <td>13035.7</td>\n",
       "    </tr>\n",
       "    <tr>\n",
       "      <th>2733534</th>\n",
       "      <td>2733534</td>\n",
       "      <td>Onion</td>\n",
       "      <td>Gujarat</td>\n",
       "      <td>Mahuva(Station Road)</td>\n",
       "      <td>20160402</td>\n",
       "      <td>600.0</td>\n",
       "      <td>5978.6</td>\n",
       "    </tr>\n",
       "    <tr>\n",
       "      <th>2733535</th>\n",
       "      <td>2733535</td>\n",
       "      <td>Onion</td>\n",
       "      <td>Gujarat</td>\n",
       "      <td>Mahuva(Station Road)</td>\n",
       "      <td>20160402</td>\n",
       "      <td>750.0</td>\n",
       "      <td>5978.6</td>\n",
       "    </tr>\n",
       "    <tr>\n",
       "      <th>2733536</th>\n",
       "      <td>2733536</td>\n",
       "      <td>Onion</td>\n",
       "      <td>Gujarat</td>\n",
       "      <td>Mahuva(Station Road)</td>\n",
       "      <td>20160405</td>\n",
       "      <td>600.0</td>\n",
       "      <td>8570.7</td>\n",
       "    </tr>\n",
       "    <tr>\n",
       "      <th>2733537</th>\n",
       "      <td>2733537</td>\n",
       "      <td>Onion</td>\n",
       "      <td>Gujarat</td>\n",
       "      <td>Mahuva(Station Road)</td>\n",
       "      <td>20160405</td>\n",
       "      <td>750.0</td>\n",
       "      <td>8570.7</td>\n",
       "    </tr>\n",
       "    <tr>\n",
       "      <th>2733538</th>\n",
       "      <td>2733538</td>\n",
       "      <td>Onion</td>\n",
       "      <td>Gujarat</td>\n",
       "      <td>Mahuva(Station Road)</td>\n",
       "      <td>20160406</td>\n",
       "      <td>515.0</td>\n",
       "      <td>9668.5</td>\n",
       "    </tr>\n",
       "  </tbody>\n",
       "</table>\n",
       "</div>"
      ],
      "text/plain": [
       "               Unnamed: 0 Commodity    State         Market Center  \\\n",
       "20114 2733532     2733532     Onion  Gujarat  Mahuva(Station Road)   \n",
       "      2733533     2733533     Onion  Gujarat  Mahuva(Station Road)   \n",
       "      2733534     2733534     Onion  Gujarat  Mahuva(Station Road)   \n",
       "      2733535     2733535     Onion  Gujarat  Mahuva(Station Road)   \n",
       "      2733536     2733536     Onion  Gujarat  Mahuva(Station Road)   \n",
       "      2733537     2733537     Onion  Gujarat  Mahuva(Station Road)   \n",
       "      2733538     2733538     Onion  Gujarat  Mahuva(Station Road)   \n",
       "\n",
       "               Report Date  Modal Prices(in Rs/quintals)  Arrival_Tonnes_Calc  \n",
       "20114 2733532     20160401                         600.0              13035.7  \n",
       "      2733533     20160401                         600.0              13035.7  \n",
       "      2733534     20160402                         600.0               5978.6  \n",
       "      2733535     20160402                         750.0               5978.6  \n",
       "      2733536     20160405                         600.0               8570.7  \n",
       "      2733537     20160405                         750.0               8570.7  \n",
       "      2733538     20160406                         515.0               9668.5  "
      ]
     },
     "execution_count": 24,
     "metadata": {},
     "output_type": "execute_result"
    }
   ],
   "source": [
    "df2.head(7)"
   ]
  },
  {
   "cell_type": "code",
   "execution_count": 54,
   "metadata": {
    "collapsed": true
   },
   "outputs": [
    {
     "name": "stderr",
     "output_type": "stream",
     "text": [
      "/Users/PV/anaconda3/lib/python3.6/site-packages/ipykernel_launcher.py:3: FutureWarning: using a dict on a Series for aggregation\n",
      "is deprecated and will be removed in a future version\n",
      "  This is separate from the ipykernel package so we can avoid doing imports until\n",
      "/Users/PV/anaconda3/lib/python3.6/site-packages/pandas/core/groupby.py:3198: FutureWarning: using a dict on a Series for aggregation\n",
      "is deprecated and will be removed in a future version\n",
      "  results[name] = obj.aggregate(func)\n"
     ]
    }
   ],
   "source": [
    "aggregate = {'Arrival_Tonnes_Calc' :\n",
    "                    {'sum': np.sum, 'count': 'count'}} \n",
    "new1 = df1.groupby([\"Commodity\", \"State\", \"Market Center\"])['Arrival_Tonnes_Calc'].agg(aggregate)"
   ]
  },
  {
   "cell_type": "code",
   "execution_count": 55,
   "metadata": {},
   "outputs": [],
   "source": [
    "new1 = new1.reset_index()\n",
    "new1.columns = new1.columns.droplevel()\n",
    "new1.columns = ['Commodity', 'State', 'Market Center', 'Qtity', 'count']"
   ]
  },
  {
   "cell_type": "code",
   "execution_count": 56,
   "metadata": {},
   "outputs": [
    {
     "data": {
      "text/html": [
       "<div>\n",
       "<style scoped>\n",
       "    .dataframe tbody tr th:only-of-type {\n",
       "        vertical-align: middle;\n",
       "    }\n",
       "\n",
       "    .dataframe tbody tr th {\n",
       "        vertical-align: top;\n",
       "    }\n",
       "\n",
       "    .dataframe thead th {\n",
       "        text-align: right;\n",
       "    }\n",
       "</style>\n",
       "<table border=\"1\" class=\"dataframe\">\n",
       "  <thead>\n",
       "    <tr style=\"text-align: right;\">\n",
       "      <th></th>\n",
       "      <th>Commodity</th>\n",
       "      <th>State</th>\n",
       "      <th>Market Center</th>\n",
       "      <th>Qtity</th>\n",
       "      <th>count</th>\n",
       "    </tr>\n",
       "  </thead>\n",
       "  <tbody>\n",
       "    <tr>\n",
       "      <th>0</th>\n",
       "      <td>Onion</td>\n",
       "      <td>Andaman and Nicobar</td>\n",
       "      <td>Diglipur</td>\n",
       "      <td>11.26</td>\n",
       "      <td>20</td>\n",
       "    </tr>\n",
       "    <tr>\n",
       "      <th>1</th>\n",
       "      <td>Onion</td>\n",
       "      <td>Andhra Pradesh</td>\n",
       "      <td>Eluru</td>\n",
       "      <td>4.50</td>\n",
       "      <td>1</td>\n",
       "    </tr>\n",
       "    <tr>\n",
       "      <th>2</th>\n",
       "      <td>Onion</td>\n",
       "      <td>Andhra Pradesh</td>\n",
       "      <td>Eluru(P.Sri.Mkt),RBZ</td>\n",
       "      <td>163.00</td>\n",
       "      <td>38</td>\n",
       "    </tr>\n",
       "  </tbody>\n",
       "</table>\n",
       "</div>"
      ],
      "text/plain": [
       "  Commodity                State         Market Center   Qtity  count\n",
       "0     Onion  Andaman and Nicobar              Diglipur   11.26     20\n",
       "1     Onion       Andhra Pradesh                 Eluru    4.50      1\n",
       "2     Onion       Andhra Pradesh  Eluru(P.Sri.Mkt),RBZ  163.00     38"
      ]
     },
     "execution_count": 56,
     "metadata": {},
     "output_type": "execute_result"
    }
   ],
   "source": [
    "new1.head(3) "
   ]
  },
  {
   "cell_type": "code",
   "execution_count": 57,
   "metadata": {},
   "outputs": [
    {
     "data": {
      "text/plain": [
       "917"
      ]
     },
     "execution_count": 57,
     "metadata": {},
     "output_type": "execute_result"
    }
   ],
   "source": [
    "len(new1['Market Center'].unique())"
   ]
  },
  {
   "cell_type": "code",
   "execution_count": 66,
   "metadata": {},
   "outputs": [],
   "source": [
    "new1['market-state'] = new1['Market Center'] + \"- \" + new1['State']"
   ]
  },
  {
   "cell_type": "code",
   "execution_count": 67,
   "metadata": {},
   "outputs": [],
   "source": [
    "#selecting top 25 largest quantity mandis of onion \n",
    "result = new1.nlargest(25, ['Qtity']) "
   ]
  },
  {
   "cell_type": "code",
   "execution_count": 68,
   "metadata": {},
   "outputs": [
    {
     "data": {
      "text/html": [
       "<div>\n",
       "<style scoped>\n",
       "    .dataframe tbody tr th:only-of-type {\n",
       "        vertical-align: middle;\n",
       "    }\n",
       "\n",
       "    .dataframe tbody tr th {\n",
       "        vertical-align: top;\n",
       "    }\n",
       "\n",
       "    .dataframe thead th {\n",
       "        text-align: right;\n",
       "    }\n",
       "</style>\n",
       "<table border=\"1\" class=\"dataframe\">\n",
       "  <thead>\n",
       "    <tr style=\"text-align: right;\">\n",
       "      <th></th>\n",
       "      <th>Commodity</th>\n",
       "      <th>State</th>\n",
       "      <th>Market Center</th>\n",
       "      <th>Qtity</th>\n",
       "      <th>count</th>\n",
       "      <th>market-state</th>\n",
       "    </tr>\n",
       "  </thead>\n",
       "  <tbody>\n",
       "    <tr>\n",
       "      <th>180</th>\n",
       "      <td>Onion</td>\n",
       "      <td>Karnataka</td>\n",
       "      <td>Bangalore</td>\n",
       "      <td>3632146.0</td>\n",
       "      <td>1054</td>\n",
       "      <td>Bangalore- Karnataka</td>\n",
       "    </tr>\n",
       "    <tr>\n",
       "      <th>49</th>\n",
       "      <td>Onion</td>\n",
       "      <td>Gujarat</td>\n",
       "      <td>Mahuva(Station Road)</td>\n",
       "      <td>986906.3</td>\n",
       "      <td>365</td>\n",
       "      <td>Mahuva(Station Road)- Gujarat</td>\n",
       "    </tr>\n",
       "    <tr>\n",
       "      <th>640</th>\n",
       "      <td>Onion</td>\n",
       "      <td>Telangana</td>\n",
       "      <td>Hyderabad (F&amp;V)</td>\n",
       "      <td>491479.1</td>\n",
       "      <td>537</td>\n",
       "      <td>Hyderabad (F&amp;V)- Telangana</td>\n",
       "    </tr>\n",
       "    <tr>\n",
       "      <th>38</th>\n",
       "      <td>Onion</td>\n",
       "      <td>Gujarat</td>\n",
       "      <td>Bhavnagar</td>\n",
       "      <td>407057.9</td>\n",
       "      <td>285</td>\n",
       "      <td>Bhavnagar- Gujarat</td>\n",
       "    </tr>\n",
       "    <tr>\n",
       "      <th>390</th>\n",
       "      <td>Onion</td>\n",
       "      <td>Maharashtra</td>\n",
       "      <td>Pimpalgaon</td>\n",
       "      <td>393943.0</td>\n",
       "      <td>302</td>\n",
       "      <td>Pimpalgaon- Maharashtra</td>\n",
       "    </tr>\n",
       "  </tbody>\n",
       "</table>\n",
       "</div>"
      ],
      "text/plain": [
       "    Commodity        State         Market Center      Qtity  count  \\\n",
       "180     Onion    Karnataka             Bangalore  3632146.0   1054   \n",
       "49      Onion      Gujarat  Mahuva(Station Road)   986906.3    365   \n",
       "640     Onion    Telangana       Hyderabad (F&V)   491479.1    537   \n",
       "38      Onion      Gujarat             Bhavnagar   407057.9    285   \n",
       "390     Onion  Maharashtra            Pimpalgaon   393943.0    302   \n",
       "\n",
       "                      market-state  \n",
       "180           Bangalore- Karnataka  \n",
       "49   Mahuva(Station Road)- Gujarat  \n",
       "640     Hyderabad (F&V)- Telangana  \n",
       "38              Bhavnagar- Gujarat  \n",
       "390        Pimpalgaon- Maharashtra  "
      ]
     },
     "execution_count": 68,
     "metadata": {},
     "output_type": "execute_result"
    }
   ],
   "source": [
    "result.head()"
   ]
  },
  {
   "cell_type": "code",
   "execution_count": 76,
   "metadata": {},
   "outputs": [
    {
     "data": {
      "text/html": [
       "        <script type=\"text/javascript\">\n",
       "        window.PlotlyConfig = {MathJaxConfig: 'local'};\n",
       "        if (window.MathJax) {MathJax.Hub.Config({SVG: {font: \"STIX-Web\"}});}\n",
       "        if (typeof require !== 'undefined') {\n",
       "        require.undef(\"plotly\");\n",
       "        requirejs.config({\n",
       "            paths: {\n",
       "                'plotly': ['https://cdn.plot.ly/plotly-latest.min']\n",
       "            }\n",
       "        });\n",
       "        require(['plotly'], function(Plotly) {\n",
       "            window._Plotly = Plotly;\n",
       "        });\n",
       "        }\n",
       "        </script>\n",
       "        "
      ]
     },
     "metadata": {},
     "output_type": "display_data"
    }
   ],
   "source": [
    "from plotly.offline import init_notebook_mode, iplot\n",
    "init_notebook_mode(connected=True)\n",
    "import plotly.graph_objs as go"
   ]
  },
  {
   "cell_type": "code",
   "execution_count": 97,
   "metadata": {
    "scrolled": false
   },
   "outputs": [
    {
     "data": {
      "application/vnd.plotly.v1+json": {
       "config": {
        "linkText": "Export to plot.ly",
        "plotlyServerURL": "https://plot.ly",
        "showLink": false
       },
       "data": [
        {
         "mode": "markers",
         "type": "scatter",
         "x": [
          "Bangalore- Karnataka",
          "Mahuva(Station Road)- Gujarat",
          "Hyderabad (F&V)- Telangana",
          "Bhavnagar- Gujarat",
          "Pimpalgaon- Maharashtra",
          "Hubli (Amaragol)- Karnataka",
          "Solapur- Maharashtra",
          "Ahmedabad(Chimanbhai Patal Market Vasana)- Gujarat",
          "Pune- Maharashtra",
          "Lasalgaon- Maharashtra",
          "Yeola- Maharashtra",
          "Azadpur- NCT of Delhi",
          "Newasa(Ghodegaon)- Maharashtra",
          "Vashi New Mumbai- Maharashtra",
          "Malegaon(Umarane)- Maharashtra",
          "Belgaum- Karnataka",
          "Manmad- Maharashtra",
          "Indore(F&V)- Madhya Pradesh",
          "Ahmednagar- Maharashtra",
          "Kolhapur- Maharashtra",
          "Sangamner- Maharashtra",
          "Gondal- Gujarat",
          "Satana- Maharashtra",
          "Chandvad- Maharashtra",
          "Malegaon- Maharashtra"
         ],
         "y": [
          3632146,
          986906.300000001,
          491479.0999999995,
          407057.9000000001,
          393943,
          386681,
          380507,
          337864.1000000002,
          337527,
          303361,
          300078,
          292410.9,
          270914,
          254274,
          229843,
          219644,
          183866,
          182773.2000000001,
          182632,
          160906,
          159173,
          155995.30000000002,
          147174,
          146536,
          142685
         ]
        }
       ],
       "layout": {
        "template": {
         "data": {
          "bar": [
           {
            "error_x": {
             "color": "#2a3f5f"
            },
            "error_y": {
             "color": "#2a3f5f"
            },
            "marker": {
             "line": {
              "color": "#E5ECF6",
              "width": 0.5
             }
            },
            "type": "bar"
           }
          ],
          "barpolar": [
           {
            "marker": {
             "line": {
              "color": "#E5ECF6",
              "width": 0.5
             }
            },
            "type": "barpolar"
           }
          ],
          "carpet": [
           {
            "aaxis": {
             "endlinecolor": "#2a3f5f",
             "gridcolor": "white",
             "linecolor": "white",
             "minorgridcolor": "white",
             "startlinecolor": "#2a3f5f"
            },
            "baxis": {
             "endlinecolor": "#2a3f5f",
             "gridcolor": "white",
             "linecolor": "white",
             "minorgridcolor": "white",
             "startlinecolor": "#2a3f5f"
            },
            "type": "carpet"
           }
          ],
          "choropleth": [
           {
            "colorbar": {
             "outlinewidth": 0,
             "ticks": ""
            },
            "type": "choropleth"
           }
          ],
          "contour": [
           {
            "colorbar": {
             "outlinewidth": 0,
             "ticks": ""
            },
            "colorscale": [
             [
              0,
              "#0d0887"
             ],
             [
              0.1111111111111111,
              "#46039f"
             ],
             [
              0.2222222222222222,
              "#7201a8"
             ],
             [
              0.3333333333333333,
              "#9c179e"
             ],
             [
              0.4444444444444444,
              "#bd3786"
             ],
             [
              0.5555555555555556,
              "#d8576b"
             ],
             [
              0.6666666666666666,
              "#ed7953"
             ],
             [
              0.7777777777777778,
              "#fb9f3a"
             ],
             [
              0.8888888888888888,
              "#fdca26"
             ],
             [
              1,
              "#f0f921"
             ]
            ],
            "type": "contour"
           }
          ],
          "contourcarpet": [
           {
            "colorbar": {
             "outlinewidth": 0,
             "ticks": ""
            },
            "type": "contourcarpet"
           }
          ],
          "heatmap": [
           {
            "colorbar": {
             "outlinewidth": 0,
             "ticks": ""
            },
            "colorscale": [
             [
              0,
              "#0d0887"
             ],
             [
              0.1111111111111111,
              "#46039f"
             ],
             [
              0.2222222222222222,
              "#7201a8"
             ],
             [
              0.3333333333333333,
              "#9c179e"
             ],
             [
              0.4444444444444444,
              "#bd3786"
             ],
             [
              0.5555555555555556,
              "#d8576b"
             ],
             [
              0.6666666666666666,
              "#ed7953"
             ],
             [
              0.7777777777777778,
              "#fb9f3a"
             ],
             [
              0.8888888888888888,
              "#fdca26"
             ],
             [
              1,
              "#f0f921"
             ]
            ],
            "type": "heatmap"
           }
          ],
          "heatmapgl": [
           {
            "colorbar": {
             "outlinewidth": 0,
             "ticks": ""
            },
            "colorscale": [
             [
              0,
              "#0d0887"
             ],
             [
              0.1111111111111111,
              "#46039f"
             ],
             [
              0.2222222222222222,
              "#7201a8"
             ],
             [
              0.3333333333333333,
              "#9c179e"
             ],
             [
              0.4444444444444444,
              "#bd3786"
             ],
             [
              0.5555555555555556,
              "#d8576b"
             ],
             [
              0.6666666666666666,
              "#ed7953"
             ],
             [
              0.7777777777777778,
              "#fb9f3a"
             ],
             [
              0.8888888888888888,
              "#fdca26"
             ],
             [
              1,
              "#f0f921"
             ]
            ],
            "type": "heatmapgl"
           }
          ],
          "histogram": [
           {
            "marker": {
             "colorbar": {
              "outlinewidth": 0,
              "ticks": ""
             }
            },
            "type": "histogram"
           }
          ],
          "histogram2d": [
           {
            "colorbar": {
             "outlinewidth": 0,
             "ticks": ""
            },
            "colorscale": [
             [
              0,
              "#0d0887"
             ],
             [
              0.1111111111111111,
              "#46039f"
             ],
             [
              0.2222222222222222,
              "#7201a8"
             ],
             [
              0.3333333333333333,
              "#9c179e"
             ],
             [
              0.4444444444444444,
              "#bd3786"
             ],
             [
              0.5555555555555556,
              "#d8576b"
             ],
             [
              0.6666666666666666,
              "#ed7953"
             ],
             [
              0.7777777777777778,
              "#fb9f3a"
             ],
             [
              0.8888888888888888,
              "#fdca26"
             ],
             [
              1,
              "#f0f921"
             ]
            ],
            "type": "histogram2d"
           }
          ],
          "histogram2dcontour": [
           {
            "colorbar": {
             "outlinewidth": 0,
             "ticks": ""
            },
            "colorscale": [
             [
              0,
              "#0d0887"
             ],
             [
              0.1111111111111111,
              "#46039f"
             ],
             [
              0.2222222222222222,
              "#7201a8"
             ],
             [
              0.3333333333333333,
              "#9c179e"
             ],
             [
              0.4444444444444444,
              "#bd3786"
             ],
             [
              0.5555555555555556,
              "#d8576b"
             ],
             [
              0.6666666666666666,
              "#ed7953"
             ],
             [
              0.7777777777777778,
              "#fb9f3a"
             ],
             [
              0.8888888888888888,
              "#fdca26"
             ],
             [
              1,
              "#f0f921"
             ]
            ],
            "type": "histogram2dcontour"
           }
          ],
          "mesh3d": [
           {
            "colorbar": {
             "outlinewidth": 0,
             "ticks": ""
            },
            "type": "mesh3d"
           }
          ],
          "parcoords": [
           {
            "line": {
             "colorbar": {
              "outlinewidth": 0,
              "ticks": ""
             }
            },
            "type": "parcoords"
           }
          ],
          "scatter": [
           {
            "marker": {
             "colorbar": {
              "outlinewidth": 0,
              "ticks": ""
             }
            },
            "type": "scatter"
           }
          ],
          "scatter3d": [
           {
            "line": {
             "colorbar": {
              "outlinewidth": 0,
              "ticks": ""
             }
            },
            "marker": {
             "colorbar": {
              "outlinewidth": 0,
              "ticks": ""
             }
            },
            "type": "scatter3d"
           }
          ],
          "scattercarpet": [
           {
            "marker": {
             "colorbar": {
              "outlinewidth": 0,
              "ticks": ""
             }
            },
            "type": "scattercarpet"
           }
          ],
          "scattergeo": [
           {
            "marker": {
             "colorbar": {
              "outlinewidth": 0,
              "ticks": ""
             }
            },
            "type": "scattergeo"
           }
          ],
          "scattergl": [
           {
            "marker": {
             "colorbar": {
              "outlinewidth": 0,
              "ticks": ""
             }
            },
            "type": "scattergl"
           }
          ],
          "scattermapbox": [
           {
            "marker": {
             "colorbar": {
              "outlinewidth": 0,
              "ticks": ""
             }
            },
            "type": "scattermapbox"
           }
          ],
          "scatterpolar": [
           {
            "marker": {
             "colorbar": {
              "outlinewidth": 0,
              "ticks": ""
             }
            },
            "type": "scatterpolar"
           }
          ],
          "scatterpolargl": [
           {
            "marker": {
             "colorbar": {
              "outlinewidth": 0,
              "ticks": ""
             }
            },
            "type": "scatterpolargl"
           }
          ],
          "scatterternary": [
           {
            "marker": {
             "colorbar": {
              "outlinewidth": 0,
              "ticks": ""
             }
            },
            "type": "scatterternary"
           }
          ],
          "surface": [
           {
            "colorbar": {
             "outlinewidth": 0,
             "ticks": ""
            },
            "colorscale": [
             [
              0,
              "#0d0887"
             ],
             [
              0.1111111111111111,
              "#46039f"
             ],
             [
              0.2222222222222222,
              "#7201a8"
             ],
             [
              0.3333333333333333,
              "#9c179e"
             ],
             [
              0.4444444444444444,
              "#bd3786"
             ],
             [
              0.5555555555555556,
              "#d8576b"
             ],
             [
              0.6666666666666666,
              "#ed7953"
             ],
             [
              0.7777777777777778,
              "#fb9f3a"
             ],
             [
              0.8888888888888888,
              "#fdca26"
             ],
             [
              1,
              "#f0f921"
             ]
            ],
            "type": "surface"
           }
          ],
          "table": [
           {
            "cells": {
             "fill": {
              "color": "#EBF0F8"
             },
             "line": {
              "color": "white"
             }
            },
            "header": {
             "fill": {
              "color": "#C8D4E3"
             },
             "line": {
              "color": "white"
             }
            },
            "type": "table"
           }
          ]
         },
         "layout": {
          "annotationdefaults": {
           "arrowcolor": "#2a3f5f",
           "arrowhead": 0,
           "arrowwidth": 1
          },
          "colorscale": {
           "diverging": [
            [
             0,
             "#8e0152"
            ],
            [
             0.1,
             "#c51b7d"
            ],
            [
             0.2,
             "#de77ae"
            ],
            [
             0.3,
             "#f1b6da"
            ],
            [
             0.4,
             "#fde0ef"
            ],
            [
             0.5,
             "#f7f7f7"
            ],
            [
             0.6,
             "#e6f5d0"
            ],
            [
             0.7,
             "#b8e186"
            ],
            [
             0.8,
             "#7fbc41"
            ],
            [
             0.9,
             "#4d9221"
            ],
            [
             1,
             "#276419"
            ]
           ],
           "sequential": [
            [
             0,
             "#0d0887"
            ],
            [
             0.1111111111111111,
             "#46039f"
            ],
            [
             0.2222222222222222,
             "#7201a8"
            ],
            [
             0.3333333333333333,
             "#9c179e"
            ],
            [
             0.4444444444444444,
             "#bd3786"
            ],
            [
             0.5555555555555556,
             "#d8576b"
            ],
            [
             0.6666666666666666,
             "#ed7953"
            ],
            [
             0.7777777777777778,
             "#fb9f3a"
            ],
            [
             0.8888888888888888,
             "#fdca26"
            ],
            [
             1,
             "#f0f921"
            ]
           ],
           "sequentialminus": [
            [
             0,
             "#0d0887"
            ],
            [
             0.1111111111111111,
             "#46039f"
            ],
            [
             0.2222222222222222,
             "#7201a8"
            ],
            [
             0.3333333333333333,
             "#9c179e"
            ],
            [
             0.4444444444444444,
             "#bd3786"
            ],
            [
             0.5555555555555556,
             "#d8576b"
            ],
            [
             0.6666666666666666,
             "#ed7953"
            ],
            [
             0.7777777777777778,
             "#fb9f3a"
            ],
            [
             0.8888888888888888,
             "#fdca26"
            ],
            [
             1,
             "#f0f921"
            ]
           ]
          },
          "colorway": [
           "#636efa",
           "#EF553B",
           "#00cc96",
           "#ab63fa",
           "#FFA15A",
           "#19d3f3",
           "#FF6692",
           "#B6E880",
           "#FF97FF",
           "#FECB52"
          ],
          "font": {
           "color": "#2a3f5f"
          },
          "geo": {
           "bgcolor": "white",
           "lakecolor": "white",
           "landcolor": "#E5ECF6",
           "showlakes": true,
           "showland": true,
           "subunitcolor": "white"
          },
          "hoverlabel": {
           "align": "left"
          },
          "hovermode": "closest",
          "mapbox": {
           "style": "light"
          },
          "paper_bgcolor": "white",
          "plot_bgcolor": "#E5ECF6",
          "polar": {
           "angularaxis": {
            "gridcolor": "white",
            "linecolor": "white",
            "ticks": ""
           },
           "bgcolor": "#E5ECF6",
           "radialaxis": {
            "gridcolor": "white",
            "linecolor": "white",
            "ticks": ""
           }
          },
          "scene": {
           "xaxis": {
            "backgroundcolor": "#E5ECF6",
            "gridcolor": "white",
            "gridwidth": 2,
            "linecolor": "white",
            "showbackground": true,
            "ticks": "",
            "zerolinecolor": "white"
           },
           "yaxis": {
            "backgroundcolor": "#E5ECF6",
            "gridcolor": "white",
            "gridwidth": 2,
            "linecolor": "white",
            "showbackground": true,
            "ticks": "",
            "zerolinecolor": "white"
           },
           "zaxis": {
            "backgroundcolor": "#E5ECF6",
            "gridcolor": "white",
            "gridwidth": 2,
            "linecolor": "white",
            "showbackground": true,
            "ticks": "",
            "zerolinecolor": "white"
           }
          },
          "shapedefaults": {
           "line": {
            "color": "#2a3f5f"
           }
          },
          "ternary": {
           "aaxis": {
            "gridcolor": "white",
            "linecolor": "white",
            "ticks": ""
           },
           "baxis": {
            "gridcolor": "white",
            "linecolor": "white",
            "ticks": ""
           },
           "bgcolor": "#E5ECF6",
           "caxis": {
            "gridcolor": "white",
            "linecolor": "white",
            "ticks": ""
           }
          },
          "title": {
           "x": 0.05
          },
          "xaxis": {
           "automargin": true,
           "gridcolor": "white",
           "linecolor": "white",
           "ticks": "",
           "zerolinecolor": "white",
           "zerolinewidth": 2
          },
          "yaxis": {
           "automargin": true,
           "gridcolor": "white",
           "linecolor": "white",
           "ticks": "",
           "zerolinecolor": "white",
           "zerolinewidth": 2
          }
         }
        }
       }
      },
      "text/html": [
       "<div>\n",
       "        \n",
       "        \n",
       "            <div id=\"c0867e49-2e66-495b-af0a-bd48b05f64f4\" class=\"plotly-graph-div\" style=\"height:525px; width:100%;\"></div>\n",
       "            <script type=\"text/javascript\">\n",
       "                require([\"plotly\"], function(Plotly) {\n",
       "                    window.PLOTLYENV=window.PLOTLYENV || {};\n",
       "                    \n",
       "                if (document.getElementById(\"c0867e49-2e66-495b-af0a-bd48b05f64f4\")) {\n",
       "                    Plotly.newPlot(\n",
       "                        'c0867e49-2e66-495b-af0a-bd48b05f64f4',\n",
       "                        [{\"mode\": \"markers\", \"type\": \"scatter\", \"x\": [\"Bangalore- Karnataka\", \"Mahuva(Station Road)- Gujarat\", \"Hyderabad (F&V)- Telangana\", \"Bhavnagar- Gujarat\", \"Pimpalgaon- Maharashtra\", \"Hubli (Amaragol)- Karnataka\", \"Solapur- Maharashtra\", \"Ahmedabad(Chimanbhai Patal Market Vasana)- Gujarat\", \"Pune- Maharashtra\", \"Lasalgaon- Maharashtra\", \"Yeola- Maharashtra\", \"Azadpur- NCT of Delhi\", \"Newasa(Ghodegaon)- Maharashtra\", \"Vashi New Mumbai- Maharashtra\", \"Malegaon(Umarane)- Maharashtra\", \"Belgaum- Karnataka\", \"Manmad- Maharashtra\", \"Indore(F&V)- Madhya Pradesh\", \"Ahmednagar- Maharashtra\", \"Kolhapur- Maharashtra\", \"Sangamner- Maharashtra\", \"Gondal- Gujarat\", \"Satana- Maharashtra\", \"Chandvad- Maharashtra\", \"Malegaon- Maharashtra\"], \"y\": [3632146.0, 986906.300000001, 491479.0999999995, 407057.9000000001, 393943.0, 386681.0, 380507.0, 337864.1000000002, 337527.0, 303361.0, 300078.0, 292410.9, 270914.0, 254274.0, 229843.0, 219644.0, 183866.0, 182773.2000000001, 182632.0, 160906.0, 159173.0, 155995.30000000002, 147174.0, 146536.0, 142685.0]}],\n",
       "                        {\"template\": {\"data\": {\"bar\": [{\"error_x\": {\"color\": \"#2a3f5f\"}, \"error_y\": {\"color\": \"#2a3f5f\"}, \"marker\": {\"line\": {\"color\": \"#E5ECF6\", \"width\": 0.5}}, \"type\": \"bar\"}], \"barpolar\": [{\"marker\": {\"line\": {\"color\": \"#E5ECF6\", \"width\": 0.5}}, \"type\": \"barpolar\"}], \"carpet\": [{\"aaxis\": {\"endlinecolor\": \"#2a3f5f\", \"gridcolor\": \"white\", \"linecolor\": \"white\", \"minorgridcolor\": \"white\", \"startlinecolor\": \"#2a3f5f\"}, \"baxis\": {\"endlinecolor\": \"#2a3f5f\", \"gridcolor\": \"white\", \"linecolor\": \"white\", \"minorgridcolor\": \"white\", \"startlinecolor\": \"#2a3f5f\"}, \"type\": \"carpet\"}], \"choropleth\": [{\"colorbar\": {\"outlinewidth\": 0, \"ticks\": \"\"}, \"type\": \"choropleth\"}], \"contour\": [{\"colorbar\": {\"outlinewidth\": 0, \"ticks\": \"\"}, \"colorscale\": [[0.0, \"#0d0887\"], [0.1111111111111111, \"#46039f\"], [0.2222222222222222, \"#7201a8\"], [0.3333333333333333, \"#9c179e\"], [0.4444444444444444, \"#bd3786\"], [0.5555555555555556, \"#d8576b\"], [0.6666666666666666, \"#ed7953\"], [0.7777777777777778, \"#fb9f3a\"], [0.8888888888888888, \"#fdca26\"], [1.0, \"#f0f921\"]], \"type\": \"contour\"}], \"contourcarpet\": [{\"colorbar\": {\"outlinewidth\": 0, \"ticks\": \"\"}, \"type\": \"contourcarpet\"}], \"heatmap\": [{\"colorbar\": {\"outlinewidth\": 0, \"ticks\": \"\"}, \"colorscale\": [[0.0, \"#0d0887\"], [0.1111111111111111, \"#46039f\"], [0.2222222222222222, \"#7201a8\"], [0.3333333333333333, \"#9c179e\"], [0.4444444444444444, \"#bd3786\"], [0.5555555555555556, \"#d8576b\"], [0.6666666666666666, \"#ed7953\"], [0.7777777777777778, \"#fb9f3a\"], [0.8888888888888888, \"#fdca26\"], [1.0, \"#f0f921\"]], \"type\": \"heatmap\"}], \"heatmapgl\": [{\"colorbar\": {\"outlinewidth\": 0, \"ticks\": \"\"}, \"colorscale\": [[0.0, \"#0d0887\"], [0.1111111111111111, \"#46039f\"], [0.2222222222222222, \"#7201a8\"], [0.3333333333333333, \"#9c179e\"], [0.4444444444444444, \"#bd3786\"], [0.5555555555555556, \"#d8576b\"], [0.6666666666666666, \"#ed7953\"], [0.7777777777777778, \"#fb9f3a\"], [0.8888888888888888, \"#fdca26\"], [1.0, \"#f0f921\"]], \"type\": \"heatmapgl\"}], \"histogram\": [{\"marker\": {\"colorbar\": {\"outlinewidth\": 0, \"ticks\": \"\"}}, \"type\": \"histogram\"}], \"histogram2d\": [{\"colorbar\": {\"outlinewidth\": 0, \"ticks\": \"\"}, \"colorscale\": [[0.0, \"#0d0887\"], [0.1111111111111111, \"#46039f\"], [0.2222222222222222, \"#7201a8\"], [0.3333333333333333, \"#9c179e\"], [0.4444444444444444, \"#bd3786\"], [0.5555555555555556, \"#d8576b\"], [0.6666666666666666, \"#ed7953\"], [0.7777777777777778, \"#fb9f3a\"], [0.8888888888888888, \"#fdca26\"], [1.0, \"#f0f921\"]], \"type\": \"histogram2d\"}], \"histogram2dcontour\": [{\"colorbar\": {\"outlinewidth\": 0, \"ticks\": \"\"}, \"colorscale\": [[0.0, \"#0d0887\"], [0.1111111111111111, \"#46039f\"], [0.2222222222222222, \"#7201a8\"], [0.3333333333333333, \"#9c179e\"], [0.4444444444444444, \"#bd3786\"], [0.5555555555555556, \"#d8576b\"], [0.6666666666666666, \"#ed7953\"], [0.7777777777777778, \"#fb9f3a\"], [0.8888888888888888, \"#fdca26\"], [1.0, \"#f0f921\"]], \"type\": \"histogram2dcontour\"}], \"mesh3d\": [{\"colorbar\": {\"outlinewidth\": 0, \"ticks\": \"\"}, \"type\": \"mesh3d\"}], \"parcoords\": [{\"line\": {\"colorbar\": {\"outlinewidth\": 0, \"ticks\": \"\"}}, \"type\": \"parcoords\"}], \"scatter\": [{\"marker\": {\"colorbar\": {\"outlinewidth\": 0, \"ticks\": \"\"}}, \"type\": \"scatter\"}], \"scatter3d\": [{\"line\": {\"colorbar\": {\"outlinewidth\": 0, \"ticks\": \"\"}}, \"marker\": {\"colorbar\": {\"outlinewidth\": 0, \"ticks\": \"\"}}, \"type\": \"scatter3d\"}], \"scattercarpet\": [{\"marker\": {\"colorbar\": {\"outlinewidth\": 0, \"ticks\": \"\"}}, \"type\": \"scattercarpet\"}], \"scattergeo\": [{\"marker\": {\"colorbar\": {\"outlinewidth\": 0, \"ticks\": \"\"}}, \"type\": \"scattergeo\"}], \"scattergl\": [{\"marker\": {\"colorbar\": {\"outlinewidth\": 0, \"ticks\": \"\"}}, \"type\": \"scattergl\"}], \"scattermapbox\": [{\"marker\": {\"colorbar\": {\"outlinewidth\": 0, \"ticks\": \"\"}}, \"type\": \"scattermapbox\"}], \"scatterpolar\": [{\"marker\": {\"colorbar\": {\"outlinewidth\": 0, \"ticks\": \"\"}}, \"type\": \"scatterpolar\"}], \"scatterpolargl\": [{\"marker\": {\"colorbar\": {\"outlinewidth\": 0, \"ticks\": \"\"}}, \"type\": \"scatterpolargl\"}], \"scatterternary\": [{\"marker\": {\"colorbar\": {\"outlinewidth\": 0, \"ticks\": \"\"}}, \"type\": \"scatterternary\"}], \"surface\": [{\"colorbar\": {\"outlinewidth\": 0, \"ticks\": \"\"}, \"colorscale\": [[0.0, \"#0d0887\"], [0.1111111111111111, \"#46039f\"], [0.2222222222222222, \"#7201a8\"], [0.3333333333333333, \"#9c179e\"], [0.4444444444444444, \"#bd3786\"], [0.5555555555555556, \"#d8576b\"], [0.6666666666666666, \"#ed7953\"], [0.7777777777777778, \"#fb9f3a\"], [0.8888888888888888, \"#fdca26\"], [1.0, \"#f0f921\"]], \"type\": \"surface\"}], \"table\": [{\"cells\": {\"fill\": {\"color\": \"#EBF0F8\"}, \"line\": {\"color\": \"white\"}}, \"header\": {\"fill\": {\"color\": \"#C8D4E3\"}, \"line\": {\"color\": \"white\"}}, \"type\": \"table\"}]}, \"layout\": {\"annotationdefaults\": {\"arrowcolor\": \"#2a3f5f\", \"arrowhead\": 0, \"arrowwidth\": 1}, \"colorscale\": {\"diverging\": [[0, \"#8e0152\"], [0.1, \"#c51b7d\"], [0.2, \"#de77ae\"], [0.3, \"#f1b6da\"], [0.4, \"#fde0ef\"], [0.5, \"#f7f7f7\"], [0.6, \"#e6f5d0\"], [0.7, \"#b8e186\"], [0.8, \"#7fbc41\"], [0.9, \"#4d9221\"], [1, \"#276419\"]], \"sequential\": [[0.0, \"#0d0887\"], [0.1111111111111111, \"#46039f\"], [0.2222222222222222, \"#7201a8\"], [0.3333333333333333, \"#9c179e\"], [0.4444444444444444, \"#bd3786\"], [0.5555555555555556, \"#d8576b\"], [0.6666666666666666, \"#ed7953\"], [0.7777777777777778, \"#fb9f3a\"], [0.8888888888888888, \"#fdca26\"], [1.0, \"#f0f921\"]], \"sequentialminus\": [[0.0, \"#0d0887\"], [0.1111111111111111, \"#46039f\"], [0.2222222222222222, \"#7201a8\"], [0.3333333333333333, \"#9c179e\"], [0.4444444444444444, \"#bd3786\"], [0.5555555555555556, \"#d8576b\"], [0.6666666666666666, \"#ed7953\"], [0.7777777777777778, \"#fb9f3a\"], [0.8888888888888888, \"#fdca26\"], [1.0, \"#f0f921\"]]}, \"colorway\": [\"#636efa\", \"#EF553B\", \"#00cc96\", \"#ab63fa\", \"#FFA15A\", \"#19d3f3\", \"#FF6692\", \"#B6E880\", \"#FF97FF\", \"#FECB52\"], \"font\": {\"color\": \"#2a3f5f\"}, \"geo\": {\"bgcolor\": \"white\", \"lakecolor\": \"white\", \"landcolor\": \"#E5ECF6\", \"showlakes\": true, \"showland\": true, \"subunitcolor\": \"white\"}, \"hoverlabel\": {\"align\": \"left\"}, \"hovermode\": \"closest\", \"mapbox\": {\"style\": \"light\"}, \"paper_bgcolor\": \"white\", \"plot_bgcolor\": \"#E5ECF6\", \"polar\": {\"angularaxis\": {\"gridcolor\": \"white\", \"linecolor\": \"white\", \"ticks\": \"\"}, \"bgcolor\": \"#E5ECF6\", \"radialaxis\": {\"gridcolor\": \"white\", \"linecolor\": \"white\", \"ticks\": \"\"}}, \"scene\": {\"xaxis\": {\"backgroundcolor\": \"#E5ECF6\", \"gridcolor\": \"white\", \"gridwidth\": 2, \"linecolor\": \"white\", \"showbackground\": true, \"ticks\": \"\", \"zerolinecolor\": \"white\"}, \"yaxis\": {\"backgroundcolor\": \"#E5ECF6\", \"gridcolor\": \"white\", \"gridwidth\": 2, \"linecolor\": \"white\", \"showbackground\": true, \"ticks\": \"\", \"zerolinecolor\": \"white\"}, \"zaxis\": {\"backgroundcolor\": \"#E5ECF6\", \"gridcolor\": \"white\", \"gridwidth\": 2, \"linecolor\": \"white\", \"showbackground\": true, \"ticks\": \"\", \"zerolinecolor\": \"white\"}}, \"shapedefaults\": {\"line\": {\"color\": \"#2a3f5f\"}}, \"ternary\": {\"aaxis\": {\"gridcolor\": \"white\", \"linecolor\": \"white\", \"ticks\": \"\"}, \"baxis\": {\"gridcolor\": \"white\", \"linecolor\": \"white\", \"ticks\": \"\"}, \"bgcolor\": \"#E5ECF6\", \"caxis\": {\"gridcolor\": \"white\", \"linecolor\": \"white\", \"ticks\": \"\"}}, \"title\": {\"x\": 0.05}, \"xaxis\": {\"automargin\": true, \"gridcolor\": \"white\", \"linecolor\": \"white\", \"ticks\": \"\", \"zerolinecolor\": \"white\", \"zerolinewidth\": 2}, \"yaxis\": {\"automargin\": true, \"gridcolor\": \"white\", \"linecolor\": \"white\", \"ticks\": \"\", \"zerolinecolor\": \"white\", \"zerolinewidth\": 2}}}},\n",
       "                        {\"responsive\": true}\n",
       "                    ).then(function(){\n",
       "                            \n",
       "var gd = document.getElementById('c0867e49-2e66-495b-af0a-bd48b05f64f4');\n",
       "var x = new MutationObserver(function (mutations, observer) {{\n",
       "        var display = window.getComputedStyle(gd).display;\n",
       "        if (!display || display === 'none') {{\n",
       "            console.log([gd, 'removed!']);\n",
       "            Plotly.purge(gd);\n",
       "            observer.disconnect();\n",
       "        }}\n",
       "}});\n",
       "\n",
       "// Listen for the removal of the full notebook cells\n",
       "var notebookContainer = gd.closest('#notebook-container');\n",
       "if (notebookContainer) {{\n",
       "    x.observe(notebookContainer, {childList: true});\n",
       "}}\n",
       "\n",
       "// Listen for the clearing of the current output cell\n",
       "var outputEl = gd.closest('.output');\n",
       "if (outputEl) {{\n",
       "    x.observe(outputEl, {childList: true});\n",
       "}}\n",
       "\n",
       "                        })\n",
       "                };\n",
       "                });\n",
       "            </script>\n",
       "        </div>"
      ]
     },
     "metadata": {},
     "output_type": "display_data"
    }
   ],
   "source": [
    "iplot([go.Scatter(x=result['market-state'], y= result['Qtity'], mode='markers')])"
   ]
  },
  {
   "cell_type": "code",
   "execution_count": 78,
   "metadata": {},
   "outputs": [
    {
     "data": {
      "application/vnd.plotly.v1+json": {
       "config": {
        "linkText": "Export to plot.ly",
        "plotlyServerURL": "https://plot.ly",
        "showLink": false
       },
       "data": [
        {
         "mode": "markers",
         "type": "scatter",
         "x": [
          "Diglipur- Andaman and Nicobar",
          "Eluru- Andhra Pradesh",
          "Eluru(P.Sri.Mkt),RBZ- Andhra Pradesh",
          "Eluru-II,RBZ- Andhra Pradesh",
          "Ichapuram- Andhra Pradesh",
          "Kovvur- Andhra Pradesh",
          "Kurnool- Andhra Pradesh",
          "Mylavaram- Andhra Pradesh",
          "Ongole(Rythu Bazar)- Andhra Pradesh",
          "Pattikonda- Andhra Pradesh",
          "Rajam- Andhra Pradesh",
          "Rajampet- Andhra Pradesh",
          "Tadepalligudem- Andhra Pradesh",
          "Visakhapatnam- Andhra Pradesh",
          "Bohorihat- Assam",
          "Bongiagaon- Assam",
          "Dhekiajuli- Assam",
          "Dhing- Assam",
          "Dibrugarh- Assam",
          "Gauripur- Assam",
          "Golaghat- Assam",
          "Goreswar- Assam",
          "Howly- Assam",
          "Jorhat- Assam",
          "Lanka- Assam",
          "P.O. Uparhali Guwahati- Assam",
          "Srirampur- Assam",
          "Tinsukia- Assam",
          "Chandigarh(Grain/Fruit)- Chandigarh",
          "Durg- Chattisgarh",
          "Narayanpur- Chattisgarh",
          "Raigarh- Chattisgarh",
          "Rajnandgaon- Chattisgarh",
          "Tiphra- Chattisgarh",
          "Mapusa- Goa",
          "Ahmedabad(Chimanbhai Patal Market Vasana)- Gujarat",
          "Anand(Veg,Yard,Anand)- Gujarat",
          "Bharuch- Gujarat",
          "Bhavnagar- Gujarat",
          "Bilimora- Gujarat",
          "Dahod(Veg. Market)- Gujarat",
          "Deesa(Deesa Veg Yard)- Gujarat",
          "Dholka(Koth)- Gujarat",
          "Dhoraji- Gujarat",
          "Gondal- Gujarat",
          "Jamnagar- Gujarat",
          "Jetpur(Dist.Rajkot)- Gujarat",
          "Kapadvanj- Gujarat",
          "Khambhat(Veg Yard Khambhat)- Gujarat",
          "Mahuva(Station Road)- Gujarat",
          "Mehsana(Mehsana Veg)- Gujarat",
          "Morbi- Gujarat",
          "Nadiad- Gujarat",
          "Nadiyad(Piplag)- Gujarat",
          "Padra- Gujarat",
          "Palitana- Gujarat",
          "Patan(Veg,Yard Patan)- Gujarat",
          "Porbandar- Gujarat",
          "Rajkot- Gujarat",
          "Rajkot(Ghee Peeth)- Gujarat",
          "Surat- Gujarat",
          "Taleja- Gujarat",
          "Vadhvan- Gujarat",
          "Vadodara(Sayajipura)- Gujarat",
          "Vijapur(veg)- Gujarat",
          "Visavadar- Gujarat",
          "Ambala Cantt.- Haryana",
          "Ambala City- Haryana",
          "Asandh- Haryana",
          "Ateli- Haryana",
          "Babain- Haryana",
          "Ballabhgarh- Haryana",
          "Bapauli- Haryana",
          "Barara- Haryana",
          "Barwala- Haryana",
          "Barwala(Hisar)- Haryana",
          "Bhiwani- Haryana",
          "Chhachrauli- Haryana",
          "Dabwali- Haryana",
          "Dhand- Haryana",
          "Ellanabad- Haryana",
          "Faridabad- Haryana",
          "Farukh Nagar- Haryana",
          "Fatehabad- Haryana",
          "Ganaur- Haryana",
          "Gharaunda- Haryana",
          "Gohana- Haryana",
          "Gurgaon- Haryana",
          "Hansi- Haryana",
          "Hassanpur- Haryana",
          "Hissar- Haryana",
          "Hodal- Haryana",
          "Iamailabad- Haryana",
          "Jagadhri- Haryana",
          "Jakhal- Haryana",
          "Jhajjar- Haryana",
          "Jind- Haryana",
          "Kalayat- Haryana",
          "Khanina- Haryana",
          "Kosli- Haryana",
          "Ladwa- Haryana",
          "Loharu- Haryana",
          "Madlauda- Haryana",
          "Meham- Haryana",
          "Mohindergarh- Haryana",
          "Mullana- Haryana",
          "Mustafabad- Haryana",
          "Naraingarh- Haryana",
          "Narnaul- Haryana",
          "Narnaund- Haryana",
          "Narwana- Haryana",
          "New Grain Market(main), Karnal- Haryana",
          "Nilokheri- Haryana",
          "Nissing- Haryana",
          "Nuh- Haryana",
          "Panchkul(Kalka)- Haryana",
          "Panipat- Haryana",
          "Pataudi- Haryana",
          "Pehowa- Haryana",
          "Pipli- Haryana",
          "Radaur- Haryana",
          "Raipur Rai- Haryana",
          "Rania- Haryana",
          "Rania(Jiwan nagar)- Haryana",
          "Ratia- Haryana",
          "Rewari- Haryana",
          "Sadhaura- Haryana",
          "Safidon- Haryana",
          "Sampla- Haryana",
          "Shahabad- Haryana",
          "Shahzadpur- Haryana",
          "Sirsa- Haryana",
          "Siwan- Haryana",
          "Sohna- Haryana",
          "Sonepat- Haryana",
          "Sonepat(Kharkhoda)- Haryana",
          "Tarori- Haryana",
          "Taura- Haryana",
          "Thanesar- Haryana",
          "Tohana(New Veg Market)- Haryana",
          "Uklana- Haryana",
          "Yamuna Nagar- Haryana",
          "kalanwali- Haryana",
          "Bhuntar- Himachal Pradesh",
          "Bilaspur- Himachal Pradesh",
          "Chail Chowk- Himachal Pradesh",
          "Chamba- Himachal Pradesh",
          "Dhanotu (Mandi)- Himachal Pradesh",
          "Hamirpur- Himachal Pradesh",
          "Hamirpur(Nadaun)- Himachal Pradesh",
          "Kangra- Himachal Pradesh",
          "Kullu- Himachal Pradesh",
          "Kullu(Chauri Bihal)- Himachal Pradesh",
          "Mandi(Mandi)- Himachal Pradesh",
          "Mandi(Takoli)- Himachal Pradesh",
          "Nahan- Himachal Pradesh",
          "Paonta Sahib- Himachal Pradesh",
          "Solan- Himachal Pradesh",
          "Una- Himachal Pradesh",
          "Akhnoor- Jammu and Kashmir",
          "Batote- Jammu and Kashmir",
          "Kathua- Jammu and Kashmir",
          "Narwal Jammu (F&V)- Jammu and Kashmir",
          "Parimpore- Jammu and Kashmir",
          "Rajouri (F&V)- Jammu and Kashmir",
          "Reasi- Jammu and Kashmir",
          "Samba- Jammu and Kashmir",
          "Udhampur- Jammu and Kashmir",
          "Giridih- Jharkhand",
          "Hazaribagh- Jharkhand",
          "Jamtara- Jharkhand",
          "Koderma- Jharkhand",
          "Lohardaga- Jharkhand",
          "Pakur- Jharkhand",
          "Ramgarh- Jharkhand",
          "Sahebganj- Jharkhand",
          "Simdega- Jharkhand",
          "Arasikere- Karnataka",
          "Bagalakot- Karnataka",
          "Bagepalli- Karnataka",
          "Bangalore- Karnataka",
          "Bangarpet- Karnataka",
          "Belgaum- Karnataka",
          "Bidar- Karnataka",
          "Bijapur- Karnataka",
          "Chamaraj Nagar- Karnataka",
          "Chickkaballapura- Karnataka",
          "Chikkamagalore- Karnataka",
          "Chintamani- Karnataka",
          "Davangere- Karnataka",
          "Gadag- Karnataka",
          "Gowribidanoor- Karnataka",
          "Gundlupet- Karnataka",
          "Hassan- Karnataka",
          "Haveri- Karnataka",
          "Holalkere- Karnataka",
          "Hoskote- Karnataka",
          "Hospet- Karnataka",
          "Hubli (Amaragol)- Karnataka",
          "Jamakhandi- Karnataka",
          "K.R. Pet- Karnataka",
          "Kanakapura- Karnataka",
          "Kolar- Karnataka",
          "Malur- Karnataka",
          "Mulabagilu- Karnataka",
          "Mysore (Bandipalya)- Karnataka",
          "Raichur- Karnataka",
          "Ramanagara- Karnataka",
          "Ranebennur- Karnataka",
          "Shimoga- Karnataka",
          "Sirsi- Karnataka",
          "Somvarpet- Karnataka",
          "Srinivasapur- Karnataka",
          "Tarikere- Karnataka",
          "Tumkur- Karnataka",
          "Udupi- Karnataka",
          "Alappuzha- Kerala",
          "Aluva- Kerala",
          "Anchal- Kerala",
          "Angamaly- Kerala",
          "Aralamoodu- Kerala",
          "Aroor- Kerala",
          "Athirampuzha- Kerala",
          "Chala- Kerala",
          "Chalakudy- Kerala",
          "Chathanoor- Kerala",
          "Chavakkad- Kerala",
          "Chelakkara- Kerala",
          "Chengannur- Kerala",
          "Cherthala- Kerala",
          "Ernakulam- Kerala",
          "Ettumanoor- Kerala",
          "Harippad- Kerala",
          "Irinjalakkuda- Kerala",
          "Kallachi- Kerala",
          "Kanjangadu- Kerala",
          "Kanjirappally- Kerala",
          "Kannur- Kerala",
          "Kattappana- Kerala",
          "Kayamkulam- Kerala",
          "Kodungalloor- Kerala",
          "Koduvayoor- Kerala",
          "Kollam- Kerala",
          "Kollengode- Kerala",
          "Kondotty- Kerala",
          "Kothamangalam- Kerala",
          "Kottakkal- Kerala",
          "Kottarakkara- Kerala",
          "Kottayam- Kerala",
          "Kuruppanthura- Kerala",
          "Madhavapuram- Kerala",
          "Manjeri- Kerala",
          "Mannar- Kerala",
          "Moovattupuzha- Kerala",
          "Mukkom- Kerala",
          "Munnar- Kerala",
          "Nedumkandam- Kerala",
          "Neeleswaram- Kerala",
          "Pala- Kerala",
          "Palakkad- Kerala",
          "Palayam- Kerala",
          "Pampady- Kerala",
          "Parappanangadi- Kerala",
          "Parassala- Kerala",
          "Pattambi- Kerala",
          "Perambra- Kerala",
          "Perinthalmanna- Kerala",
          "Perumbavoor- Kerala",
          "Piravam- Kerala",
          "Pothencode- Kerala",
          "Punalur- Kerala",
          "Quilandy- Kerala",
          "Sasthamkotta- Kerala",
          "Thalayolaparambu- Kerala",
          "Thamarassery- Kerala",
          "Thirurrangadi- Kerala",
          "Thodupuzha- Kerala",
          "Thrippunithura- Kerala",
          "Thrissur- Kerala",
          "Vadakkenchery- Kerala",
          "Vamanapuram- Kerala",
          "Vandiperiyar- Kerala",
          "Vengeri(Kozhikode)- Kerala",
          "Wadakkanchery- Kerala",
          "vadakarapathy- Kerala",
          "Badnawar(F&V)- Madhya Pradesh",
          "Bhopal(F&V)- Madhya Pradesh",
          "Burhanpur(F&V)- Madhya Pradesh",
          "Chhindwara(F&V)- Madhya Pradesh",
          "Damoh(F&V)- Madhya Pradesh",
          "Deori- Madhya Pradesh",
          "Dewas(F&V)- Madhya Pradesh",
          "Dhamnod- Madhya Pradesh",
          "Guna(F&V)- Madhya Pradesh",
          "Haatpipliya- Madhya Pradesh",
          "Harda(F&V)- Madhya Pradesh",
          "Hoshangabad- Madhya Pradesh",
          "Indore(F&V)- Madhya Pradesh",
          "Jabalpur(F&V)- Madhya Pradesh",
          "Javad- Madhya Pradesh",
          "Jhabua- Madhya Pradesh",
          "Kalapipal- Madhya Pradesh",
          "Khandwa(F&V)- Madhya Pradesh",
          "Lashkar(F&V)- Madhya Pradesh",
          "Mahidpur- Madhya Pradesh",
          "Manasa- Madhya Pradesh",
          "Mandsaur(F&V)- Madhya Pradesh",
          "Morena(F&V)- Madhya Pradesh",
          "Narsinghgarh- Madhya Pradesh",
          "Neemuch- Madhya Pradesh",
          "Petlawad- Madhya Pradesh",
          "Rajgarh- Madhya Pradesh",
          "Ratlam- Madhya Pradesh",
          "Ratlam(F&V)- Madhya Pradesh",
          "Sagar(F&V)- Madhya Pradesh",
          "Sailana- Madhya Pradesh",
          "Sanwer- Madhya Pradesh",
          "Satna(F&V)- Madhya Pradesh",
          "Sehore- Madhya Pradesh",
          "Shajapur(F&V)- Madhya Pradesh",
          "Shamgarh(F&V)- Madhya Pradesh",
          "Shivpuri- Madhya Pradesh",
          "Shivpuri(F&V)- Madhya Pradesh",
          "Shujalpur- Madhya Pradesh",
          "Syopurkalan(F&V)- Madhya Pradesh",
          "Thandla- Madhya Pradesh",
          "Ujjain(F&V)- Madhya Pradesh",
          "Ahmednagar- Maharashtra",
          "Akluj- Maharashtra",
          "Akole- Maharashtra",
          "Amalner- Maharashtra",
          "Amarawati- Maharashtra",
          "Amrawati(Frui & Veg. Market)- Maharashtra",
          "Aurangabad- Maharashtra",
          "Baramati- Maharashtra",
          "Barshi- Maharashtra",
          "Bhivandi- Maharashtra",
          "Chalisgaon- Maharashtra",
          "Chandrapur- Maharashtra",
          "Chandrapur(Ganjwad)- Maharashtra",
          "Chandvad- Maharashtra",
          "Devala- Maharashtra",
          "Dhule- Maharashtra",
          "Dindori- Maharashtra",
          "Dindori(Vani)- Maharashtra",
          "Gangapur- Maharashtra",
          "Indapur- Maharashtra",
          "Jalgaon- Maharashtra",
          "Jamkhed- Maharashtra",
          "Junnar- Maharashtra",
          "Junnar(Alephata)- Maharashtra",
          "Junnar(Otur)- Maharashtra",
          "Kada- Maharashtra",
          "Kalvan- Maharashtra",
          "Kamthi- Maharashtra",
          "Karad- Maharashtra",
          "Karjat(Raigad)- Maharashtra",
          "Khed(Chakan)- Maharashtra",
          "Kolhapur- Maharashtra",
          "Kopargaon- Maharashtra",
          "Koregaon- Maharashtra",
          "Kurdwadi- Maharashtra",
          "Kurdwadi(Modnimb)- Maharashtra",
          "Lasalgaon- Maharashtra",
          "Lasalgaon(Niphad)- Maharashtra",
          "Lasur Station- Maharashtra",
          "Lonand- Maharashtra",
          "Maanachar- Maharashtra",
          "Malegaon- Maharashtra",
          "Malegaon(Umarane)- Maharashtra",
          "Malkapur- Maharashtra",
          "Mangal Wedha- Maharashtra",
          "Manmad- Maharashtra",
          "Mulshi- Maharashtra",
          "Mumbai- Maharashtra",
          "Nagpur- Maharashtra",
          "Nandgaon- Maharashtra",
          "Nandura- Maharashtra",
          "Nasik- Maharashtra",
          "Navapur- Maharashtra",
          "Newasa(Ghodegaon)- Maharashtra",
          "Osmanabad- Maharashtra",
          "Paithan- Maharashtra",
          "Palghar- Maharashtra",
          "Palthan- Maharashtra",
          "Palus- Maharashtra",
          "Pandharpur- Maharashtra",
          "Paranda- Maharashtra",
          "Parner- Maharashtra",
          "Pathardi- Maharashtra",
          "Pimpalgaon- Maharashtra",
          "Pimpalgaon Baswant(Saykheda)- Maharashtra",
          "Pune- Maharashtra",
          "Pune(Hadapsar)- Maharashtra",
          "Pune(Pimpri)- Maharashtra",
          "Rahata- Maharashtra",
          "Rahuri- Maharashtra",
          "Rahuri(Vambori)- Maharashtra",
          "Ramtek- Maharashtra",
          "Sakri- Maharashtra",
          "Sangamner- Maharashtra",
          "Sangli(Phale, Bhajipura Market)- Maharashtra",
          "Satana- Maharashtra",
          "Satara- Maharashtra",
          "Shevgaon- Maharashtra",
          "Shirpur- Maharashtra",
          "Shrigonda- Maharashtra",
          "Shrirampur- Maharashtra",
          "Sinner- Maharashtra",
          "Solapur- Maharashtra",
          "Ulhasnagar- Maharashtra",
          "Vai- Maharashtra",
          "Vaijpur- Maharashtra",
          "Vasai- Maharashtra",
          "Vashi New Mumbai- Maharashtra",
          "Vita- Maharashtra",
          "Yawal- Maharashtra",
          "Yeola- Maharashtra",
          "Bishenpur- Manipur",
          "Imphal- Manipur",
          "Lamlong Bazaar- Manipur",
          "Moreh- Manipur",
          "Thoubal- Manipur",
          "Ampati- Meghalaya",
          "Dadengiri- Meghalaya",
          "Garobadha- Meghalaya",
          "New Market Aizawl- Mizoram",
          "Super Market Lungli (Bara Bazar)- Mizoram",
          "Azadpur- NCT of Delhi",
          "Keshopur- NCT of Delhi",
          "Shahdara- NCT of Delhi",
          "Mokokchung Town- Nagaland",
          "Aiginia Mandi- Odisha",
          "Angaura- Odisha",
          "Angul- Odisha",
          "Angul(Atthamallick)- Odisha",
          "Angul(Jarapada)- Odisha",
          "Athagarh- Odisha",
          "Attabira- Odisha",
          "Bahadajholla- Odisha",
          "Balugaon- Odisha",
          "Bampada- Odisha",
          "Banki- Odisha",
          "Bargarh- Odisha",
          "Bargarh(Barapalli)- Odisha",
          "Barikpur- Odisha",
          "Baripada- Odisha",
          "Betnoti- Odisha",
          "Bhadrak- Odisha",
          "Bhanjanagar- Odisha",
          "Bhawanipatna- Odisha",
          "Birmaharajpur- Odisha",
          "Bolangir- Odisha",
          "Bonai- Odisha",
          "Boudh- Odisha",
          "Champua- Odisha",
          "Chandabali- Odisha",
          "Chatta Krushak Bazar- Odisha",
          "Damana Hat- Odisha",
          "Deogarh- Odisha",
          "Dhenkanal- Odisha",
          "Digapahandi- Odisha",
          "Dungurapalli- Odisha",
          "Gabadkunda- Odisha",
          "Godabhaga- Odisha",
          "Gopa- Odisha",
          "Hinjilicut- Odisha",
          "Jajpur- Odisha",
          "Jaleswar- Odisha",
          "Jatni- Odisha",
          "Jeypore- Odisha",
          "Jeypore(Kotpad)- Odisha",
          "Jharsuguda- Odisha",
          "Jhumpura- Odisha",
          "Junagarh- Odisha",
          "Kalahandi(Dharamagarh)- Odisha",
          "Kamakhyanagar- Odisha",
          "Kandhamal- Odisha",
          "Kantabaji- Odisha",
          "Kasinagar- Odisha",
          "Kendrapara- Odisha",
          "Kendrapara(Marshaghai)- Odisha",
          "Kendupatna- Odisha",
          "Kendupatna(Niali)- Odisha",
          "Keonjhar(Jhumpura)- Odisha",
          "Kesinga- Odisha",
          "Khariar- Odisha",
          "Khariar Road- Odisha",
          "Khunthabandha- Odisha",
          "Koraput- Odisha",
          "Koraput(Semilguda)- Odisha",
          "Malkanagiri- Odisha",
          "Malkangiri(Korakunda)- Odisha",
          "Mottagaon- Odisha",
          "Mukhiguda- Odisha",
          "Nawarangpur- Odisha",
          "Nilagiri- Odisha",
          "Padampur- Odisha",
          "Panposh- Odisha",
          "Parlakhemundi- Odisha",
          "Pattamundai- Odisha",
          "Puri(Brahmagiri)- Odisha",
          "Rairakhol- Odisha",
          "Rayagada- Odisha",
          "Sahidngar- Odisha",
          "Sakhigopal- Odisha",
          "Sarankul- Odisha",
          "Sargipali- Odisha",
          "Sohela- Odisha",
          "Talcher- Odisha",
          "Tileibani- Odisha",
          "Tusura- Odisha",
          "Udala- Odisha",
          "Abohar- Punjab",
          "Adampur- Punjab",
          "Ajnala- Punjab",
          "Amritsar(Amritsar Mewa Mandi)- Punjab",
          "Anandpur Sahib- Punjab",
          "Baghapurana- Punjab",
          "Balachaur- Punjab",
          "Banga- Punjab",
          "Banur- Punjab",
          "Bariwala- Punjab",
          "Barnala- Punjab",
          "Bassi Pathana- Punjab",
          "Batala- Punjab",
          "Bathinda- Punjab",
          "Bhawanigarh- Punjab",
          "Bhucho- Punjab",
          "Budalada- Punjab",
          "Chamkaur Sahib- Punjab",
          "Dasuya- Punjab",
          "Dera Bassi- Punjab",
          "Dharamkot- Punjab",
          "Dhariwal- Punjab",
          "Dhuri- Punjab",
          "Dinanagar- Punjab",
          "Doraha- Punjab",
          "Dudhansadhan- Punjab",
          "F.G.Churian- Punjab",
          "Faridkot- Punjab",
          "Fazilka- Punjab",
          "Fazilka (Ladhuka)- Punjab",
          "Ferozepur Cantt.- Punjab",
          "Firozepur City- Punjab",
          "Garh Shankar- Punjab",
          "Garh Shankar(Mahalpur)- Punjab",
          "GarhShankar (Kotfatuhi)- Punjab",
          "Gehri(Jandiala mandi)- Punjab",
          "Ghanaur- Punjab",
          "Giddarbaha- Punjab",
          "Goniana- Punjab",
          "Goraya- Punjab",
          "Gurdaspur- Punjab",
          "Guru Har Sahai- Punjab",
          "Hoshiarpur- Punjab",
          "Jagraon- Punjab",
          "Jalalabad- Punjab",
          "Jalandhar City(Jalandhar)- Punjab",
          "Kapurthala- Punjab",
          "Khamano- Punjab",
          "Khanauri- Punjab",
          "Khanna- Punjab",
          "Kharar- Punjab",
          "Kotkapura- Punjab",
          "Kurali- Punjab",
          "Lalru- Punjab",
          "Lehra Gaga- Punjab",
          "Ludhiana- Punjab",
          "Machhiwara- Punjab",
          "Makhu- Punjab",
          "Malerkotla- Punjab",
          "Malout- Punjab",
          "Malout (Kilianwali)- Punjab",
          "Mamdot- Punjab",
          "Mansa- Punjab",
          "Moga- Punjab",
          "Moonak- Punjab",
          "Morinda- Punjab",
          "Mukerian- Punjab",
          "Mukerian(Talwara)- Punjab",
          "Muktsar- Punjab",
          "Nabha- Punjab",
          "Nakodar- Punjab",
          "Nawan Shahar(MandiRaho)- Punjab",
          "Nawan Shahar(Subzi Mandi)- Punjab",
          "Nihal Singh Wala- Punjab",
          "Pathankot- Punjab",
          "Patiala- Punjab",
          "Patran- Punjab",
          "Patti- Punjab",
          "Phagwara- Punjab",
          "Phillaur- Punjab",
          "Phillaur(Apra Mandi)- Punjab",
          "Quadian- Punjab",
          "Raikot- Punjab",
          "Rajpura- Punjab",
          "Raman- Punjab",
          "Rampuraphul(Nabha Mandi)- Punjab",
          "Rayya- Punjab",
          "Ropar- Punjab",
          "Sadiq- Punjab",
          "Sahnewal- Punjab",
          "Samana- Punjab",
          "Samrala- Punjab",
          "Sangrur- Punjab",
          "Sardulgarh- Punjab",
          "Sirhind- Punjab",
          "Sunam- Punjab",
          "Talwandi Bhai- Punjab",
          "Talwandi Sabo- Punjab",
          "Tanda Urmur- Punjab",
          "Tapa- Punjab",
          "Tarantaran- Punjab",
          "Zira- Punjab",
          "Abu Road- Rajasthan",
          "Ajmer(F&V)- Rajasthan",
          "Alwar(FV)- Rajasthan",
          "Bayana- Rajasthan",
          "Bharatpur- Rajasthan",
          "Bikaner(F&V)- Rajasthan",
          "Chittorgarh- Rajasthan",
          "Chomu(F&V)- Rajasthan",
          "Jaipur(F&V)- Rajasthan",
          "Jaisalmer- Rajasthan",
          "Jalore- Rajasthan",
          "Jodhpur(F&V)(Bhadwasia)- Rajasthan",
          "Kota (FV)- Rajasthan",
          "Nadwai- Rajasthan",
          "Nagour(FV)- Rajasthan",
          "Neem Ka Thana- Rajasthan",
          "Pilli Banga- Rajasthan",
          "Pratapgarh- Rajasthan",
          "Sanchor- Rajasthan",
          "Sriganganagar(F&V)- Rajasthan",
          "Udaipur(F&V)- Rajasthan",
          "Bodhan- Telangana",
          "Bowenpally- Telangana",
          "Devarakadra- Telangana",
          "Gudimalkapur- Telangana",
          "Hyderabad (F&V)- Telangana",
          "Jogipet- Telangana",
          "Kalwakurthy- Telangana",
          "Kothagudem- Telangana",
          "Mahbubnagar- Telangana",
          "Marapally- Telangana",
          "Nizamabad- Telangana",
          "Pargi- Telangana",
          "Sadasivpet- Telangana",
          "Sadasivpet(Sangareddy)- Telangana",
          "Sardarnagar- Telangana",
          "Sattupalli- Telangana",
          "Shankarapally- Telangana",
          "Vemulawada- Telangana",
          "Kalyanpur- Tripura",
          "Panisagar- Tripura",
          "Silachhari- Tripura",
          "Teliamura- Tripura",
          "Achalda- Uttar Pradesh",
          "Achnera- Uttar Pradesh",
          "Agra- Uttar Pradesh",
          "Ahirora- Uttar Pradesh",
          "Ajuha- Uttar Pradesh",
          "Akbarpur- Uttar Pradesh",
          "Aliganj- Uttar Pradesh",
          "Aligarh- Uttar Pradesh",
          "Allahabad- Uttar Pradesh",
          "Amroha- Uttar Pradesh",
          "Anandnagar- Uttar Pradesh",
          "Anoop Shahar- Uttar Pradesh",
          "Anwala- Uttar Pradesh",
          "Atarra- Uttar Pradesh",
          "Atrauli- Uttar Pradesh",
          "Auraiya- Uttar Pradesh",
          "Awagarh- Uttar Pradesh",
          "Azamgarh- Uttar Pradesh",
          "Baberu- Uttar Pradesh",
          "Babrala- Uttar Pradesh",
          "Badayoun- Uttar Pradesh",
          "Bahedi- Uttar Pradesh",
          "Bahraich- Uttar Pradesh",
          "Ballia- Uttar Pradesh",
          "Balrampur- Uttar Pradesh",
          "Banda- Uttar Pradesh",
          "Bangarmau- Uttar Pradesh",
          "Banthara- Uttar Pradesh",
          "Barabanki- Uttar Pradesh",
          "Baraut- Uttar Pradesh",
          "Bareilly- Uttar Pradesh",
          "Basti- Uttar Pradesh",
          "Bewar- Uttar Pradesh",
          "Bharthna- Uttar Pradesh",
          "Bharuasumerpur- Uttar Pradesh",
          "Bharwari- Uttar Pradesh",
          "Bhehjoi- Uttar Pradesh",
          "Bijnaur- Uttar Pradesh",
          "Billsadda- Uttar Pradesh",
          "Bilsi- Uttar Pradesh",
          "Bindki- Uttar Pradesh",
          "Buland Shahr- Uttar Pradesh",
          "Chaandpur- Uttar Pradesh",
          "Chandausi- Uttar Pradesh",
          "Chandoli- Uttar Pradesh",
          "Charra- Uttar Pradesh",
          "Chhibramau(Kannuj)- Uttar Pradesh",
          "Chitwadagaon- Uttar Pradesh",
          "Chorichora- Uttar Pradesh",
          "Choubepur- Uttar Pradesh",
          "Chutmalpur- Uttar Pradesh",
          "Dadri- Uttar Pradesh",
          "Dankaur- Uttar Pradesh",
          "Dataganj- Uttar Pradesh",
          "Devariya- Uttar Pradesh",
          "Devband- Uttar Pradesh",
          "Dhampur- Uttar Pradesh",
          "Dhanura- Uttar Pradesh",
          "Dibiapur- Uttar Pradesh",
          "Divai- Uttar Pradesh",
          "Dudhi- Uttar Pradesh",
          "Etah- Uttar Pradesh",
          "Etawah- Uttar Pradesh",
          "Faizabad- Uttar Pradesh",
          "Farukhabad- Uttar Pradesh",
          "Fatehabad- Uttar Pradesh",
          "Fatehpur- Uttar Pradesh",
          "Fatehpur Sikri- Uttar Pradesh",
          "Firozabad- Uttar Pradesh",
          "Gadaura- Uttar Pradesh",
          "Gangoh- Uttar Pradesh",
          "Ganjdudwara- Uttar Pradesh",
          "Gazipur- Uttar Pradesh",
          "Ghaziabad- Uttar Pradesh",
          "Ghiraur- Uttar Pradesh",
          "Golagokarnath- Uttar Pradesh",
          "Gonda- Uttar Pradesh",
          "Gopiganj- Uttar Pradesh",
          "Gorakhpur- Uttar Pradesh",
          "Gulavati- Uttar Pradesh",
          "Gurusarai- Uttar Pradesh",
          "Haathras- Uttar Pradesh",
          "Haldaur- Uttar Pradesh",
          "Hamirpur- Uttar Pradesh",
          "Hapur- Uttar Pradesh",
          "Hardoi- Uttar Pradesh",
          "Hasanpur- Uttar Pradesh",
          "Jafarganj- Uttar Pradesh",
          "Jagnair- Uttar Pradesh",
          "Jahanabad- Uttar Pradesh",
          "Jahangirabad- Uttar Pradesh",
          "Jalaun- Uttar Pradesh",
          "Jamanian- Uttar Pradesh",
          "Jangipura- Uttar Pradesh",
          "Jarar- Uttar Pradesh",
          "Jasra- Uttar Pradesh",
          "Jasvantnagar- Uttar Pradesh",
          "Jaunpur- Uttar Pradesh",
          "Javer- Uttar Pradesh",
          "Jayas- Uttar Pradesh",
          "Jhansi- Uttar Pradesh",
          "Jhijhank- Uttar Pradesh",
          "Kannauj- Uttar Pradesh",
          "Kanpur(Grain)- Uttar Pradesh",
          "Karnailganj- Uttar Pradesh",
          "Karvi- Uttar Pradesh",
          "Kasganj- Uttar Pradesh",
          "Kayamganj- Uttar Pradesh",
          "Khaga- Uttar Pradesh",
          "Khair- Uttar Pradesh",
          "Khairagarh- Uttar Pradesh",
          "Khatauli- Uttar Pradesh",
          "Khekda- Uttar Pradesh",
          "Khurja- Uttar Pradesh",
          "Kiratpur- Uttar Pradesh",
          "Kishunpur- Uttar Pradesh",
          "Konch- Uttar Pradesh",
          "Kopaganj- Uttar Pradesh",
          "Kosikalan- Uttar Pradesh",
          "Kurara- Uttar Pradesh",
          "Lakhimpur- Uttar Pradesh",
          "Lalganj- Uttar Pradesh",
          "Lalitpur- Uttar Pradesh",
          "Lucknow- Uttar Pradesh",
          "Madhoganj- Uttar Pradesh",
          "Mahoba- Uttar Pradesh",
          "Maigalganj- Uttar Pradesh",
          "Mainpuri- Uttar Pradesh",
          "Mathura- Uttar Pradesh",
          "Maudaha- Uttar Pradesh",
          "Mauranipur- Uttar Pradesh",
          "Mawana- Uttar Pradesh",
          "Meerut- Uttar Pradesh",
          "Mehmoodabad- Uttar Pradesh",
          "Mihipurwa- Uttar Pradesh",
          "Mirzapur- Uttar Pradesh",
          "Mohammdi- Uttar Pradesh",
          "Moth- Uttar Pradesh",
          "Muradabad- Uttar Pradesh",
          "Muzzafarnagar- Uttar Pradesh",
          "Naanpara- Uttar Pradesh",
          "Nagina- Uttar Pradesh",
          "Najibabad- Uttar Pradesh",
          "Naugarh- Uttar Pradesh",
          "Nautnava- Uttar Pradesh",
          "Nawabganj- Uttar Pradesh",
          "Orai- Uttar Pradesh",
          "Paliakala- Uttar Pradesh",
          "Panwadi- Uttar Pradesh",
          "Partaval- Uttar Pradesh",
          "Payagpur- Uttar Pradesh",
          "Pilibhit- Uttar Pradesh",
          "Pratapgarh- Uttar Pradesh",
          "Pukhrayan- Uttar Pradesh",
          "Puranpur- Uttar Pradesh",
          "Raath- Uttar Pradesh",
          "Raibareilly- Uttar Pradesh",
          "Rampur- Uttar Pradesh",
          "Rampurmaniharan- Uttar Pradesh",
          "Rasda- Uttar Pradesh",
          "Risia- Uttar Pradesh",
          "Robertsganj- Uttar Pradesh",
          "Ruperdeeha- Uttar Pradesh",
          "Rura- Uttar Pradesh",
          "Safdarganj- Uttar Pradesh",
          "Saharanpur- Uttar Pradesh",
          "Sahiyapur- Uttar Pradesh",
          "Saidpur- Uttar Pradesh",
          "Sambhal- Uttar Pradesh",
          "Samsabad- Uttar Pradesh",
          "Sardhana- Uttar Pradesh",
          "Sehjanwa- Uttar Pradesh",
          "Shadabad- Uttar Pradesh",
          "Shahaswan- Uttar Pradesh",
          "Shahganj- Uttar Pradesh",
          "Shahjahanpur- Uttar Pradesh",
          "Shikohabad- Uttar Pradesh",
          "Sikanderabad- Uttar Pradesh",
          "Sikandraraau- Uttar Pradesh",
          "Sikarpur- Uttar Pradesh",
          "Sirsa- Uttar Pradesh",
          "Sirsaganj- Uttar Pradesh",
          "Sitapur- Uttar Pradesh",
          "Siyana- Uttar Pradesh",
          "Soharatgarh- Uttar Pradesh",
          "Sultanpur- Uttar Pradesh",
          "Sultanpurchilkana- Uttar Pradesh",
          "Tamkuhi Road- Uttar Pradesh",
          "Tanda- Uttar Pradesh",
          "Tikonia- Uttar Pradesh",
          "Tilhar- Uttar Pradesh",
          "Tundla- Uttar Pradesh",
          "Ujhani- Uttar Pradesh",
          "Unnao- Uttar Pradesh",
          "Uttaripura- Uttar Pradesh",
          "Varanasi(F&V)- Uttar Pradesh",
          "Varanasi(Grain)- Uttar Pradesh",
          "Varipaal- Uttar Pradesh",
          "Vilthararoad- Uttar Pradesh",
          "Vishalpur- Uttar Pradesh",
          "Visoli- Uttar Pradesh",
          "Wansi- Uttar Pradesh",
          "Wazirganj- Uttar Pradesh",
          "Yusufpur- Uttar Pradesh",
          "Bhagwanpur(Naveen Mandi Sthal)- Uttrakhand",
          "Dehradoon- Uttrakhand",
          "Haldwani- Uttrakhand",
          "Haridwar Union- Uttrakhand",
          "Jaspur(UC)- Uttrakhand",
          "Kashipur- Uttrakhand",
          "Khateema- Uttrakhand",
          "Kicchha- Uttrakhand",
          "Kotadwara- Uttrakhand",
          "Lakshar- Uttrakhand",
          "Manglaur- Uttrakhand",
          "Nanakmatta- Uttrakhand",
          "Ramnagar- Uttrakhand",
          "Rishikesh- Uttrakhand",
          "Roorkee- Uttrakhand",
          "Rudrapur- Uttrakhand",
          "Sitarganj- Uttrakhand",
          "Tanakpur- Uttrakhand",
          "Vikasnagar- Uttrakhand",
          "Alipurduar- West Bengal",
          "Asansol- West Bengal",
          "Balarampur- West Bengal",
          "Bankura Sadar- West Bengal",
          "Bara Bazar (Posta Bazar)- West Bengal",
          "Barasat- West Bengal",
          "Baruipur(Canning)- West Bengal",
          "Belacoba- West Bengal",
          "Bethuadahari- West Bengal",
          "Birbhum- West Bengal",
          "Bishnupur(Bankura)- West Bengal",
          "Bolpur- West Bengal",
          "Burdwan- West Bengal",
          "Chakdah- West Bengal",
          "Diamond Harbour(South 24-pgs)- West Bengal",
          "Durgapur- West Bengal",
          "English Bazar- West Bengal",
          "Falakata- West Bengal",
          "Gajol- West Bengal",
          "Habra- West Bengal",
          "Jalpaiguri Sadar- West Bengal",
          "Jangipur- West Bengal",
          "Kalna- West Bengal",
          "Kalyani- West Bengal",
          "Karsiyang(Matigara)- West Bengal",
          "Kasipur- West Bengal",
          "Katwa- West Bengal",
          "Medinipur(West)- West Bengal",
          "Moynaguri- West Bengal",
          "Nadia- West Bengal",
          "Purulia- West Bengal",
          "Ramkrishanpur(Howrah)- West Bengal",
          "Rampurhat- West Bengal",
          "Ranaghat- West Bengal",
          "Sainthia- West Bengal",
          "Samsi- West Bengal",
          "Sheoraphuly- West Bengal",
          "Siliguri- West Bengal",
          "Tamluk (Medinipur E)- West Bengal",
          "Uluberia- West Bengal"
         ],
         "y": [
          11.259999999999998,
          4.5,
          162.99999999999997,
          18.400000000000006,
          96,
          10.699999999999978,
          62329.89999999999,
          0.1,
          250.14999999999998,
          205,
          20,
          339,
          223,
          320.1,
          776.5,
          8336.9,
          378.6,
          1235.9,
          265.9,
          1194,
          961.4,
          246.5,
          6031,
          8402.6,
          903.5,
          4435.8,
          627,
          358,
          23635.459999999995,
          1922.7,
          18.2,
          6294.000000000002,
          6292,
          9352.5,
          710.6699999999998,
          337864.1000000002,
          62.88,
          15709.930000000015,
          407057.9000000001,
          290.6,
          5768.089999999997,
          6710.139999999999,
          4940,
          34.5,
          155995.30000000002,
          3223.000000000001,
          949.6999999999999,
          1273.4000000000003,
          24.70000000000008,
          986906.300000001,
          10967.100000000006,
          3426.4000000000046,
          8.74,
          7591.500000000004,
          785.5000000000009,
          6,
          4.2,
          10,
          18915,
          26578.1,
          27158,
          6423.75,
          1639.6,
          45193.9,
          1.1,
          235.55999999999995,
          1833.9000000000003,
          1840.6000000000001,
          545.7,
          8.65,
          1914.1,
          3163.2000000000007,
          49.5,
          2288,
          6507.150000000001,
          6394,
          1130.3999999999999,
          156,
          63.95,
          283.5999999999999,
          354.1000000000001,
          11588.9,
          406.0999999999988,
          729.1999999999999,
          110.40000000000009,
          3656.9,
          1432,
          30510.500000000004,
          46,
          34.6,
          3157.3999999999996,
          10,
          1.600000000000001,
          829.5999999999999,
          161.35999999999984,
          385.7,
          1632.3,
          1.6500000000000001,
          10,
          2.7,
          75.2,
          0.5,
          828,
          498.6,
          2043.0999999999992,
          29.74999999999999,
          228.3000000000001,
          2745.999999999999,
          487,
          63.44999999999999,
          158.8199999999999,
          2190.5000000000005,
          150.04,
          2.4900000000000007,
          290,
          245,
          4012.7,
          332.29999999999995,
          51.80000000000007,
          14720,
          4579,
          0.8,
          87.91999999999996,
          2.05,
          728.1000000000005,
          1296.8000000000004,
          724.6999999999998,
          462.3000000000001,
          449.2999999999996,
          1837.8000000000013,
          142.2899999999999,
          4223.3,
          794,
          1034.4999999999998,
          1711.1,
          237.29999999999998,
          3,
          552.1999999999999,
          2967.2,
          153.8,
          288,
          2727.5000000000014,
          231.40000000000003,
          272.39999999999975,
          298.69999999999976,
          1.1,
          189.36000000000013,
          411.10000000000036,
          71.57,
          40.89999999999999,
          156.80000000000004,
          382.4999999999999,
          5.1000000000000005,
          792.9999999999998,
          16.399999999999977,
          12.329999999999988,
          58.54000000000002,
          605.1700000000001,
          909.3699999999997,
          738.6500000000001,
          196.5,
          644.3999999999999,
          31667,
          5433,
          360.5,
          197.6000000000001,
          290.90000000000015,
          2469,
          1420.8399999999992,
          540.55,
          3.5,
          290.45,
          168.4,
          81.46,
          100,
          719.0999999999997,
          252.5,
          777,
          27715,
          223,
          3632146,
          206,
          219644,
          88,
          7778,
          162,
          3011,
          1542,
          11,
          17277,
          12836,
          278,
          8443,
          36245,
          5,
          2200,
          4,
          1322,
          386681,
          2315,
          7,
          1,
          266,
          5,
          5,
          31009,
          12974,
          1,
          8239,
          825,
          11,
          2,
          95,
          358,
          108,
          1166,
          3260,
          14707,
          72.5,
          185.95000000000005,
          297.5,
          64.70000000000023,
          329.6000000000003,
          6477,
          182.7,
          88.60000000000001,
          98.89999999999998,
          32.00999999999998,
          1312.5,
          1948.5,
          99.08999999999986,
          1431.7999999999904,
          585,
          16.799999999999972,
          65.49999999999987,
          555.6,
          351.5,
          10701,
          367.2,
          2278,
          5062,
          1058.4,
          1450,
          679.4199999999996,
          3856.95,
          3282,
          427,
          134.1899999999999,
          1760,
          1074.8,
          374.4,
          2305,
          3796.5,
          2037,
          148.64999999999966,
          228.00000000000037,
          111.6,
          210.00000000000009,
          532,
          6136,
          12930,
          249,
          372.00000000000057,
          290,
          1712.4,
          229.30000000000004,
          625.9999999999999,
          440.0000000000004,
          103.89999999999998,
          135,
          217.30000000000032,
          183.20000000000002,
          341.8,
          49.7,
          118.80000000000003,
          451.20000000000056,
          25850,
          242.2,
          4133,
          204.5799999999999,
          206.70000000000005,
          824.5,
          305.75,
          154.59999999999974,
          231,
          12788.500000000002,
          30453.100000000006,
          1880.6000000000013,
          6843,
          3972,
          9326,
          2010.8999999999994,
          556.8100000000005,
          81.70000000000009,
          38.33000000000002,
          261.32000000000005,
          163.5,
          182773.2000000001,
          7955.199999999999,
          1.5000000000000002,
          57.89999999999999,
          19.2,
          27105.7,
          14821.1,
          12588.05,
          426,
          34012.700000000004,
          92.3,
          2041.8000000000006,
          25194.49999999998,
          2706.95,
          2570,
          73550,
          5343.7,
          20727.70000000002,
          1448.3000000000006,
          65.38000000000001,
          5134.3,
          896.5000000000001,
          10231.2,
          1162.0600000000002,
          64.5,
          27637.799999999977,
          23378.889999999996,
          125.24999999999997,
          0.5,
          46100.100000000006,
          182632,
          2025,
          25075,
          319,
          3289,
          7681,
          14776,
          2427,
          384,
          23198,
          28729,
          39,
          11501,
          146536,
          109002,
          58280,
          11238,
          80581,
          1181,
          1421,
          10752,
          6084,
          43951,
          94149,
          54932,
          10638,
          102850,
          180,
          5713,
          1471,
          55219,
          160906,
          36813,
          193,
          1176,
          2596,
          303361,
          64497,
          18777,
          23246,
          32300,
          142685,
          229843,
          6469,
          196,
          183866,
          2,
          40975,
          94893,
          83000,
          2403,
          66111,
          51,
          270914,
          66,
          7875,
          661,
          11394,
          30,
          6761,
          822,
          84359,
          10197,
          393943,
          113096,
          337527,
          308,
          1774,
          111678,
          127476,
          72544,
          214,
          33743,
          159173,
          58523,
          147174,
          4986,
          147,
          1405,
          5869,
          114051,
          116860,
          380507,
          3529,
          964,
          34123,
          1636,
          254274,
          147,
          24975,
          300078,
          159.09999999999994,
          1414.8999999999985,
          342.0000000000001,
          14.399999999999999,
          266.4,
          7,
          19.799999999999997,
          140.5,
          12.08,
          3.5000000000000004,
          292410.9,
          27754.85000000003,
          95408.17999999988,
          32,
          16862,
          70.75,
          1245.9,
          112,
          1037.9,
          14,
          68.05,
          4145,
          943.5,
          563,
          5,
          1326.640000000002,
          1103.3099999999993,
          595,
          90,
          14.579999999999986,
          2024.52,
          13.299999999999969,
          858.3999999999999,
          43.699999999999996,
          989.6000000000012,
          268.20000000000033,
          104.79999999999949,
          177.69999999999996,
          15889,
          499,
          2778,
          838,
          8774.75,
          401,
          10.14,
          55,
          14.37,
          637,
          3319.3000000000025,
          7327,
          2155,
          2736,
          3199.5000000000027,
          2632.700000000003,
          114.8,
          1281,
          1396.0299999999993,
          1309.49,
          4709.749999999999,
          330.19999999999993,
          160,
          1077,
          781,
          650,
          1337.9999999999993,
          844.1999999999998,
          167.30000000000004,
          6608,
          311,
          392.4,
          265.5999999999979,
          28,
          12,
          20.6,
          0.3,
          6843.93,
          165.99999999999997,
          113,
          1415,
          7.8,
          35,
          650,
          674,
          11.7,
          884,
          218,
          410.09999999999997,
          29.4,
          2255,
          694.8999999999996,
          13,
          95.49999999999999,
          24.2,
          738.5000000000008,
          832,
          4236.5,
          338.6000000000001,
          263.75,
          27840,
          1275,
          101.29999999999994,
          447.7000000000003,
          1021.3000000000001,
          57.69999999999998,
          1.5999999999999999,
          20217.400000000005,
          533.2000000000004,
          1829.5000000000014,
          2787.5999999999995,
          865.7000000000011,
          25.45000000000008,
          420.40000000000003,
          793.7999999999997,
          1138.8,
          217.69999999999993,
          160.86999999999995,
          246.71999999999989,
          495.0999999999999,
          321.3999999999996,
          718.8999999999995,
          128.89999999999995,
          64.62999999999997,
          5728.4800000000005,
          4363.099999999998,
          2.250000000000001,
          38.59000000000003,
          3484.7000000000003,
          1699.700000000001,
          1216.6000000000008,
          202.39999999999998,
          28.09999999999998,
          21.700000000000003,
          136.95000000000007,
          35.15000000000003,
          213.89999999999978,
          3413.100000000001,
          722.7000000000004,
          8976.3,
          2548.0899999999992,
          1276.5,
          34905.2,
          3.6,
          26.59999999999999,
          75.79999999999973,
          13940.299999999996,
          2599.499999999997,
          4277,
          1133.7,
          1173.310000000001,
          176.39999999999998,
          28887,
          676.6999999999999,
          152.60000000000005,
          7802.7,
          1772.7000000000003,
          723,
          306.5000000000002,
          1319.7,
          17011.000000000007,
          101.44999999999996,
          1158.8999999999996,
          166.75000000000009,
          86.70000000000014,
          1304.7,
          5307.999999999999,
          12.600000000000001,
          1.8500000000000012,
          1691.3299999999997,
          53.20000000000002,
          8357,
          3471.9,
          990.5000000000003,
          587.5999999999997,
          7741.899999999992,
          33.4,
          91.60000000000007,
          311.00000000000017,
          578,
          1054.3999999999996,
          411.49999999999994,
          268.39999999999964,
          91.59999999999974,
          3678.6000000000017,
          7.200000000000003,
          223.74999999999983,
          702.2000000000002,
          827.8000000000003,
          2346.6000000000004,
          299.3300000000002,
          1236.9000000000005,
          1523.7,
          0.7,
          39.59999999999997,
          1290.4,
          4.679999999999999,
          172.39999999999992,
          269.14000000000027,
          3463,
          17164.299999999996,
          55163.600000000006,
          29.7,
          327.90000000000003,
          1039.8,
          1353.8999999999996,
          3555.3,
          94.02,
          2453.2,
          750.5500000000004,
          32286.199999999997,
          19503.899999999994,
          1092,
          909.6000000000003,
          466.5000000000001,
          394.0399999999987,
          3821.599999999998,
          15.219999999999997,
          18738,
          10187.000000000004,
          98.39999999999999,
          9207.7,
          143.4,
          17682.899999999998,
          491479.0999999995,
          1.6,
          2,
          222,
          17.8,
          77,
          898.6999999999999,
          1.2,
          5850.1,
          40.4,
          1.6000000000000005,
          40,
          1039.25,
          10,
          137.5,
          45.400000000000006,
          2,
          90.5,
          3792,
          687.0999999999998,
          122883,
          336.5,
          1693,
          601.7,
          205.50000000000006,
          21755,
          44446.25,
          668,
          4524.5,
          79,
          25640,
          1082.4,
          1660,
          2367.71,
          191.7,
          41550.5,
          2299.5,
          2110,
          12642.1,
          1563,
          19473.5,
          16006,
          1475.7999999999995,
          2337.4,
          85.35,
          98,
          7326.2,
          385.5,
          25244.040000000005,
          2924.2,
          159,
          379.2,
          254,
          2827.5,
          112.74,
          2913.7,
          3710,
          3518,
          5840.7,
          980.5,
          50,
          3640.5,
          2992,
          1370,
          919.9,
          4105,
          2223.6,
          850.8,
          65.5,
          1854,
          30.5,
          2020,
          22160.2,
          159.5,
          120,
          399,
          592,
          145.5,
          319.5,
          2114.16,
          9843,
          2176.8,
          2559.5,
          3244.7,
          6491.7,
          481,
          1894.1,
          772.5,
          58,
          217.29999999999998,
          4783,
          20848.5,
          276,
          222.5,
          5356,
          62,
          62955.1,
          467.7999999999999,
          51.90000000000002,
          5391.5,
          14,
          16,
          6536,
          2892.2,
          118.2,
          1969,
          783.1,
          622.5,
          328.5999999999997,
          576.5000000000002,
          120,
          1575,
          4720,
          2278,
          1381,
          33314.64000000001,
          260,
          772.1999999999995,
          18839.5,
          397,
          1503.3999999999996,
          80430,
          148.99999999999997,
          1159.3999999999999,
          1672.5800000000002,
          1710.7,
          4541.5,
          2213,
          1016.0000000000002,
          600,
          42.2,
          100,
          65,
          56,
          2566.7999999999997,
          12920,
          1560,
          59.5,
          9189.2,
          2529.5,
          2636.5,
          39897,
          1281.4999999999998,
          985.2999999999998,
          15,
          3589,
          3458,
          882,
          111.60000000000004,
          318.2999999999995,
          5427.1,
          181.5,
          1953.3,
          7177,
          12,
          49.69999999999999,
          11112.5,
          3514,
          3985,
          50,
          580,
          1574.7,
          2430,
          133.9,
          1598.1,
          18.7,
          3.7,
          3987.2,
          2258,
          21814.5,
          2410.5,
          597.5,
          623.7,
          1932.8999999999999,
          5468.3,
          856.5,
          16,
          3060,
          715.2,
          5492,
          1089,
          727.8000000000001,
          450,
          10080.5,
          3576.4,
          1005,
          1112.7499999999998,
          2803.5,
          402.3999999999998,
          292,
          1680,
          2530,
          623.1000000000004,
          5107.5,
          1921.5,
          390,
          565,
          180,
          1386,
          486.90000000000003,
          17008.8,
          452.09999999999997,
          268,
          16605.7,
          49,
          8385.8,
          612.5,
          29.5,
          52.29999999999998,
          31.6,
          1739.8,
          1275.3999999999996,
          265,
          50666,
          4427,
          215,
          3596,
          5009,
          3375,
          256.5,
          3450,
          3233,
          55.7,
          23280.999999999993,
          1592.2000000000003,
          1210.1000000000006,
          148.09999999999985,
          558.0999999999998,
          723.6,
          20,
          111.50000000000001,
          32.400000000000006,
          1.4000000000000001,
          186.9,
          753.6000000000008,
          1178.9999999999998,
          7754.200000000001,
          233.8,
          119.9,
          78,
          590.4000000000001,
          2348,
          16399.5,
          340.8,
          3860,
          55209.5,
          12310,
          1024,
          164.5,
          969.2,
          14566.000000000004,
          4902,
          2193.14,
          13362,
          12694,
          510.4,
          16463,
          22032.900000000016,
          964.6,
          1872.3000000000002,
          3458.7000000000007,
          1452.8,
          18755,
          4707,
          1099.1000000000006,
          64.52000000000008,
          269.10000000000036,
          7982.4,
          2087,
          212.5,
          7721,
          3027,
          2236.6999999999994,
          2332.7000000000003,
          1564.2,
          38213.1,
          5620,
          24157,
          7142.7,
          2342.499999999998,
          1053.1000000000001
         ]
        }
       ],
       "layout": {
        "template": {
         "data": {
          "bar": [
           {
            "error_x": {
             "color": "#2a3f5f"
            },
            "error_y": {
             "color": "#2a3f5f"
            },
            "marker": {
             "line": {
              "color": "#E5ECF6",
              "width": 0.5
             }
            },
            "type": "bar"
           }
          ],
          "barpolar": [
           {
            "marker": {
             "line": {
              "color": "#E5ECF6",
              "width": 0.5
             }
            },
            "type": "barpolar"
           }
          ],
          "carpet": [
           {
            "aaxis": {
             "endlinecolor": "#2a3f5f",
             "gridcolor": "white",
             "linecolor": "white",
             "minorgridcolor": "white",
             "startlinecolor": "#2a3f5f"
            },
            "baxis": {
             "endlinecolor": "#2a3f5f",
             "gridcolor": "white",
             "linecolor": "white",
             "minorgridcolor": "white",
             "startlinecolor": "#2a3f5f"
            },
            "type": "carpet"
           }
          ],
          "choropleth": [
           {
            "colorbar": {
             "outlinewidth": 0,
             "ticks": ""
            },
            "type": "choropleth"
           }
          ],
          "contour": [
           {
            "colorbar": {
             "outlinewidth": 0,
             "ticks": ""
            },
            "colorscale": [
             [
              0,
              "#0d0887"
             ],
             [
              0.1111111111111111,
              "#46039f"
             ],
             [
              0.2222222222222222,
              "#7201a8"
             ],
             [
              0.3333333333333333,
              "#9c179e"
             ],
             [
              0.4444444444444444,
              "#bd3786"
             ],
             [
              0.5555555555555556,
              "#d8576b"
             ],
             [
              0.6666666666666666,
              "#ed7953"
             ],
             [
              0.7777777777777778,
              "#fb9f3a"
             ],
             [
              0.8888888888888888,
              "#fdca26"
             ],
             [
              1,
              "#f0f921"
             ]
            ],
            "type": "contour"
           }
          ],
          "contourcarpet": [
           {
            "colorbar": {
             "outlinewidth": 0,
             "ticks": ""
            },
            "type": "contourcarpet"
           }
          ],
          "heatmap": [
           {
            "colorbar": {
             "outlinewidth": 0,
             "ticks": ""
            },
            "colorscale": [
             [
              0,
              "#0d0887"
             ],
             [
              0.1111111111111111,
              "#46039f"
             ],
             [
              0.2222222222222222,
              "#7201a8"
             ],
             [
              0.3333333333333333,
              "#9c179e"
             ],
             [
              0.4444444444444444,
              "#bd3786"
             ],
             [
              0.5555555555555556,
              "#d8576b"
             ],
             [
              0.6666666666666666,
              "#ed7953"
             ],
             [
              0.7777777777777778,
              "#fb9f3a"
             ],
             [
              0.8888888888888888,
              "#fdca26"
             ],
             [
              1,
              "#f0f921"
             ]
            ],
            "type": "heatmap"
           }
          ],
          "heatmapgl": [
           {
            "colorbar": {
             "outlinewidth": 0,
             "ticks": ""
            },
            "colorscale": [
             [
              0,
              "#0d0887"
             ],
             [
              0.1111111111111111,
              "#46039f"
             ],
             [
              0.2222222222222222,
              "#7201a8"
             ],
             [
              0.3333333333333333,
              "#9c179e"
             ],
             [
              0.4444444444444444,
              "#bd3786"
             ],
             [
              0.5555555555555556,
              "#d8576b"
             ],
             [
              0.6666666666666666,
              "#ed7953"
             ],
             [
              0.7777777777777778,
              "#fb9f3a"
             ],
             [
              0.8888888888888888,
              "#fdca26"
             ],
             [
              1,
              "#f0f921"
             ]
            ],
            "type": "heatmapgl"
           }
          ],
          "histogram": [
           {
            "marker": {
             "colorbar": {
              "outlinewidth": 0,
              "ticks": ""
             }
            },
            "type": "histogram"
           }
          ],
          "histogram2d": [
           {
            "colorbar": {
             "outlinewidth": 0,
             "ticks": ""
            },
            "colorscale": [
             [
              0,
              "#0d0887"
             ],
             [
              0.1111111111111111,
              "#46039f"
             ],
             [
              0.2222222222222222,
              "#7201a8"
             ],
             [
              0.3333333333333333,
              "#9c179e"
             ],
             [
              0.4444444444444444,
              "#bd3786"
             ],
             [
              0.5555555555555556,
              "#d8576b"
             ],
             [
              0.6666666666666666,
              "#ed7953"
             ],
             [
              0.7777777777777778,
              "#fb9f3a"
             ],
             [
              0.8888888888888888,
              "#fdca26"
             ],
             [
              1,
              "#f0f921"
             ]
            ],
            "type": "histogram2d"
           }
          ],
          "histogram2dcontour": [
           {
            "colorbar": {
             "outlinewidth": 0,
             "ticks": ""
            },
            "colorscale": [
             [
              0,
              "#0d0887"
             ],
             [
              0.1111111111111111,
              "#46039f"
             ],
             [
              0.2222222222222222,
              "#7201a8"
             ],
             [
              0.3333333333333333,
              "#9c179e"
             ],
             [
              0.4444444444444444,
              "#bd3786"
             ],
             [
              0.5555555555555556,
              "#d8576b"
             ],
             [
              0.6666666666666666,
              "#ed7953"
             ],
             [
              0.7777777777777778,
              "#fb9f3a"
             ],
             [
              0.8888888888888888,
              "#fdca26"
             ],
             [
              1,
              "#f0f921"
             ]
            ],
            "type": "histogram2dcontour"
           }
          ],
          "mesh3d": [
           {
            "colorbar": {
             "outlinewidth": 0,
             "ticks": ""
            },
            "type": "mesh3d"
           }
          ],
          "parcoords": [
           {
            "line": {
             "colorbar": {
              "outlinewidth": 0,
              "ticks": ""
             }
            },
            "type": "parcoords"
           }
          ],
          "scatter": [
           {
            "marker": {
             "colorbar": {
              "outlinewidth": 0,
              "ticks": ""
             }
            },
            "type": "scatter"
           }
          ],
          "scatter3d": [
           {
            "line": {
             "colorbar": {
              "outlinewidth": 0,
              "ticks": ""
             }
            },
            "marker": {
             "colorbar": {
              "outlinewidth": 0,
              "ticks": ""
             }
            },
            "type": "scatter3d"
           }
          ],
          "scattercarpet": [
           {
            "marker": {
             "colorbar": {
              "outlinewidth": 0,
              "ticks": ""
             }
            },
            "type": "scattercarpet"
           }
          ],
          "scattergeo": [
           {
            "marker": {
             "colorbar": {
              "outlinewidth": 0,
              "ticks": ""
             }
            },
            "type": "scattergeo"
           }
          ],
          "scattergl": [
           {
            "marker": {
             "colorbar": {
              "outlinewidth": 0,
              "ticks": ""
             }
            },
            "type": "scattergl"
           }
          ],
          "scattermapbox": [
           {
            "marker": {
             "colorbar": {
              "outlinewidth": 0,
              "ticks": ""
             }
            },
            "type": "scattermapbox"
           }
          ],
          "scatterpolar": [
           {
            "marker": {
             "colorbar": {
              "outlinewidth": 0,
              "ticks": ""
             }
            },
            "type": "scatterpolar"
           }
          ],
          "scatterpolargl": [
           {
            "marker": {
             "colorbar": {
              "outlinewidth": 0,
              "ticks": ""
             }
            },
            "type": "scatterpolargl"
           }
          ],
          "scatterternary": [
           {
            "marker": {
             "colorbar": {
              "outlinewidth": 0,
              "ticks": ""
             }
            },
            "type": "scatterternary"
           }
          ],
          "surface": [
           {
            "colorbar": {
             "outlinewidth": 0,
             "ticks": ""
            },
            "colorscale": [
             [
              0,
              "#0d0887"
             ],
             [
              0.1111111111111111,
              "#46039f"
             ],
             [
              0.2222222222222222,
              "#7201a8"
             ],
             [
              0.3333333333333333,
              "#9c179e"
             ],
             [
              0.4444444444444444,
              "#bd3786"
             ],
             [
              0.5555555555555556,
              "#d8576b"
             ],
             [
              0.6666666666666666,
              "#ed7953"
             ],
             [
              0.7777777777777778,
              "#fb9f3a"
             ],
             [
              0.8888888888888888,
              "#fdca26"
             ],
             [
              1,
              "#f0f921"
             ]
            ],
            "type": "surface"
           }
          ],
          "table": [
           {
            "cells": {
             "fill": {
              "color": "#EBF0F8"
             },
             "line": {
              "color": "white"
             }
            },
            "header": {
             "fill": {
              "color": "#C8D4E3"
             },
             "line": {
              "color": "white"
             }
            },
            "type": "table"
           }
          ]
         },
         "layout": {
          "annotationdefaults": {
           "arrowcolor": "#2a3f5f",
           "arrowhead": 0,
           "arrowwidth": 1
          },
          "colorscale": {
           "diverging": [
            [
             0,
             "#8e0152"
            ],
            [
             0.1,
             "#c51b7d"
            ],
            [
             0.2,
             "#de77ae"
            ],
            [
             0.3,
             "#f1b6da"
            ],
            [
             0.4,
             "#fde0ef"
            ],
            [
             0.5,
             "#f7f7f7"
            ],
            [
             0.6,
             "#e6f5d0"
            ],
            [
             0.7,
             "#b8e186"
            ],
            [
             0.8,
             "#7fbc41"
            ],
            [
             0.9,
             "#4d9221"
            ],
            [
             1,
             "#276419"
            ]
           ],
           "sequential": [
            [
             0,
             "#0d0887"
            ],
            [
             0.1111111111111111,
             "#46039f"
            ],
            [
             0.2222222222222222,
             "#7201a8"
            ],
            [
             0.3333333333333333,
             "#9c179e"
            ],
            [
             0.4444444444444444,
             "#bd3786"
            ],
            [
             0.5555555555555556,
             "#d8576b"
            ],
            [
             0.6666666666666666,
             "#ed7953"
            ],
            [
             0.7777777777777778,
             "#fb9f3a"
            ],
            [
             0.8888888888888888,
             "#fdca26"
            ],
            [
             1,
             "#f0f921"
            ]
           ],
           "sequentialminus": [
            [
             0,
             "#0d0887"
            ],
            [
             0.1111111111111111,
             "#46039f"
            ],
            [
             0.2222222222222222,
             "#7201a8"
            ],
            [
             0.3333333333333333,
             "#9c179e"
            ],
            [
             0.4444444444444444,
             "#bd3786"
            ],
            [
             0.5555555555555556,
             "#d8576b"
            ],
            [
             0.6666666666666666,
             "#ed7953"
            ],
            [
             0.7777777777777778,
             "#fb9f3a"
            ],
            [
             0.8888888888888888,
             "#fdca26"
            ],
            [
             1,
             "#f0f921"
            ]
           ]
          },
          "colorway": [
           "#636efa",
           "#EF553B",
           "#00cc96",
           "#ab63fa",
           "#FFA15A",
           "#19d3f3",
           "#FF6692",
           "#B6E880",
           "#FF97FF",
           "#FECB52"
          ],
          "font": {
           "color": "#2a3f5f"
          },
          "geo": {
           "bgcolor": "white",
           "lakecolor": "white",
           "landcolor": "#E5ECF6",
           "showlakes": true,
           "showland": true,
           "subunitcolor": "white"
          },
          "hoverlabel": {
           "align": "left"
          },
          "hovermode": "closest",
          "mapbox": {
           "style": "light"
          },
          "paper_bgcolor": "white",
          "plot_bgcolor": "#E5ECF6",
          "polar": {
           "angularaxis": {
            "gridcolor": "white",
            "linecolor": "white",
            "ticks": ""
           },
           "bgcolor": "#E5ECF6",
           "radialaxis": {
            "gridcolor": "white",
            "linecolor": "white",
            "ticks": ""
           }
          },
          "scene": {
           "xaxis": {
            "backgroundcolor": "#E5ECF6",
            "gridcolor": "white",
            "gridwidth": 2,
            "linecolor": "white",
            "showbackground": true,
            "ticks": "",
            "zerolinecolor": "white"
           },
           "yaxis": {
            "backgroundcolor": "#E5ECF6",
            "gridcolor": "white",
            "gridwidth": 2,
            "linecolor": "white",
            "showbackground": true,
            "ticks": "",
            "zerolinecolor": "white"
           },
           "zaxis": {
            "backgroundcolor": "#E5ECF6",
            "gridcolor": "white",
            "gridwidth": 2,
            "linecolor": "white",
            "showbackground": true,
            "ticks": "",
            "zerolinecolor": "white"
           }
          },
          "shapedefaults": {
           "line": {
            "color": "#2a3f5f"
           }
          },
          "ternary": {
           "aaxis": {
            "gridcolor": "white",
            "linecolor": "white",
            "ticks": ""
           },
           "baxis": {
            "gridcolor": "white",
            "linecolor": "white",
            "ticks": ""
           },
           "bgcolor": "#E5ECF6",
           "caxis": {
            "gridcolor": "white",
            "linecolor": "white",
            "ticks": ""
           }
          },
          "title": {
           "x": 0.05
          },
          "xaxis": {
           "automargin": true,
           "gridcolor": "white",
           "linecolor": "white",
           "ticks": "",
           "zerolinecolor": "white",
           "zerolinewidth": 2
          },
          "yaxis": {
           "automargin": true,
           "gridcolor": "white",
           "linecolor": "white",
           "ticks": "",
           "zerolinecolor": "white",
           "zerolinewidth": 2
          }
         }
        }
       }
      },
      "text/html": [
       "<div>\n",
       "        \n",
       "        \n",
       "            <div id=\"bcbc9d32-499f-4df3-9040-a2ca2a834322\" class=\"plotly-graph-div\" style=\"height:525px; width:100%;\"></div>\n",
       "            <script type=\"text/javascript\">\n",
       "                require([\"plotly\"], function(Plotly) {\n",
       "                    window.PLOTLYENV=window.PLOTLYENV || {};\n",
       "                    \n",
       "                if (document.getElementById(\"bcbc9d32-499f-4df3-9040-a2ca2a834322\")) {\n",
       "                    Plotly.newPlot(\n",
       "                        'bcbc9d32-499f-4df3-9040-a2ca2a834322',\n",
       "                        [{\"mode\": \"markers\", \"type\": \"scatter\", \"x\": [\"Diglipur- Andaman and Nicobar\", \"Eluru- Andhra Pradesh\", \"Eluru(P.Sri.Mkt),RBZ- Andhra Pradesh\", \"Eluru-II,RBZ- Andhra Pradesh\", \"Ichapuram- Andhra Pradesh\", \"Kovvur- Andhra Pradesh\", \"Kurnool- Andhra Pradesh\", \"Mylavaram- Andhra Pradesh\", \"Ongole(Rythu Bazar)- Andhra Pradesh\", \"Pattikonda- Andhra Pradesh\", \"Rajam- Andhra Pradesh\", \"Rajampet- Andhra Pradesh\", \"Tadepalligudem- Andhra Pradesh\", \"Visakhapatnam- Andhra Pradesh\", \"Bohorihat- Assam\", \"Bongiagaon- Assam\", \"Dhekiajuli- Assam\", \"Dhing- Assam\", \"Dibrugarh- Assam\", \"Gauripur- Assam\", \"Golaghat- Assam\", \"Goreswar- Assam\", \"Howly- Assam\", \"Jorhat- Assam\", \"Lanka- Assam\", \"P.O. Uparhali Guwahati- Assam\", \"Srirampur- Assam\", \"Tinsukia- Assam\", \"Chandigarh(Grain/Fruit)- Chandigarh\", \"Durg- Chattisgarh\", \"Narayanpur- Chattisgarh\", \"Raigarh- Chattisgarh\", \"Rajnandgaon- Chattisgarh\", \"Tiphra- Chattisgarh\", \"Mapusa- Goa\", \"Ahmedabad(Chimanbhai Patal Market Vasana)- Gujarat\", \"Anand(Veg,Yard,Anand)- Gujarat\", \"Bharuch- Gujarat\", \"Bhavnagar- Gujarat\", \"Bilimora- Gujarat\", \"Dahod(Veg. Market)- Gujarat\", \"Deesa(Deesa Veg Yard)- Gujarat\", \"Dholka(Koth)- Gujarat\", \"Dhoraji- Gujarat\", \"Gondal- Gujarat\", \"Jamnagar- Gujarat\", \"Jetpur(Dist.Rajkot)- Gujarat\", \"Kapadvanj- Gujarat\", \"Khambhat(Veg Yard Khambhat)- Gujarat\", \"Mahuva(Station Road)- Gujarat\", \"Mehsana(Mehsana Veg)- Gujarat\", \"Morbi- Gujarat\", \"Nadiad- Gujarat\", \"Nadiyad(Piplag)- Gujarat\", \"Padra- Gujarat\", \"Palitana- Gujarat\", \"Patan(Veg,Yard Patan)- Gujarat\", \"Porbandar- Gujarat\", \"Rajkot- Gujarat\", \"Rajkot(Ghee Peeth)- Gujarat\", \"Surat- Gujarat\", \"Taleja- Gujarat\", \"Vadhvan- Gujarat\", \"Vadodara(Sayajipura)- Gujarat\", \"Vijapur(veg)- Gujarat\", \"Visavadar- Gujarat\", \"Ambala Cantt.- Haryana\", \"Ambala City- Haryana\", \"Asandh- Haryana\", \"Ateli- Haryana\", \"Babain- Haryana\", \"Ballabhgarh- Haryana\", \"Bapauli- Haryana\", \"Barara- Haryana\", \"Barwala- Haryana\", \"Barwala(Hisar)- Haryana\", \"Bhiwani- Haryana\", \"Chhachrauli- Haryana\", \"Dabwali- Haryana\", \"Dhand- Haryana\", \"Ellanabad- Haryana\", \"Faridabad- Haryana\", \"Farukh Nagar- Haryana\", \"Fatehabad- Haryana\", \"Ganaur- Haryana\", \"Gharaunda- Haryana\", \"Gohana- Haryana\", \"Gurgaon- Haryana\", \"Hansi- Haryana\", \"Hassanpur- Haryana\", \"Hissar- Haryana\", \"Hodal- Haryana\", \"Iamailabad- Haryana\", \"Jagadhri- Haryana\", \"Jakhal- Haryana\", \"Jhajjar- Haryana\", \"Jind- Haryana\", \"Kalayat- Haryana\", \"Khanina- Haryana\", \"Kosli- Haryana\", \"Ladwa- Haryana\", \"Loharu- Haryana\", \"Madlauda- Haryana\", \"Meham- Haryana\", \"Mohindergarh- Haryana\", \"Mullana- Haryana\", \"Mustafabad- Haryana\", \"Naraingarh- Haryana\", \"Narnaul- Haryana\", \"Narnaund- Haryana\", \"Narwana- Haryana\", \"New Grain Market(main), Karnal- Haryana\", \"Nilokheri- Haryana\", \"Nissing- Haryana\", \"Nuh- Haryana\", \"Panchkul(Kalka)- Haryana\", \"Panipat- Haryana\", \"Pataudi- Haryana\", \"Pehowa- Haryana\", \"Pipli- Haryana\", \"Radaur- Haryana\", \"Raipur Rai- Haryana\", \"Rania- Haryana\", \"Rania(Jiwan nagar)- Haryana\", \"Ratia- Haryana\", \"Rewari- Haryana\", \"Sadhaura- Haryana\", \"Safidon- Haryana\", \"Sampla- Haryana\", \"Shahabad- Haryana\", \"Shahzadpur- Haryana\", \"Sirsa- Haryana\", \"Siwan- Haryana\", \"Sohna- Haryana\", \"Sonepat- Haryana\", \"Sonepat(Kharkhoda)- Haryana\", \"Tarori- Haryana\", \"Taura- Haryana\", \"Thanesar- Haryana\", \"Tohana(New Veg Market)- Haryana\", \"Uklana- Haryana\", \"Yamuna Nagar- Haryana\", \"kalanwali- Haryana\", \"Bhuntar- Himachal Pradesh\", \"Bilaspur- Himachal Pradesh\", \"Chail Chowk- Himachal Pradesh\", \"Chamba- Himachal Pradesh\", \"Dhanotu (Mandi)- Himachal Pradesh\", \"Hamirpur- Himachal Pradesh\", \"Hamirpur(Nadaun)- Himachal Pradesh\", \"Kangra- Himachal Pradesh\", \"Kullu- Himachal Pradesh\", \"Kullu(Chauri Bihal)- Himachal Pradesh\", \"Mandi(Mandi)- Himachal Pradesh\", \"Mandi(Takoli)- Himachal Pradesh\", \"Nahan- Himachal Pradesh\", \"Paonta Sahib- Himachal Pradesh\", \"Solan- Himachal Pradesh\", \"Una- Himachal Pradesh\", \"Akhnoor- Jammu and Kashmir\", \"Batote- Jammu and Kashmir\", \"Kathua- Jammu and Kashmir\", \"Narwal Jammu (F&V)- Jammu and Kashmir\", \"Parimpore- Jammu and Kashmir\", \"Rajouri (F&V)- Jammu and Kashmir\", \"Reasi- Jammu and Kashmir\", \"Samba- Jammu and Kashmir\", \"Udhampur- Jammu and Kashmir\", \"Giridih- Jharkhand\", \"Hazaribagh- Jharkhand\", \"Jamtara- Jharkhand\", \"Koderma- Jharkhand\", \"Lohardaga- Jharkhand\", \"Pakur- Jharkhand\", \"Ramgarh- Jharkhand\", \"Sahebganj- Jharkhand\", \"Simdega- Jharkhand\", \"Arasikere- Karnataka\", \"Bagalakot- Karnataka\", \"Bagepalli- Karnataka\", \"Bangalore- Karnataka\", \"Bangarpet- Karnataka\", \"Belgaum- Karnataka\", \"Bidar- Karnataka\", \"Bijapur- Karnataka\", \"Chamaraj Nagar- Karnataka\", \"Chickkaballapura- Karnataka\", \"Chikkamagalore- Karnataka\", \"Chintamani- Karnataka\", \"Davangere- Karnataka\", \"Gadag- Karnataka\", \"Gowribidanoor- Karnataka\", \"Gundlupet- Karnataka\", \"Hassan- Karnataka\", \"Haveri- Karnataka\", \"Holalkere- Karnataka\", \"Hoskote- Karnataka\", \"Hospet- Karnataka\", \"Hubli (Amaragol)- Karnataka\", \"Jamakhandi- Karnataka\", \"K.R. Pet- Karnataka\", \"Kanakapura- Karnataka\", \"Kolar- Karnataka\", \"Malur- Karnataka\", \"Mulabagilu- Karnataka\", \"Mysore (Bandipalya)- Karnataka\", \"Raichur- Karnataka\", \"Ramanagara- Karnataka\", \"Ranebennur- Karnataka\", \"Shimoga- Karnataka\", \"Sirsi- Karnataka\", \"Somvarpet- Karnataka\", \"Srinivasapur- Karnataka\", \"Tarikere- Karnataka\", \"Tumkur- Karnataka\", \"Udupi- Karnataka\", \"Alappuzha- Kerala\", \"Aluva- Kerala\", \"Anchal- Kerala\", \"Angamaly- Kerala\", \"Aralamoodu- Kerala\", \"Aroor- Kerala\", \"Athirampuzha- Kerala\", \"Chala- Kerala\", \"Chalakudy- Kerala\", \"Chathanoor- Kerala\", \"Chavakkad- Kerala\", \"Chelakkara- Kerala\", \"Chengannur- Kerala\", \"Cherthala- Kerala\", \"Ernakulam- Kerala\", \"Ettumanoor- Kerala\", \"Harippad- Kerala\", \"Irinjalakkuda- Kerala\", \"Kallachi- Kerala\", \"Kanjangadu- Kerala\", \"Kanjirappally- Kerala\", \"Kannur- Kerala\", \"Kattappana- Kerala\", \"Kayamkulam- Kerala\", \"Kodungalloor- Kerala\", \"Koduvayoor- Kerala\", \"Kollam- Kerala\", \"Kollengode- Kerala\", \"Kondotty- Kerala\", \"Kothamangalam- Kerala\", \"Kottakkal- Kerala\", \"Kottarakkara- Kerala\", \"Kottayam- Kerala\", \"Kuruppanthura- Kerala\", \"Madhavapuram- Kerala\", \"Manjeri- Kerala\", \"Mannar- Kerala\", \"Moovattupuzha- Kerala\", \"Mukkom- Kerala\", \"Munnar- Kerala\", \"Nedumkandam- Kerala\", \"Neeleswaram- Kerala\", \"Pala- Kerala\", \"Palakkad- Kerala\", \"Palayam- Kerala\", \"Pampady- Kerala\", \"Parappanangadi- Kerala\", \"Parassala- Kerala\", \"Pattambi- Kerala\", \"Perambra- Kerala\", \"Perinthalmanna- Kerala\", \"Perumbavoor- Kerala\", \"Piravam- Kerala\", \"Pothencode- Kerala\", \"Punalur- Kerala\", \"Quilandy- Kerala\", \"Sasthamkotta- Kerala\", \"Thalayolaparambu- Kerala\", \"Thamarassery- Kerala\", \"Thirurrangadi- Kerala\", \"Thodupuzha- Kerala\", \"Thrippunithura- Kerala\", \"Thrissur- Kerala\", \"Vadakkenchery- Kerala\", \"Vamanapuram- Kerala\", \"Vandiperiyar- Kerala\", \"Vengeri(Kozhikode)- Kerala\", \"Wadakkanchery- Kerala\", \"vadakarapathy- Kerala\", \"Badnawar(F&V)- Madhya Pradesh\", \"Bhopal(F&V)- Madhya Pradesh\", \"Burhanpur(F&V)- Madhya Pradesh\", \"Chhindwara(F&V)- Madhya Pradesh\", \"Damoh(F&V)- Madhya Pradesh\", \"Deori- Madhya Pradesh\", \"Dewas(F&V)- Madhya Pradesh\", \"Dhamnod- Madhya Pradesh\", \"Guna(F&V)- Madhya Pradesh\", \"Haatpipliya- Madhya Pradesh\", \"Harda(F&V)- Madhya Pradesh\", \"Hoshangabad- Madhya Pradesh\", \"Indore(F&V)- Madhya Pradesh\", \"Jabalpur(F&V)- Madhya Pradesh\", \"Javad- Madhya Pradesh\", \"Jhabua- Madhya Pradesh\", \"Kalapipal- Madhya Pradesh\", \"Khandwa(F&V)- Madhya Pradesh\", \"Lashkar(F&V)- Madhya Pradesh\", \"Mahidpur- Madhya Pradesh\", \"Manasa- Madhya Pradesh\", \"Mandsaur(F&V)- Madhya Pradesh\", \"Morena(F&V)- Madhya Pradesh\", \"Narsinghgarh- Madhya Pradesh\", \"Neemuch- Madhya Pradesh\", \"Petlawad- Madhya Pradesh\", \"Rajgarh- Madhya Pradesh\", \"Ratlam- Madhya Pradesh\", \"Ratlam(F&V)- Madhya Pradesh\", \"Sagar(F&V)- Madhya Pradesh\", \"Sailana- Madhya Pradesh\", \"Sanwer- Madhya Pradesh\", \"Satna(F&V)- Madhya Pradesh\", \"Sehore- Madhya Pradesh\", \"Shajapur(F&V)- Madhya Pradesh\", \"Shamgarh(F&V)- Madhya Pradesh\", \"Shivpuri- Madhya Pradesh\", \"Shivpuri(F&V)- Madhya Pradesh\", \"Shujalpur- Madhya Pradesh\", \"Syopurkalan(F&V)- Madhya Pradesh\", \"Thandla- Madhya Pradesh\", \"Ujjain(F&V)- Madhya Pradesh\", \"Ahmednagar- Maharashtra\", \"Akluj- Maharashtra\", \"Akole- Maharashtra\", \"Amalner- Maharashtra\", \"Amarawati- Maharashtra\", \"Amrawati(Frui & Veg. Market)- Maharashtra\", \"Aurangabad- Maharashtra\", \"Baramati- Maharashtra\", \"Barshi- Maharashtra\", \"Bhivandi- Maharashtra\", \"Chalisgaon- Maharashtra\", \"Chandrapur- Maharashtra\", \"Chandrapur(Ganjwad)- Maharashtra\", \"Chandvad- Maharashtra\", \"Devala- Maharashtra\", \"Dhule- Maharashtra\", \"Dindori- Maharashtra\", \"Dindori(Vani)- Maharashtra\", \"Gangapur- Maharashtra\", \"Indapur- Maharashtra\", \"Jalgaon- Maharashtra\", \"Jamkhed- Maharashtra\", \"Junnar- Maharashtra\", \"Junnar(Alephata)- Maharashtra\", \"Junnar(Otur)- Maharashtra\", \"Kada- Maharashtra\", \"Kalvan- Maharashtra\", \"Kamthi- Maharashtra\", \"Karad- Maharashtra\", \"Karjat(Raigad)- Maharashtra\", \"Khed(Chakan)- Maharashtra\", \"Kolhapur- Maharashtra\", \"Kopargaon- Maharashtra\", \"Koregaon- Maharashtra\", \"Kurdwadi- Maharashtra\", \"Kurdwadi(Modnimb)- Maharashtra\", \"Lasalgaon- Maharashtra\", \"Lasalgaon(Niphad)- Maharashtra\", \"Lasur Station- Maharashtra\", \"Lonand- Maharashtra\", \"Maanachar- Maharashtra\", \"Malegaon- Maharashtra\", \"Malegaon(Umarane)- Maharashtra\", \"Malkapur- Maharashtra\", \"Mangal Wedha- Maharashtra\", \"Manmad- Maharashtra\", \"Mulshi- Maharashtra\", \"Mumbai- Maharashtra\", \"Nagpur- Maharashtra\", \"Nandgaon- Maharashtra\", \"Nandura- Maharashtra\", \"Nasik- Maharashtra\", \"Navapur- Maharashtra\", \"Newasa(Ghodegaon)- Maharashtra\", \"Osmanabad- Maharashtra\", \"Paithan- Maharashtra\", \"Palghar- Maharashtra\", \"Palthan- Maharashtra\", \"Palus- Maharashtra\", \"Pandharpur- Maharashtra\", \"Paranda- Maharashtra\", \"Parner- Maharashtra\", \"Pathardi- Maharashtra\", \"Pimpalgaon- Maharashtra\", \"Pimpalgaon Baswant(Saykheda)- Maharashtra\", \"Pune- Maharashtra\", \"Pune(Hadapsar)- Maharashtra\", \"Pune(Pimpri)- Maharashtra\", \"Rahata- Maharashtra\", \"Rahuri- Maharashtra\", \"Rahuri(Vambori)- Maharashtra\", \"Ramtek- Maharashtra\", \"Sakri- Maharashtra\", \"Sangamner- Maharashtra\", \"Sangli(Phale, Bhajipura Market)- Maharashtra\", \"Satana- Maharashtra\", \"Satara- Maharashtra\", \"Shevgaon- Maharashtra\", \"Shirpur- Maharashtra\", \"Shrigonda- Maharashtra\", \"Shrirampur- Maharashtra\", \"Sinner- Maharashtra\", \"Solapur- Maharashtra\", \"Ulhasnagar- Maharashtra\", \"Vai- Maharashtra\", \"Vaijpur- Maharashtra\", \"Vasai- Maharashtra\", \"Vashi New Mumbai- Maharashtra\", \"Vita- Maharashtra\", \"Yawal- Maharashtra\", \"Yeola- Maharashtra\", \"Bishenpur- Manipur\", \"Imphal- Manipur\", \"Lamlong Bazaar- Manipur\", \"Moreh- Manipur\", \"Thoubal- Manipur\", \"Ampati- Meghalaya\", \"Dadengiri- Meghalaya\", \"Garobadha- Meghalaya\", \"New Market Aizawl- Mizoram\", \"Super Market Lungli (Bara Bazar)- Mizoram\", \"Azadpur- NCT of Delhi\", \"Keshopur- NCT of Delhi\", \"Shahdara- NCT of Delhi\", \"Mokokchung Town- Nagaland\", \"Aiginia Mandi- Odisha\", \"Angaura- Odisha\", \"Angul- Odisha\", \"Angul(Atthamallick)- Odisha\", \"Angul(Jarapada)- Odisha\", \"Athagarh- Odisha\", \"Attabira- Odisha\", \"Bahadajholla- Odisha\", \"Balugaon- Odisha\", \"Bampada- Odisha\", \"Banki- Odisha\", \"Bargarh- Odisha\", \"Bargarh(Barapalli)- Odisha\", \"Barikpur- Odisha\", \"Baripada- Odisha\", \"Betnoti- Odisha\", \"Bhadrak- Odisha\", \"Bhanjanagar- Odisha\", \"Bhawanipatna- Odisha\", \"Birmaharajpur- Odisha\", \"Bolangir- Odisha\", \"Bonai- Odisha\", \"Boudh- Odisha\", \"Champua- Odisha\", \"Chandabali- Odisha\", \"Chatta Krushak Bazar- Odisha\", \"Damana Hat- Odisha\", \"Deogarh- Odisha\", \"Dhenkanal- Odisha\", \"Digapahandi- Odisha\", \"Dungurapalli- Odisha\", \"Gabadkunda- Odisha\", \"Godabhaga- Odisha\", \"Gopa- Odisha\", \"Hinjilicut- Odisha\", \"Jajpur- Odisha\", \"Jaleswar- Odisha\", \"Jatni- Odisha\", \"Jeypore- Odisha\", \"Jeypore(Kotpad)- Odisha\", \"Jharsuguda- Odisha\", \"Jhumpura- Odisha\", \"Junagarh- Odisha\", \"Kalahandi(Dharamagarh)- Odisha\", \"Kamakhyanagar- Odisha\", \"Kandhamal- Odisha\", \"Kantabaji- Odisha\", \"Kasinagar- Odisha\", \"Kendrapara- Odisha\", \"Kendrapara(Marshaghai)- Odisha\", \"Kendupatna- Odisha\", \"Kendupatna(Niali)- Odisha\", \"Keonjhar(Jhumpura)- Odisha\", \"Kesinga- Odisha\", \"Khariar- Odisha\", \"Khariar Road- Odisha\", \"Khunthabandha- Odisha\", \"Koraput- Odisha\", \"Koraput(Semilguda)- Odisha\", \"Malkanagiri- Odisha\", \"Malkangiri(Korakunda)- Odisha\", \"Mottagaon- Odisha\", \"Mukhiguda- Odisha\", \"Nawarangpur- Odisha\", \"Nilagiri- Odisha\", \"Padampur- Odisha\", \"Panposh- Odisha\", \"Parlakhemundi- Odisha\", \"Pattamundai- Odisha\", \"Puri(Brahmagiri)- Odisha\", \"Rairakhol- Odisha\", \"Rayagada- Odisha\", \"Sahidngar- Odisha\", \"Sakhigopal- Odisha\", \"Sarankul- Odisha\", \"Sargipali- Odisha\", \"Sohela- Odisha\", \"Talcher- Odisha\", \"Tileibani- Odisha\", \"Tusura- Odisha\", \"Udala- Odisha\", \"Abohar- Punjab\", \"Adampur- Punjab\", \"Ajnala- Punjab\", \"Amritsar(Amritsar Mewa Mandi)- Punjab\", \"Anandpur Sahib- Punjab\", \"Baghapurana- Punjab\", \"Balachaur- Punjab\", \"Banga- Punjab\", \"Banur- Punjab\", \"Bariwala- Punjab\", \"Barnala- Punjab\", \"Bassi Pathana- Punjab\", \"Batala- Punjab\", \"Bathinda- Punjab\", \"Bhawanigarh- Punjab\", \"Bhucho- Punjab\", \"Budalada- Punjab\", \"Chamkaur Sahib- Punjab\", \"Dasuya- Punjab\", \"Dera Bassi- Punjab\", \"Dharamkot- Punjab\", \"Dhariwal- Punjab\", \"Dhuri- Punjab\", \"Dinanagar- Punjab\", \"Doraha- Punjab\", \"Dudhansadhan- Punjab\", \"F.G.Churian- Punjab\", \"Faridkot- Punjab\", \"Fazilka- Punjab\", \"Fazilka (Ladhuka)- Punjab\", \"Ferozepur Cantt.- Punjab\", \"Firozepur City- Punjab\", \"Garh Shankar- Punjab\", \"Garh Shankar(Mahalpur)- Punjab\", \"GarhShankar (Kotfatuhi)- Punjab\", \"Gehri(Jandiala mandi)- Punjab\", \"Ghanaur- Punjab\", \"Giddarbaha- Punjab\", \"Goniana- Punjab\", \"Goraya- Punjab\", \"Gurdaspur- Punjab\", \"Guru Har Sahai- Punjab\", \"Hoshiarpur- Punjab\", \"Jagraon- Punjab\", \"Jalalabad- Punjab\", \"Jalandhar City(Jalandhar)- Punjab\", \"Kapurthala- Punjab\", \"Khamano- Punjab\", \"Khanauri- Punjab\", \"Khanna- Punjab\", \"Kharar- Punjab\", \"Kotkapura- Punjab\", \"Kurali- Punjab\", \"Lalru- Punjab\", \"Lehra Gaga- Punjab\", \"Ludhiana- Punjab\", \"Machhiwara- Punjab\", \"Makhu- Punjab\", \"Malerkotla- Punjab\", \"Malout- Punjab\", \"Malout (Kilianwali)- Punjab\", \"Mamdot- Punjab\", \"Mansa- Punjab\", \"Moga- Punjab\", \"Moonak- Punjab\", \"Morinda- Punjab\", \"Mukerian- Punjab\", \"Mukerian(Talwara)- Punjab\", \"Muktsar- Punjab\", \"Nabha- Punjab\", \"Nakodar- Punjab\", \"Nawan Shahar(MandiRaho)- Punjab\", \"Nawan Shahar(Subzi Mandi)- Punjab\", \"Nihal Singh Wala- Punjab\", \"Pathankot- Punjab\", \"Patiala- Punjab\", \"Patran- Punjab\", \"Patti- Punjab\", \"Phagwara- Punjab\", \"Phillaur- Punjab\", \"Phillaur(Apra Mandi)- Punjab\", \"Quadian- Punjab\", \"Raikot- Punjab\", \"Rajpura- Punjab\", \"Raman- Punjab\", \"Rampuraphul(Nabha Mandi)- Punjab\", \"Rayya- Punjab\", \"Ropar- Punjab\", \"Sadiq- Punjab\", \"Sahnewal- Punjab\", \"Samana- Punjab\", \"Samrala- Punjab\", \"Sangrur- Punjab\", \"Sardulgarh- Punjab\", \"Sirhind- Punjab\", \"Sunam- Punjab\", \"Talwandi Bhai- Punjab\", \"Talwandi Sabo- Punjab\", \"Tanda Urmur- Punjab\", \"Tapa- Punjab\", \"Tarantaran- Punjab\", \"Zira- Punjab\", \"Abu Road- Rajasthan\", \"Ajmer(F&V)- Rajasthan\", \"Alwar(FV)- Rajasthan\", \"Bayana- Rajasthan\", \"Bharatpur- Rajasthan\", \"Bikaner(F&V)- Rajasthan\", \"Chittorgarh- Rajasthan\", \"Chomu(F&V)- Rajasthan\", \"Jaipur(F&V)- Rajasthan\", \"Jaisalmer- Rajasthan\", \"Jalore- Rajasthan\", \"Jodhpur(F&V)(Bhadwasia)- Rajasthan\", \"Kota (FV)- Rajasthan\", \"Nadwai- Rajasthan\", \"Nagour(FV)- Rajasthan\", \"Neem Ka Thana- Rajasthan\", \"Pilli Banga- Rajasthan\", \"Pratapgarh- Rajasthan\", \"Sanchor- Rajasthan\", \"Sriganganagar(F&V)- Rajasthan\", \"Udaipur(F&V)- Rajasthan\", \"Bodhan- Telangana\", \"Bowenpally- Telangana\", \"Devarakadra- Telangana\", \"Gudimalkapur- Telangana\", \"Hyderabad (F&V)- Telangana\", \"Jogipet- Telangana\", \"Kalwakurthy- Telangana\", \"Kothagudem- Telangana\", \"Mahbubnagar- Telangana\", \"Marapally- Telangana\", \"Nizamabad- Telangana\", \"Pargi- Telangana\", \"Sadasivpet- Telangana\", \"Sadasivpet(Sangareddy)- Telangana\", \"Sardarnagar- Telangana\", \"Sattupalli- Telangana\", \"Shankarapally- Telangana\", \"Vemulawada- Telangana\", \"Kalyanpur- Tripura\", \"Panisagar- Tripura\", \"Silachhari- Tripura\", \"Teliamura- Tripura\", \"Achalda- Uttar Pradesh\", \"Achnera- Uttar Pradesh\", \"Agra- Uttar Pradesh\", \"Ahirora- Uttar Pradesh\", \"Ajuha- Uttar Pradesh\", \"Akbarpur- Uttar Pradesh\", \"Aliganj- Uttar Pradesh\", \"Aligarh- Uttar Pradesh\", \"Allahabad- Uttar Pradesh\", \"Amroha- Uttar Pradesh\", \"Anandnagar- Uttar Pradesh\", \"Anoop Shahar- Uttar Pradesh\", \"Anwala- Uttar Pradesh\", \"Atarra- Uttar Pradesh\", \"Atrauli- Uttar Pradesh\", \"Auraiya- Uttar Pradesh\", \"Awagarh- Uttar Pradesh\", \"Azamgarh- Uttar Pradesh\", \"Baberu- Uttar Pradesh\", \"Babrala- Uttar Pradesh\", \"Badayoun- Uttar Pradesh\", \"Bahedi- Uttar Pradesh\", \"Bahraich- Uttar Pradesh\", \"Ballia- Uttar Pradesh\", \"Balrampur- Uttar Pradesh\", \"Banda- Uttar Pradesh\", \"Bangarmau- Uttar Pradesh\", \"Banthara- Uttar Pradesh\", \"Barabanki- Uttar Pradesh\", \"Baraut- Uttar Pradesh\", \"Bareilly- Uttar Pradesh\", \"Basti- Uttar Pradesh\", \"Bewar- Uttar Pradesh\", \"Bharthna- Uttar Pradesh\", \"Bharuasumerpur- Uttar Pradesh\", \"Bharwari- Uttar Pradesh\", \"Bhehjoi- Uttar Pradesh\", \"Bijnaur- Uttar Pradesh\", \"Billsadda- Uttar Pradesh\", \"Bilsi- Uttar Pradesh\", \"Bindki- Uttar Pradesh\", \"Buland Shahr- Uttar Pradesh\", \"Chaandpur- Uttar Pradesh\", \"Chandausi- Uttar Pradesh\", \"Chandoli- Uttar Pradesh\", \"Charra- Uttar Pradesh\", \"Chhibramau(Kannuj)- Uttar Pradesh\", \"Chitwadagaon- Uttar Pradesh\", \"Chorichora- Uttar Pradesh\", \"Choubepur- Uttar Pradesh\", \"Chutmalpur- Uttar Pradesh\", \"Dadri- Uttar Pradesh\", \"Dankaur- Uttar Pradesh\", \"Dataganj- Uttar Pradesh\", \"Devariya- Uttar Pradesh\", \"Devband- Uttar Pradesh\", \"Dhampur- Uttar Pradesh\", \"Dhanura- Uttar Pradesh\", \"Dibiapur- Uttar Pradesh\", \"Divai- Uttar Pradesh\", \"Dudhi- Uttar Pradesh\", \"Etah- Uttar Pradesh\", \"Etawah- Uttar Pradesh\", \"Faizabad- Uttar Pradesh\", \"Farukhabad- Uttar Pradesh\", \"Fatehabad- Uttar Pradesh\", \"Fatehpur- Uttar Pradesh\", \"Fatehpur Sikri- Uttar Pradesh\", \"Firozabad- Uttar Pradesh\", \"Gadaura- Uttar Pradesh\", \"Gangoh- Uttar Pradesh\", \"Ganjdudwara- Uttar Pradesh\", \"Gazipur- Uttar Pradesh\", \"Ghaziabad- Uttar Pradesh\", \"Ghiraur- Uttar Pradesh\", \"Golagokarnath- Uttar Pradesh\", \"Gonda- Uttar Pradesh\", \"Gopiganj- Uttar Pradesh\", \"Gorakhpur- Uttar Pradesh\", \"Gulavati- Uttar Pradesh\", \"Gurusarai- Uttar Pradesh\", \"Haathras- Uttar Pradesh\", \"Haldaur- Uttar Pradesh\", \"Hamirpur- Uttar Pradesh\", \"Hapur- Uttar Pradesh\", \"Hardoi- Uttar Pradesh\", \"Hasanpur- Uttar Pradesh\", \"Jafarganj- Uttar Pradesh\", \"Jagnair- Uttar Pradesh\", \"Jahanabad- Uttar Pradesh\", \"Jahangirabad- Uttar Pradesh\", \"Jalaun- Uttar Pradesh\", \"Jamanian- Uttar Pradesh\", \"Jangipura- Uttar Pradesh\", \"Jarar- Uttar Pradesh\", \"Jasra- Uttar Pradesh\", \"Jasvantnagar- Uttar Pradesh\", \"Jaunpur- Uttar Pradesh\", \"Javer- Uttar Pradesh\", \"Jayas- Uttar Pradesh\", \"Jhansi- Uttar Pradesh\", \"Jhijhank- Uttar Pradesh\", \"Kannauj- Uttar Pradesh\", \"Kanpur(Grain)- Uttar Pradesh\", \"Karnailganj- Uttar Pradesh\", \"Karvi- Uttar Pradesh\", \"Kasganj- Uttar Pradesh\", \"Kayamganj- Uttar Pradesh\", \"Khaga- Uttar Pradesh\", \"Khair- Uttar Pradesh\", \"Khairagarh- Uttar Pradesh\", \"Khatauli- Uttar Pradesh\", \"Khekda- Uttar Pradesh\", \"Khurja- Uttar Pradesh\", \"Kiratpur- Uttar Pradesh\", \"Kishunpur- Uttar Pradesh\", \"Konch- Uttar Pradesh\", \"Kopaganj- Uttar Pradesh\", \"Kosikalan- Uttar Pradesh\", \"Kurara- Uttar Pradesh\", \"Lakhimpur- Uttar Pradesh\", \"Lalganj- Uttar Pradesh\", \"Lalitpur- Uttar Pradesh\", \"Lucknow- Uttar Pradesh\", \"Madhoganj- Uttar Pradesh\", \"Mahoba- Uttar Pradesh\", \"Maigalganj- Uttar Pradesh\", \"Mainpuri- Uttar Pradesh\", \"Mathura- Uttar Pradesh\", \"Maudaha- Uttar Pradesh\", \"Mauranipur- Uttar Pradesh\", \"Mawana- Uttar Pradesh\", \"Meerut- Uttar Pradesh\", \"Mehmoodabad- Uttar Pradesh\", \"Mihipurwa- Uttar Pradesh\", \"Mirzapur- Uttar Pradesh\", \"Mohammdi- Uttar Pradesh\", \"Moth- Uttar Pradesh\", \"Muradabad- Uttar Pradesh\", \"Muzzafarnagar- Uttar Pradesh\", \"Naanpara- Uttar Pradesh\", \"Nagina- Uttar Pradesh\", \"Najibabad- Uttar Pradesh\", \"Naugarh- Uttar Pradesh\", \"Nautnava- Uttar Pradesh\", \"Nawabganj- Uttar Pradesh\", \"Orai- Uttar Pradesh\", \"Paliakala- Uttar Pradesh\", \"Panwadi- Uttar Pradesh\", \"Partaval- Uttar Pradesh\", \"Payagpur- Uttar Pradesh\", \"Pilibhit- Uttar Pradesh\", \"Pratapgarh- Uttar Pradesh\", \"Pukhrayan- Uttar Pradesh\", \"Puranpur- Uttar Pradesh\", \"Raath- Uttar Pradesh\", \"Raibareilly- Uttar Pradesh\", \"Rampur- Uttar Pradesh\", \"Rampurmaniharan- Uttar Pradesh\", \"Rasda- Uttar Pradesh\", \"Risia- Uttar Pradesh\", \"Robertsganj- Uttar Pradesh\", \"Ruperdeeha- Uttar Pradesh\", \"Rura- Uttar Pradesh\", \"Safdarganj- Uttar Pradesh\", \"Saharanpur- Uttar Pradesh\", \"Sahiyapur- Uttar Pradesh\", \"Saidpur- Uttar Pradesh\", \"Sambhal- Uttar Pradesh\", \"Samsabad- Uttar Pradesh\", \"Sardhana- Uttar Pradesh\", \"Sehjanwa- Uttar Pradesh\", \"Shadabad- Uttar Pradesh\", \"Shahaswan- Uttar Pradesh\", \"Shahganj- Uttar Pradesh\", \"Shahjahanpur- Uttar Pradesh\", \"Shikohabad- Uttar Pradesh\", \"Sikanderabad- Uttar Pradesh\", \"Sikandraraau- Uttar Pradesh\", \"Sikarpur- Uttar Pradesh\", \"Sirsa- Uttar Pradesh\", \"Sirsaganj- Uttar Pradesh\", \"Sitapur- Uttar Pradesh\", \"Siyana- Uttar Pradesh\", \"Soharatgarh- Uttar Pradesh\", \"Sultanpur- Uttar Pradesh\", \"Sultanpurchilkana- Uttar Pradesh\", \"Tamkuhi Road- Uttar Pradesh\", \"Tanda- Uttar Pradesh\", \"Tikonia- Uttar Pradesh\", \"Tilhar- Uttar Pradesh\", \"Tundla- Uttar Pradesh\", \"Ujhani- Uttar Pradesh\", \"Unnao- Uttar Pradesh\", \"Uttaripura- Uttar Pradesh\", \"Varanasi(F&V)- Uttar Pradesh\", \"Varanasi(Grain)- Uttar Pradesh\", \"Varipaal- Uttar Pradesh\", \"Vilthararoad- Uttar Pradesh\", \"Vishalpur- Uttar Pradesh\", \"Visoli- Uttar Pradesh\", \"Wansi- Uttar Pradesh\", \"Wazirganj- Uttar Pradesh\", \"Yusufpur- Uttar Pradesh\", \"Bhagwanpur(Naveen Mandi Sthal)- Uttrakhand\", \"Dehradoon- Uttrakhand\", \"Haldwani- Uttrakhand\", \"Haridwar Union- Uttrakhand\", \"Jaspur(UC)- Uttrakhand\", \"Kashipur- Uttrakhand\", \"Khateema- Uttrakhand\", \"Kicchha- Uttrakhand\", \"Kotadwara- Uttrakhand\", \"Lakshar- Uttrakhand\", \"Manglaur- Uttrakhand\", \"Nanakmatta- Uttrakhand\", \"Ramnagar- Uttrakhand\", \"Rishikesh- Uttrakhand\", \"Roorkee- Uttrakhand\", \"Rudrapur- Uttrakhand\", \"Sitarganj- Uttrakhand\", \"Tanakpur- Uttrakhand\", \"Vikasnagar- Uttrakhand\", \"Alipurduar- West Bengal\", \"Asansol- West Bengal\", \"Balarampur- West Bengal\", \"Bankura Sadar- West Bengal\", \"Bara Bazar (Posta Bazar)- West Bengal\", \"Barasat- West Bengal\", \"Baruipur(Canning)- West Bengal\", \"Belacoba- West Bengal\", \"Bethuadahari- West Bengal\", \"Birbhum- West Bengal\", \"Bishnupur(Bankura)- West Bengal\", \"Bolpur- West Bengal\", \"Burdwan- West Bengal\", \"Chakdah- West Bengal\", \"Diamond Harbour(South 24-pgs)- West Bengal\", \"Durgapur- West Bengal\", \"English Bazar- West Bengal\", \"Falakata- West Bengal\", \"Gajol- West Bengal\", \"Habra- West Bengal\", \"Jalpaiguri Sadar- West Bengal\", \"Jangipur- West Bengal\", \"Kalna- West Bengal\", \"Kalyani- West Bengal\", \"Karsiyang(Matigara)- West Bengal\", \"Kasipur- West Bengal\", \"Katwa- West Bengal\", \"Medinipur(West)- West Bengal\", \"Moynaguri- West Bengal\", \"Nadia- West Bengal\", \"Purulia- West Bengal\", \"Ramkrishanpur(Howrah)- West Bengal\", \"Rampurhat- West Bengal\", \"Ranaghat- West Bengal\", \"Sainthia- West Bengal\", \"Samsi- West Bengal\", \"Sheoraphuly- West Bengal\", \"Siliguri- West Bengal\", \"Tamluk (Medinipur E)- West Bengal\", \"Uluberia- West Bengal\"], \"y\": [11.259999999999998, 4.5, 162.99999999999997, 18.400000000000006, 96.0, 10.699999999999978, 62329.89999999999, 0.1, 250.14999999999998, 205.0, 20.0, 339.0, 223.0, 320.1, 776.5, 8336.9, 378.6, 1235.9, 265.9, 1194.0, 961.4, 246.5, 6031.0, 8402.6, 903.5, 4435.8, 627.0, 358.0, 23635.459999999995, 1922.7, 18.2, 6294.000000000002, 6292.0, 9352.5, 710.6699999999998, 337864.1000000002, 62.88, 15709.930000000015, 407057.9000000001, 290.6, 5768.089999999997, 6710.139999999999, 4940.0, 34.5, 155995.30000000002, 3223.000000000001, 949.6999999999999, 1273.4000000000003, 24.70000000000008, 986906.300000001, 10967.100000000006, 3426.4000000000046, 8.74, 7591.500000000004, 785.5000000000009, 6.0, 4.2, 10.0, 18915.0, 26578.1, 27158.0, 6423.75, 1639.6, 45193.9, 1.1, 235.55999999999995, 1833.9000000000003, 1840.6000000000001, 545.7, 8.65, 1914.1, 3163.2000000000007, 49.5, 2288.0, 6507.150000000001, 6394.0, 1130.3999999999999, 156.0, 63.95, 283.5999999999999, 354.1000000000001, 11588.9, 406.0999999999988, 729.1999999999999, 110.40000000000009, 3656.9, 1432.0, 30510.500000000004, 46.0, 34.6, 3157.3999999999996, 10.0, 1.600000000000001, 829.5999999999999, 161.35999999999984, 385.7, 1632.3, 1.6500000000000001, 10.0, 2.7, 75.2, 0.5, 828.0, 498.6, 2043.0999999999992, 29.74999999999999, 228.3000000000001, 2745.999999999999, 487.0, 63.44999999999999, 158.8199999999999, 2190.5000000000005, 150.04, 2.4900000000000007, 290.0, 245.0, 4012.7, 332.29999999999995, 51.80000000000007, 14720.0, 4579.0, 0.8, 87.91999999999996, 2.05, 728.1000000000005, 1296.8000000000004, 724.6999999999998, 462.3000000000001, 449.2999999999996, 1837.8000000000013, 142.2899999999999, 4223.3, 794.0, 1034.4999999999998, 1711.1, 237.29999999999998, 3.0, 552.1999999999999, 2967.2, 153.8, 288.0, 2727.5000000000014, 231.40000000000003, 272.39999999999975, 298.69999999999976, 1.1, 189.36000000000013, 411.10000000000036, 71.57, 40.89999999999999, 156.80000000000004, 382.4999999999999, 5.1000000000000005, 792.9999999999998, 16.399999999999977, 12.329999999999988, 58.54000000000002, 605.1700000000001, 909.3699999999997, 738.6500000000001, 196.5, 644.3999999999999, 31667.0, 5433.0, 360.5, 197.6000000000001, 290.90000000000015, 2469.0, 1420.8399999999992, 540.55, 3.5, 290.45, 168.4, 81.46, 100.0, 719.0999999999997, 252.5, 777.0, 27715.0, 223.0, 3632146.0, 206.0, 219644.0, 88.0, 7778.0, 162.0, 3011.0, 1542.0, 11.0, 17277.0, 12836.0, 278.0, 8443.0, 36245.0, 5.0, 2200.0, 4.0, 1322.0, 386681.0, 2315.0, 7.0, 1.0, 266.0, 5.0, 5.0, 31009.0, 12974.0, 1.0, 8239.0, 825.0, 11.0, 2.0, 95.0, 358.0, 108.0, 1166.0, 3260.0, 14707.0, 72.5, 185.95000000000005, 297.5, 64.70000000000023, 329.6000000000003, 6477.0, 182.7, 88.60000000000001, 98.89999999999998, 32.00999999999998, 1312.5, 1948.5, 99.08999999999986, 1431.7999999999904, 585.0, 16.799999999999972, 65.49999999999987, 555.6, 351.5, 10701.0, 367.2, 2278.0, 5062.0, 1058.4, 1450.0, 679.4199999999996, 3856.95, 3282.0, 427.0, 134.1899999999999, 1760.0, 1074.8, 374.4, 2305.0, 3796.5, 2037.0, 148.64999999999966, 228.00000000000037, 111.6, 210.00000000000009, 532.0, 6136.0, 12930.0, 249.0, 372.00000000000057, 290.0, 1712.4, 229.30000000000004, 625.9999999999999, 440.0000000000004, 103.89999999999998, 135.0, 217.30000000000032, 183.20000000000002, 341.8, 49.7, 118.80000000000003, 451.20000000000056, 25850.0, 242.2, 4133.0, 204.5799999999999, 206.70000000000005, 824.5, 305.75, 154.59999999999974, 231.0, 12788.500000000002, 30453.100000000006, 1880.6000000000013, 6843.0, 3972.0, 9326.0, 2010.8999999999994, 556.8100000000005, 81.70000000000009, 38.33000000000002, 261.32000000000005, 163.5, 182773.2000000001, 7955.199999999999, 1.5000000000000002, 57.89999999999999, 19.2, 27105.7, 14821.1, 12588.05, 426.0, 34012.700000000004, 92.3, 2041.8000000000006, 25194.49999999998, 2706.95, 2570.0, 73550.0, 5343.7, 20727.70000000002, 1448.3000000000006, 65.38000000000001, 5134.3, 896.5000000000001, 10231.2, 1162.0600000000002, 64.5, 27637.799999999977, 23378.889999999996, 125.24999999999997, 0.5, 46100.100000000006, 182632.0, 2025.0, 25075.0, 319.0, 3289.0, 7681.0, 14776.0, 2427.0, 384.0, 23198.0, 28729.0, 39.0, 11501.0, 146536.0, 109002.0, 58280.0, 11238.0, 80581.0, 1181.0, 1421.0, 10752.0, 6084.0, 43951.0, 94149.0, 54932.0, 10638.0, 102850.0, 180.0, 5713.0, 1471.0, 55219.0, 160906.0, 36813.0, 193.0, 1176.0, 2596.0, 303361.0, 64497.0, 18777.0, 23246.0, 32300.0, 142685.0, 229843.0, 6469.0, 196.0, 183866.0, 2.0, 40975.0, 94893.0, 83000.0, 2403.0, 66111.0, 51.0, 270914.0, 66.0, 7875.0, 661.0, 11394.0, 30.0, 6761.0, 822.0, 84359.0, 10197.0, 393943.0, 113096.0, 337527.0, 308.0, 1774.0, 111678.0, 127476.0, 72544.0, 214.0, 33743.0, 159173.0, 58523.0, 147174.0, 4986.0, 147.0, 1405.0, 5869.0, 114051.0, 116860.0, 380507.0, 3529.0, 964.0, 34123.0, 1636.0, 254274.0, 147.0, 24975.0, 300078.0, 159.09999999999994, 1414.8999999999985, 342.0000000000001, 14.399999999999999, 266.4, 7.0, 19.799999999999997, 140.5, 12.08, 3.5000000000000004, 292410.9, 27754.85000000003, 95408.17999999988, 32.0, 16862.0, 70.75, 1245.9, 112.0, 1037.9, 14.0, 68.05, 4145.0, 943.5, 563.0, 5.0, 1326.640000000002, 1103.3099999999993, 595.0, 90.0, 14.579999999999986, 2024.52, 13.299999999999969, 858.3999999999999, 43.699999999999996, 989.6000000000012, 268.20000000000033, 104.79999999999949, 177.69999999999996, 15889.0, 499.0, 2778.0, 838.0, 8774.75, 401.0, 10.14, 55.0, 14.37, 637.0, 3319.3000000000025, 7327.0, 2155.0, 2736.0, 3199.5000000000027, 2632.700000000003, 114.8, 1281.0, 1396.0299999999993, 1309.49, 4709.749999999999, 330.19999999999993, 160.0, 1077.0, 781.0, 650.0, 1337.9999999999993, 844.1999999999998, 167.30000000000004, 6608.0, 311.0, 392.4, 265.5999999999979, 28.0, 12.0, 20.6, 0.3, 6843.93, 165.99999999999997, 113.0, 1415.0, 7.8, 35.0, 650.0, 674.0, 11.7, 884.0, 218.0, 410.09999999999997, 29.4, 2255.0, 694.8999999999996, 13.0, 95.49999999999999, 24.2, 738.5000000000008, 832.0, 4236.5, 338.6000000000001, 263.75, 27840.0, 1275.0, 101.29999999999994, 447.7000000000003, 1021.3000000000001, 57.69999999999998, 1.5999999999999999, 20217.400000000005, 533.2000000000004, 1829.5000000000014, 2787.5999999999995, 865.7000000000011, 25.45000000000008, 420.40000000000003, 793.7999999999997, 1138.8, 217.69999999999993, 160.86999999999995, 246.71999999999989, 495.0999999999999, 321.3999999999996, 718.8999999999995, 128.89999999999995, 64.62999999999997, 5728.4800000000005, 4363.099999999998, 2.250000000000001, 38.59000000000003, 3484.7000000000003, 1699.700000000001, 1216.6000000000008, 202.39999999999998, 28.09999999999998, 21.700000000000003, 136.95000000000007, 35.15000000000003, 213.89999999999978, 3413.100000000001, 722.7000000000004, 8976.3, 2548.0899999999992, 1276.5, 34905.2, 3.6, 26.59999999999999, 75.79999999999973, 13940.299999999996, 2599.499999999997, 4277.0, 1133.7, 1173.310000000001, 176.39999999999998, 28887.0, 676.6999999999999, 152.60000000000005, 7802.7, 1772.7000000000003, 723.0, 306.5000000000002, 1319.7, 17011.000000000007, 101.44999999999996, 1158.8999999999996, 166.75000000000009, 86.70000000000014, 1304.7, 5307.999999999999, 12.600000000000001, 1.8500000000000012, 1691.3299999999997, 53.20000000000002, 8357.0, 3471.9, 990.5000000000003, 587.5999999999997, 7741.899999999992, 33.4, 91.60000000000007, 311.00000000000017, 578.0, 1054.3999999999996, 411.49999999999994, 268.39999999999964, 91.59999999999974, 3678.6000000000017, 7.200000000000003, 223.74999999999983, 702.2000000000002, 827.8000000000003, 2346.6000000000004, 299.3300000000002, 1236.9000000000005, 1523.7, 0.7, 39.59999999999997, 1290.4, 4.679999999999999, 172.39999999999992, 269.14000000000027, 3463.0, 17164.299999999996, 55163.600000000006, 29.7, 327.90000000000003, 1039.8, 1353.8999999999996, 3555.3, 94.02, 2453.2, 750.5500000000004, 32286.199999999997, 19503.899999999994, 1092.0, 909.6000000000003, 466.5000000000001, 394.0399999999987, 3821.599999999998, 15.219999999999997, 18738.0, 10187.000000000004, 98.39999999999999, 9207.7, 143.4, 17682.899999999998, 491479.0999999995, 1.6, 2.0, 222.0, 17.8, 77.0, 898.6999999999999, 1.2, 5850.1, 40.4, 1.6000000000000005, 40.0, 1039.25, 10.0, 137.5, 45.400000000000006, 2.0, 90.5, 3792.0, 687.0999999999998, 122883.0, 336.5, 1693.0, 601.7, 205.50000000000006, 21755.0, 44446.25, 668.0, 4524.5, 79.0, 25640.0, 1082.4, 1660.0, 2367.71, 191.7, 41550.5, 2299.5, 2110.0, 12642.1, 1563.0, 19473.5, 16006.0, 1475.7999999999995, 2337.4, 85.35, 98.0, 7326.2, 385.5, 25244.040000000005, 2924.2, 159.0, 379.2, 254.0, 2827.5, 112.74, 2913.7, 3710.0, 3518.0, 5840.7, 980.5, 50.0, 3640.5, 2992.0, 1370.0, 919.9, 4105.0, 2223.6, 850.8, 65.5, 1854.0, 30.5, 2020.0, 22160.2, 159.5, 120.0, 399.0, 592.0, 145.5, 319.5, 2114.16, 9843.0, 2176.8, 2559.5, 3244.7, 6491.7, 481.0, 1894.1, 772.5, 58.0, 217.29999999999998, 4783.0, 20848.5, 276.0, 222.5, 5356.0, 62.0, 62955.1, 467.7999999999999, 51.90000000000002, 5391.5, 14.0, 16.0, 6536.0, 2892.2, 118.2, 1969.0, 783.1, 622.5, 328.5999999999997, 576.5000000000002, 120.0, 1575.0, 4720.0, 2278.0, 1381.0, 33314.64000000001, 260.0, 772.1999999999995, 18839.5, 397.0, 1503.3999999999996, 80430.0, 148.99999999999997, 1159.3999999999999, 1672.5800000000002, 1710.7, 4541.5, 2213.0, 1016.0000000000002, 600.0, 42.2, 100.0, 65.0, 56.0, 2566.7999999999997, 12920.0, 1560.0, 59.5, 9189.2, 2529.5, 2636.5, 39897.0, 1281.4999999999998, 985.2999999999998, 15.0, 3589.0, 3458.0, 882.0, 111.60000000000004, 318.2999999999995, 5427.1, 181.5, 1953.3, 7177.0, 12.0, 49.69999999999999, 11112.5, 3514.0, 3985.0, 50.0, 580.0, 1574.7, 2430.0, 133.9, 1598.1, 18.7, 3.7, 3987.2, 2258.0, 21814.5, 2410.5, 597.5, 623.7, 1932.8999999999999, 5468.3, 856.5, 16.0, 3060.0, 715.2, 5492.0, 1089.0, 727.8000000000001, 450.0, 10080.5, 3576.4, 1005.0, 1112.7499999999998, 2803.5, 402.3999999999998, 292.0, 1680.0, 2530.0, 623.1000000000004, 5107.5, 1921.5, 390.0, 565.0, 180.0, 1386.0, 486.90000000000003, 17008.8, 452.09999999999997, 268.0, 16605.7, 49.0, 8385.8, 612.5, 29.5, 52.29999999999998, 31.6, 1739.8, 1275.3999999999996, 265.0, 50666.0, 4427.0, 215.0, 3596.0, 5009.0, 3375.0, 256.5, 3450.0, 3233.0, 55.7, 23280.999999999993, 1592.2000000000003, 1210.1000000000006, 148.09999999999985, 558.0999999999998, 723.6, 20.0, 111.50000000000001, 32.400000000000006, 1.4000000000000001, 186.9, 753.6000000000008, 1178.9999999999998, 7754.200000000001, 233.8, 119.9, 78.0, 590.4000000000001, 2348.0, 16399.5, 340.8, 3860.0, 55209.5, 12310.0, 1024.0, 164.5, 969.2, 14566.000000000004, 4902.0, 2193.14, 13362.0, 12694.0, 510.4, 16463.0, 22032.900000000016, 964.6, 1872.3000000000002, 3458.7000000000007, 1452.8, 18755.0, 4707.0, 1099.1000000000006, 64.52000000000008, 269.10000000000036, 7982.4, 2087.0, 212.5, 7721.0, 3027.0, 2236.6999999999994, 2332.7000000000003, 1564.2, 38213.1, 5620.0, 24157.0, 7142.7, 2342.499999999998, 1053.1000000000001]}],\n",
       "                        {\"template\": {\"data\": {\"bar\": [{\"error_x\": {\"color\": \"#2a3f5f\"}, \"error_y\": {\"color\": \"#2a3f5f\"}, \"marker\": {\"line\": {\"color\": \"#E5ECF6\", \"width\": 0.5}}, \"type\": \"bar\"}], \"barpolar\": [{\"marker\": {\"line\": {\"color\": \"#E5ECF6\", \"width\": 0.5}}, \"type\": \"barpolar\"}], \"carpet\": [{\"aaxis\": {\"endlinecolor\": \"#2a3f5f\", \"gridcolor\": \"white\", \"linecolor\": \"white\", \"minorgridcolor\": \"white\", \"startlinecolor\": \"#2a3f5f\"}, \"baxis\": {\"endlinecolor\": \"#2a3f5f\", \"gridcolor\": \"white\", \"linecolor\": \"white\", \"minorgridcolor\": \"white\", \"startlinecolor\": \"#2a3f5f\"}, \"type\": \"carpet\"}], \"choropleth\": [{\"colorbar\": {\"outlinewidth\": 0, \"ticks\": \"\"}, \"type\": \"choropleth\"}], \"contour\": [{\"colorbar\": {\"outlinewidth\": 0, \"ticks\": \"\"}, \"colorscale\": [[0.0, \"#0d0887\"], [0.1111111111111111, \"#46039f\"], [0.2222222222222222, \"#7201a8\"], [0.3333333333333333, \"#9c179e\"], [0.4444444444444444, \"#bd3786\"], [0.5555555555555556, \"#d8576b\"], [0.6666666666666666, \"#ed7953\"], [0.7777777777777778, \"#fb9f3a\"], [0.8888888888888888, \"#fdca26\"], [1.0, \"#f0f921\"]], \"type\": \"contour\"}], \"contourcarpet\": [{\"colorbar\": {\"outlinewidth\": 0, \"ticks\": \"\"}, \"type\": \"contourcarpet\"}], \"heatmap\": [{\"colorbar\": {\"outlinewidth\": 0, \"ticks\": \"\"}, \"colorscale\": [[0.0, \"#0d0887\"], [0.1111111111111111, \"#46039f\"], [0.2222222222222222, \"#7201a8\"], [0.3333333333333333, \"#9c179e\"], [0.4444444444444444, \"#bd3786\"], [0.5555555555555556, \"#d8576b\"], [0.6666666666666666, \"#ed7953\"], [0.7777777777777778, \"#fb9f3a\"], [0.8888888888888888, \"#fdca26\"], [1.0, \"#f0f921\"]], \"type\": \"heatmap\"}], \"heatmapgl\": [{\"colorbar\": {\"outlinewidth\": 0, \"ticks\": \"\"}, \"colorscale\": [[0.0, \"#0d0887\"], [0.1111111111111111, \"#46039f\"], [0.2222222222222222, \"#7201a8\"], [0.3333333333333333, \"#9c179e\"], [0.4444444444444444, \"#bd3786\"], [0.5555555555555556, \"#d8576b\"], [0.6666666666666666, \"#ed7953\"], [0.7777777777777778, \"#fb9f3a\"], [0.8888888888888888, \"#fdca26\"], [1.0, \"#f0f921\"]], \"type\": \"heatmapgl\"}], \"histogram\": [{\"marker\": {\"colorbar\": {\"outlinewidth\": 0, \"ticks\": \"\"}}, \"type\": \"histogram\"}], \"histogram2d\": [{\"colorbar\": {\"outlinewidth\": 0, \"ticks\": \"\"}, \"colorscale\": [[0.0, \"#0d0887\"], [0.1111111111111111, \"#46039f\"], [0.2222222222222222, \"#7201a8\"], [0.3333333333333333, \"#9c179e\"], [0.4444444444444444, \"#bd3786\"], [0.5555555555555556, \"#d8576b\"], [0.6666666666666666, \"#ed7953\"], [0.7777777777777778, \"#fb9f3a\"], [0.8888888888888888, \"#fdca26\"], [1.0, \"#f0f921\"]], \"type\": \"histogram2d\"}], \"histogram2dcontour\": [{\"colorbar\": {\"outlinewidth\": 0, \"ticks\": \"\"}, \"colorscale\": [[0.0, \"#0d0887\"], [0.1111111111111111, \"#46039f\"], [0.2222222222222222, \"#7201a8\"], [0.3333333333333333, \"#9c179e\"], [0.4444444444444444, \"#bd3786\"], [0.5555555555555556, \"#d8576b\"], [0.6666666666666666, \"#ed7953\"], [0.7777777777777778, \"#fb9f3a\"], [0.8888888888888888, \"#fdca26\"], [1.0, \"#f0f921\"]], \"type\": \"histogram2dcontour\"}], \"mesh3d\": [{\"colorbar\": {\"outlinewidth\": 0, \"ticks\": \"\"}, \"type\": \"mesh3d\"}], \"parcoords\": [{\"line\": {\"colorbar\": {\"outlinewidth\": 0, \"ticks\": \"\"}}, \"type\": \"parcoords\"}], \"scatter\": [{\"marker\": {\"colorbar\": {\"outlinewidth\": 0, \"ticks\": \"\"}}, \"type\": \"scatter\"}], \"scatter3d\": [{\"line\": {\"colorbar\": {\"outlinewidth\": 0, \"ticks\": \"\"}}, \"marker\": {\"colorbar\": {\"outlinewidth\": 0, \"ticks\": \"\"}}, \"type\": \"scatter3d\"}], \"scattercarpet\": [{\"marker\": {\"colorbar\": {\"outlinewidth\": 0, \"ticks\": \"\"}}, \"type\": \"scattercarpet\"}], \"scattergeo\": [{\"marker\": {\"colorbar\": {\"outlinewidth\": 0, \"ticks\": \"\"}}, \"type\": \"scattergeo\"}], \"scattergl\": [{\"marker\": {\"colorbar\": {\"outlinewidth\": 0, \"ticks\": \"\"}}, \"type\": \"scattergl\"}], \"scattermapbox\": [{\"marker\": {\"colorbar\": {\"outlinewidth\": 0, \"ticks\": \"\"}}, \"type\": \"scattermapbox\"}], \"scatterpolar\": [{\"marker\": {\"colorbar\": {\"outlinewidth\": 0, \"ticks\": \"\"}}, \"type\": \"scatterpolar\"}], \"scatterpolargl\": [{\"marker\": {\"colorbar\": {\"outlinewidth\": 0, \"ticks\": \"\"}}, \"type\": \"scatterpolargl\"}], \"scatterternary\": [{\"marker\": {\"colorbar\": {\"outlinewidth\": 0, \"ticks\": \"\"}}, \"type\": \"scatterternary\"}], \"surface\": [{\"colorbar\": {\"outlinewidth\": 0, \"ticks\": \"\"}, \"colorscale\": [[0.0, \"#0d0887\"], [0.1111111111111111, \"#46039f\"], [0.2222222222222222, \"#7201a8\"], [0.3333333333333333, \"#9c179e\"], [0.4444444444444444, \"#bd3786\"], [0.5555555555555556, \"#d8576b\"], [0.6666666666666666, \"#ed7953\"], [0.7777777777777778, \"#fb9f3a\"], [0.8888888888888888, \"#fdca26\"], [1.0, \"#f0f921\"]], \"type\": \"surface\"}], \"table\": [{\"cells\": {\"fill\": {\"color\": \"#EBF0F8\"}, \"line\": {\"color\": \"white\"}}, \"header\": {\"fill\": {\"color\": \"#C8D4E3\"}, \"line\": {\"color\": \"white\"}}, \"type\": \"table\"}]}, \"layout\": {\"annotationdefaults\": {\"arrowcolor\": \"#2a3f5f\", \"arrowhead\": 0, \"arrowwidth\": 1}, \"colorscale\": {\"diverging\": [[0, \"#8e0152\"], [0.1, \"#c51b7d\"], [0.2, \"#de77ae\"], [0.3, \"#f1b6da\"], [0.4, \"#fde0ef\"], [0.5, \"#f7f7f7\"], [0.6, \"#e6f5d0\"], [0.7, \"#b8e186\"], [0.8, \"#7fbc41\"], [0.9, \"#4d9221\"], [1, \"#276419\"]], \"sequential\": [[0.0, \"#0d0887\"], [0.1111111111111111, \"#46039f\"], [0.2222222222222222, \"#7201a8\"], [0.3333333333333333, \"#9c179e\"], [0.4444444444444444, \"#bd3786\"], [0.5555555555555556, \"#d8576b\"], [0.6666666666666666, \"#ed7953\"], [0.7777777777777778, \"#fb9f3a\"], [0.8888888888888888, \"#fdca26\"], [1.0, \"#f0f921\"]], \"sequentialminus\": [[0.0, \"#0d0887\"], [0.1111111111111111, \"#46039f\"], [0.2222222222222222, \"#7201a8\"], [0.3333333333333333, \"#9c179e\"], [0.4444444444444444, \"#bd3786\"], [0.5555555555555556, \"#d8576b\"], [0.6666666666666666, \"#ed7953\"], [0.7777777777777778, \"#fb9f3a\"], [0.8888888888888888, \"#fdca26\"], [1.0, \"#f0f921\"]]}, \"colorway\": [\"#636efa\", \"#EF553B\", \"#00cc96\", \"#ab63fa\", \"#FFA15A\", \"#19d3f3\", \"#FF6692\", \"#B6E880\", \"#FF97FF\", \"#FECB52\"], \"font\": {\"color\": \"#2a3f5f\"}, \"geo\": {\"bgcolor\": \"white\", \"lakecolor\": \"white\", \"landcolor\": \"#E5ECF6\", \"showlakes\": true, \"showland\": true, \"subunitcolor\": \"white\"}, \"hoverlabel\": {\"align\": \"left\"}, \"hovermode\": \"closest\", \"mapbox\": {\"style\": \"light\"}, \"paper_bgcolor\": \"white\", \"plot_bgcolor\": \"#E5ECF6\", \"polar\": {\"angularaxis\": {\"gridcolor\": \"white\", \"linecolor\": \"white\", \"ticks\": \"\"}, \"bgcolor\": \"#E5ECF6\", \"radialaxis\": {\"gridcolor\": \"white\", \"linecolor\": \"white\", \"ticks\": \"\"}}, \"scene\": {\"xaxis\": {\"backgroundcolor\": \"#E5ECF6\", \"gridcolor\": \"white\", \"gridwidth\": 2, \"linecolor\": \"white\", \"showbackground\": true, \"ticks\": \"\", \"zerolinecolor\": \"white\"}, \"yaxis\": {\"backgroundcolor\": \"#E5ECF6\", \"gridcolor\": \"white\", \"gridwidth\": 2, \"linecolor\": \"white\", \"showbackground\": true, \"ticks\": \"\", \"zerolinecolor\": \"white\"}, \"zaxis\": {\"backgroundcolor\": \"#E5ECF6\", \"gridcolor\": \"white\", \"gridwidth\": 2, \"linecolor\": \"white\", \"showbackground\": true, \"ticks\": \"\", \"zerolinecolor\": \"white\"}}, \"shapedefaults\": {\"line\": {\"color\": \"#2a3f5f\"}}, \"ternary\": {\"aaxis\": {\"gridcolor\": \"white\", \"linecolor\": \"white\", \"ticks\": \"\"}, \"baxis\": {\"gridcolor\": \"white\", \"linecolor\": \"white\", \"ticks\": \"\"}, \"bgcolor\": \"#E5ECF6\", \"caxis\": {\"gridcolor\": \"white\", \"linecolor\": \"white\", \"ticks\": \"\"}}, \"title\": {\"x\": 0.05}, \"xaxis\": {\"automargin\": true, \"gridcolor\": \"white\", \"linecolor\": \"white\", \"ticks\": \"\", \"zerolinecolor\": \"white\", \"zerolinewidth\": 2}, \"yaxis\": {\"automargin\": true, \"gridcolor\": \"white\", \"linecolor\": \"white\", \"ticks\": \"\", \"zerolinecolor\": \"white\", \"zerolinewidth\": 2}}}},\n",
       "                        {\"responsive\": true}\n",
       "                    ).then(function(){\n",
       "                            \n",
       "var gd = document.getElementById('bcbc9d32-499f-4df3-9040-a2ca2a834322');\n",
       "var x = new MutationObserver(function (mutations, observer) {{\n",
       "        var display = window.getComputedStyle(gd).display;\n",
       "        if (!display || display === 'none') {{\n",
       "            console.log([gd, 'removed!']);\n",
       "            Plotly.purge(gd);\n",
       "            observer.disconnect();\n",
       "        }}\n",
       "}});\n",
       "\n",
       "// Listen for the removal of the full notebook cells\n",
       "var notebookContainer = gd.closest('#notebook-container');\n",
       "if (notebookContainer) {{\n",
       "    x.observe(notebookContainer, {childList: true});\n",
       "}}\n",
       "\n",
       "// Listen for the clearing of the current output cell\n",
       "var outputEl = gd.closest('.output');\n",
       "if (outputEl) {{\n",
       "    x.observe(outputEl, {childList: true});\n",
       "}}\n",
       "\n",
       "                        })\n",
       "                };\n",
       "                });\n",
       "            </script>\n",
       "        </div>"
      ]
     },
     "metadata": {},
     "output_type": "display_data"
    }
   ],
   "source": [
    "iplot([go.Scatter(x=new1['market-state'], y=new1['Qtity'], mode='markers')])"
   ]
  },
  {
   "cell_type": "code",
   "execution_count": 79,
   "metadata": {},
   "outputs": [],
   "source": [
    "import matplotlib.pyplot as plt"
   ]
  },
  {
   "cell_type": "code",
   "execution_count": 80,
   "metadata": {
    "collapsed": true
   },
   "outputs": [
    {
     "name": "stderr",
     "output_type": "stream",
     "text": [
      "/Users/PV/anaconda3/lib/python3.6/site-packages/ipykernel_launcher.py:1: SettingWithCopyWarning:\n",
      "\n",
      "\n",
      "A value is trying to be set on a copy of a slice from a DataFrame.\n",
      "Try using .loc[row_indexer,col_indexer] = value instead\n",
      "\n",
      "See the caveats in the documentation: http://pandas.pydata.org/pandas-docs/stable/indexing.html#indexing-view-versus-copy\n",
      "\n"
     ]
    }
   ],
   "source": [
    "df2['date'] = pd.to_datetime(df2['Report Date'].astype('str'), format = '%Y%m%d')"
   ]
  },
  {
   "cell_type": "code",
   "execution_count": 95,
   "metadata": {},
   "outputs": [
    {
     "data": {
      "image/png": "[encoded data removed]",
      "text/plain": [
       "<matplotlib.figure.Figure at 0x1a1a234ac8>"
      ]
     },
     "metadata": {},
     "output_type": "display_data"
    }
   ],
   "source": [
    "fig, ax1 = plt.subplots(figsize=(18, 10))\n",
    "fig.suptitle('Prices and Quantity plotted against time', fontsize= 25)\n",
    "\n",
    "color = 'tab:red'\n",
    "ax1.set_xlabel('dates', fontsize = 18)\n",
    "ax1.set_ylabel('Prices', color=color, fontsize = 20)\n",
    "ax1.plot(df2['date'],df2['Modal Prices(in Rs/quintals)'], color= color)\n",
    "ax1.tick_params(axis='y', labelcolor=color)\n",
    "ax1.spines['top'].set_visible(False)\n",
    "\n",
    "ax2 = ax1.twinx()  # instantiate a second axes that shares the same x-axis\n",
    "\n",
    "color = 'tab:blue'\n",
    "ax2.set_ylabel('Quantity', color=color, fontsize = 20)  \n",
    "ax2.plot(df2['date'],df2['Arrival_Tonnes_Calc'], color=color)\n",
    "ax2.tick_params(axis='y', labelcolor=color)\n",
    "ax2.spines['top'].set_visible(False)\n",
    "\n",
    "\n",
    "fig.tight_layout()  # otherwise the right y-label is slightly clipped\n",
    "# fig.settitle()\n",
    "plt.show()"
   ]
  }
 ],
 "metadata": {
  "kernelspec": {
   "display_name": "Python 3",
   "language": "python",
   "name": "python3"
  },
  "language_info": {
   "codemirror_mode": {
    "name": "ipython",
    "version": 3
   },
   "file_extension": ".py",
   "mimetype": "text/x-python",
   "name": "python",
   "nbconvert_exporter": "python",
   "pygments_lexer": "ipython3",
   "version": "3.6.4"
  }
 },
 "nbformat": 4,
 "nbformat_minor": 2
}
