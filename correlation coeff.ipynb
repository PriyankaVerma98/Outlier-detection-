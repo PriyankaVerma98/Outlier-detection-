{
 "cells": [
  {
   "cell_type": "markdown",
   "metadata": {},
   "source": [
    "# calculating Pearson Correlation Coefficient of Modal Prices and Quantity"
   ]
  },
  {
   "cell_type": "code",
   "execution_count": 1,
   "metadata": {},
   "outputs": [],
   "source": [
    "import pandas as pd\n",
    "import numpy as np\n",
    "import datetime\n",
    "from datetime import timedelta\n",
    "import seaborn as sns"
   ]
  },
  {
   "cell_type": "code",
   "execution_count": 11,
   "metadata": {},
   "outputs": [],
   "source": [
    "data = pd.read_csv(\"Cleaned_Data2016-17.csv\")"
   ]
  },
  {
   "cell_type": "code",
   "execution_count": 12,
   "metadata": {
    "scrolled": true
   },
   "outputs": [
    {
     "data": {
      "text/plain": [
       "3390595"
      ]
     },
     "execution_count": 12,
     "metadata": {},
     "output_type": "execute_result"
    }
   ],
   "source": [
    "df_concat = data[['Unnamed: 0', 'Commodity', 'State', 'Market Center', 'Report Date', 'Modal Prices(in Rs/quintals)', 'Arrival_Tonnes_Calc']]\n",
    "len(df_concat)"
   ]
  },
  {
   "cell_type": "code",
   "execution_count": 13,
   "metadata": {
    "collapsed": true
   },
   "outputs": [
    {
     "name": "stderr",
     "output_type": "stream",
     "text": [
      "/Users/PV/anaconda3/lib/python3.6/site-packages/ipykernel_launcher.py:1: SettingWithCopyWarning: \n",
      "A value is trying to be set on a copy of a slice from a DataFrame\n",
      "\n",
      "See the caveats in the documentation: http://pandas.pydata.org/pandas-docs/stable/indexing.html#indexing-view-versus-copy\n",
      "  \"\"\"Entry point for launching an IPython kernel.\n"
     ]
    },
    {
     "data": {
      "text/plain": [
       "3002888"
      ]
     },
     "execution_count": 13,
     "metadata": {},
     "output_type": "execute_result"
    }
   ],
   "source": [
    "df_concat.dropna(inplace = True)\n",
    "len(df_concat)"
   ]
  },
  {
   "cell_type": "code",
   "execution_count": 14,
   "metadata": {},
   "outputs": [
    {
     "data": {
      "text/html": [
       "<div>\n",
       "<style scoped>\n",
       "    .dataframe tbody tr th:only-of-type {\n",
       "        vertical-align: middle;\n",
       "    }\n",
       "\n",
       "    .dataframe tbody tr th {\n",
       "        vertical-align: top;\n",
       "    }\n",
       "\n",
       "    .dataframe thead th {\n",
       "        text-align: right;\n",
       "    }\n",
       "</style>\n",
       "<table border=\"1\" class=\"dataframe\">\n",
       "  <thead>\n",
       "    <tr style=\"text-align: right;\">\n",
       "      <th></th>\n",
       "      <th>Unnamed: 0</th>\n",
       "      <th>Commodity</th>\n",
       "      <th>State</th>\n",
       "      <th>Market Center</th>\n",
       "      <th>Report Date</th>\n",
       "      <th>Modal Prices(in Rs/quintals)</th>\n",
       "      <th>Arrival_Tonnes_Calc</th>\n",
       "    </tr>\n",
       "  </thead>\n",
       "  <tbody>\n",
       "    <tr>\n",
       "      <th>1</th>\n",
       "      <td>1</td>\n",
       "      <td>Coffee</td>\n",
       "      <td>Kerala</td>\n",
       "      <td>Kalpetta</td>\n",
       "      <td>20160402</td>\n",
       "      <td>5700.0</td>\n",
       "      <td>10.0</td>\n",
       "    </tr>\n",
       "    <tr>\n",
       "      <th>2</th>\n",
       "      <td>2</td>\n",
       "      <td>Coffee</td>\n",
       "      <td>Kerala</td>\n",
       "      <td>Kalpetta</td>\n",
       "      <td>20160404</td>\n",
       "      <td>5700.0</td>\n",
       "      <td>10.0</td>\n",
       "    </tr>\n",
       "    <tr>\n",
       "      <th>3</th>\n",
       "      <td>3</td>\n",
       "      <td>Coffee</td>\n",
       "      <td>Kerala</td>\n",
       "      <td>Kalpetta</td>\n",
       "      <td>20160406</td>\n",
       "      <td>5700.0</td>\n",
       "      <td>7.5</td>\n",
       "    </tr>\n",
       "    <tr>\n",
       "      <th>4</th>\n",
       "      <td>4</td>\n",
       "      <td>Coffee</td>\n",
       "      <td>Kerala</td>\n",
       "      <td>Kalpetta</td>\n",
       "      <td>20160407</td>\n",
       "      <td>5700.0</td>\n",
       "      <td>8.0</td>\n",
       "    </tr>\n",
       "    <tr>\n",
       "      <th>5</th>\n",
       "      <td>5</td>\n",
       "      <td>Coffee</td>\n",
       "      <td>Kerala</td>\n",
       "      <td>Kalpetta</td>\n",
       "      <td>20160408</td>\n",
       "      <td>5700.0</td>\n",
       "      <td>7.5</td>\n",
       "    </tr>\n",
       "  </tbody>\n",
       "</table>\n",
       "</div>"
      ],
      "text/plain": [
       "   Unnamed: 0 Commodity   State Market Center  Report Date  \\\n",
       "1           1    Coffee  Kerala      Kalpetta     20160402   \n",
       "2           2    Coffee  Kerala      Kalpetta     20160404   \n",
       "3           3    Coffee  Kerala      Kalpetta     20160406   \n",
       "4           4    Coffee  Kerala      Kalpetta     20160407   \n",
       "5           5    Coffee  Kerala      Kalpetta     20160408   \n",
       "\n",
       "   Modal Prices(in Rs/quintals)  Arrival_Tonnes_Calc  \n",
       "1                        5700.0                 10.0  \n",
       "2                        5700.0                 10.0  \n",
       "3                        5700.0                  7.5  \n",
       "4                        5700.0                  8.0  \n",
       "5                        5700.0                  7.5  "
      ]
     },
     "execution_count": 14,
     "metadata": {},
     "output_type": "execute_result"
    }
   ],
   "source": [
    "df_concat.head()"
   ]
  },
  {
   "cell_type": "code",
   "execution_count": 15,
   "metadata": {},
   "outputs": [],
   "source": [
    "df = df_concat.groupby([\"Commodity\", \"State\", \"Market Center\"], as_index = False)\n",
    "df = df.apply(lambda _df: _df.sort_values('Report Date', ascending = True))\n",
    "\n",
    "#filtering onion data\n",
    "df1 = df[(df[\"Commodity\"]== 'Onion') ]\n"
   ]
  },
  {
   "cell_type": "code",
   "execution_count": 16,
   "metadata": {},
   "outputs": [],
   "source": [
    "df2 = df1[df1[\"Market Center\"] == \"Mahuva(Station Road)\"]"
   ]
  },
  {
   "cell_type": "code",
   "execution_count": 19,
   "metadata": {},
   "outputs": [
    {
     "name": "stdout",
     "output_type": "stream",
     "text": [
      "<class 'pandas.core.frame.DataFrame'>\n",
      "MultiIndex: 365 entries, (20114, 2733532) to (20114, 2733897)\n",
      "Data columns (total 7 columns):\n",
      "Unnamed: 0                      365 non-null int64\n",
      "Commodity                       365 non-null object\n",
      "State                           365 non-null object\n",
      "Market Center                   365 non-null object\n",
      "Report Date                     365 non-null int64\n",
      "Modal Prices(in Rs/quintals)    365 non-null float64\n",
      "Arrival_Tonnes_Calc             365 non-null float64\n",
      "dtypes: float64(2), int64(2), object(3)\n",
      "memory usage: 23.2+ MB\n"
     ]
    }
   ],
   "source": [
    "df2.info()"
   ]
  },
  {
   "cell_type": "code",
   "execution_count": 24,
   "metadata": {},
   "outputs": [
    {
     "data": {
      "text/html": [
       "<div>\n",
       "<style scoped>\n",
       "    .dataframe tbody tr th:only-of-type {\n",
       "        vertical-align: middle;\n",
       "    }\n",
       "\n",
       "    .dataframe tbody tr th {\n",
       "        vertical-align: top;\n",
       "    }\n",
       "\n",
       "    .dataframe thead th {\n",
       "        text-align: right;\n",
       "    }\n",
       "</style>\n",
       "<table border=\"1\" class=\"dataframe\">\n",
       "  <thead>\n",
       "    <tr style=\"text-align: right;\">\n",
       "      <th></th>\n",
       "      <th></th>\n",
       "      <th>Unnamed: 0</th>\n",
       "      <th>Commodity</th>\n",
       "      <th>State</th>\n",
       "      <th>Market Center</th>\n",
       "      <th>Report Date</th>\n",
       "      <th>Modal Prices(in Rs/quintals)</th>\n",
       "      <th>Arrival_Tonnes_Calc</th>\n",
       "    </tr>\n",
       "  </thead>\n",
       "  <tbody>\n",
       "    <tr>\n",
       "      <th rowspan=\"7\" valign=\"top\">20114</th>\n",
       "      <th>2733532</th>\n",
       "      <td>2733532</td>\n",
       "      <td>Onion</td>\n",
       "      <td>Gujarat</td>\n",
       "      <td>Mahuva(Station Road)</td>\n",
       "      <td>20160401</td>\n",
       "      <td>600.0</td>\n",
       "      <td>13035.7</td>\n",
       "    </tr>\n",
       "    <tr>\n",
       "      <th>2733533</th>\n",
       "      <td>2733533</td>\n",
       "      <td>Onion</td>\n",
       "      <td>Gujarat</td>\n",
       "      <td>Mahuva(Station Road)</td>\n",
       "      <td>20160401</td>\n",
       "      <td>600.0</td>\n",
       "      <td>13035.7</td>\n",
       "    </tr>\n",
       "    <tr>\n",
       "      <th>2733534</th>\n",
       "      <td>2733534</td>\n",
       "      <td>Onion</td>\n",
       "      <td>Gujarat</td>\n",
       "      <td>Mahuva(Station Road)</td>\n",
       "      <td>20160402</td>\n",
       "      <td>600.0</td>\n",
       "      <td>5978.6</td>\n",
       "    </tr>\n",
       "    <tr>\n",
       "      <th>2733535</th>\n",
       "      <td>2733535</td>\n",
       "      <td>Onion</td>\n",
       "      <td>Gujarat</td>\n",
       "      <td>Mahuva(Station Road)</td>\n",
       "      <td>20160402</td>\n",
       "      <td>750.0</td>\n",
       "      <td>5978.6</td>\n",
       "    </tr>\n",
       "    <tr>\n",
       "      <th>2733536</th>\n",
       "      <td>2733536</td>\n",
       "      <td>Onion</td>\n",
       "      <td>Gujarat</td>\n",
       "      <td>Mahuva(Station Road)</td>\n",
       "      <td>20160405</td>\n",
       "      <td>600.0</td>\n",
       "      <td>8570.7</td>\n",
       "    </tr>\n",
       "    <tr>\n",
       "      <th>2733537</th>\n",
       "      <td>2733537</td>\n",
       "      <td>Onion</td>\n",
       "      <td>Gujarat</td>\n",
       "      <td>Mahuva(Station Road)</td>\n",
       "      <td>20160405</td>\n",
       "      <td>750.0</td>\n",
       "      <td>8570.7</td>\n",
       "    </tr>\n",
       "    <tr>\n",
       "      <th>2733538</th>\n",
       "      <td>2733538</td>\n",
       "      <td>Onion</td>\n",
       "      <td>Gujarat</td>\n",
       "      <td>Mahuva(Station Road)</td>\n",
       "      <td>20160406</td>\n",
       "      <td>515.0</td>\n",
       "      <td>9668.5</td>\n",
       "    </tr>\n",
       "  </tbody>\n",
       "</table>\n",
       "</div>"
      ],
      "text/plain": [
       "               Unnamed: 0 Commodity    State         Market Center  \\\n",
       "20114 2733532     2733532     Onion  Gujarat  Mahuva(Station Road)   \n",
       "      2733533     2733533     Onion  Gujarat  Mahuva(Station Road)   \n",
       "      2733534     2733534     Onion  Gujarat  Mahuva(Station Road)   \n",
       "      2733535     2733535     Onion  Gujarat  Mahuva(Station Road)   \n",
       "      2733536     2733536     Onion  Gujarat  Mahuva(Station Road)   \n",
       "      2733537     2733537     Onion  Gujarat  Mahuva(Station Road)   \n",
       "      2733538     2733538     Onion  Gujarat  Mahuva(Station Road)   \n",
       "\n",
       "               Report Date  Modal Prices(in Rs/quintals)  Arrival_Tonnes_Calc  \n",
       "20114 2733532     20160401                         600.0              13035.7  \n",
       "      2733533     20160401                         600.0              13035.7  \n",
       "      2733534     20160402                         600.0               5978.6  \n",
       "      2733535     20160402                         750.0               5978.6  \n",
       "      2733536     20160405                         600.0               8570.7  \n",
       "      2733537     20160405                         750.0               8570.7  \n",
       "      2733538     20160406                         515.0               9668.5  "
      ]
     },
     "execution_count": 24,
     "metadata": {},
     "output_type": "execute_result"
    }
   ],
   "source": [
    "df2.head(7)"
   ]
  },
  {
   "cell_type": "code",
   "execution_count": 25,
   "metadata": {},
   "outputs": [],
   "source": [
    "#import library for calculating Pearson correlation coefficient\n",
    "from scipy.stats.stats import pearsonr"
   ]
  },
  {
   "cell_type": "code",
   "execution_count": 26,
   "metadata": {},
   "outputs": [
    {
     "data": {
      "text/plain": [
       "(-0.07129043223056572, 0.17412764096364033)"
      ]
     },
     "execution_count": 26,
     "metadata": {},
     "output_type": "execute_result"
    }
   ],
   "source": [
    "# Pearson correlation coefficient between Prices and Quantity \n",
    "pearsonr(df2[\"Modal Prices(in Rs/quintals)\"], df2[\"Arrival_Tonnes_Calc\"])"
   ]
  },
  {
   "cell_type": "markdown",
   "metadata": {},
   "source": [
    "Prices and Quantity are have pearson correlation coefficient as -0.07129043223056572 with p-value as 0.17412764096364033."
   ]
  },
  {
   "cell_type": "code",
   "execution_count": 27,
   "metadata": {},
   "outputs": [],
   "source": [
    "# start index 2733532\n",
    "# end index  2733897\n",
    "trainX = df2[\"Modal Prices(in Rs/quintals)\"]\n",
    "trainY = df2[\"Arrival_Tonnes_Calc\"]"
   ]
  },
  {
   "cell_type": "code",
   "execution_count": 41,
   "metadata": {},
   "outputs": [
    {
     "data": {
      "text/plain": [
       "20114  2733532      NaN\n",
       "       2733533      NaN\n",
       "       2733534    600.0\n",
       "       2733535    600.0\n",
       "       2733536    600.0\n",
       "Name: Modal Prices(in Rs/quintals), dtype: float64"
      ]
     },
     "execution_count": 41,
     "metadata": {},
     "output_type": "execute_result"
    }
   ],
   "source": [
    "#shifting the Price column down by 2\n",
    "Xtrainshift = trainX.shift(2)\n",
    "Xtrainshift.head()"
   ]
  },
  {
   "cell_type": "code",
   "execution_count": 43,
   "metadata": {},
   "outputs": [
    {
     "data": {
      "text/plain": [
       "20114  2733893    600.0\n",
       "       2733894    450.0\n",
       "       2733895    555.0\n",
       "       2733896    450.0\n",
       "       2733897    600.0\n",
       "Name: Modal Prices(in Rs/quintals), dtype: float64"
      ]
     },
     "execution_count": 43,
     "metadata": {},
     "output_type": "execute_result"
    }
   ],
   "source": [
    "Xtrainshift.tail()\n",
    "#the last two values are lost after a shift by 2"
   ]
  },
  {
   "cell_type": "code",
   "execution_count": 46,
   "metadata": {},
   "outputs": [
    {
     "data": {
      "text/plain": [
       "365"
      ]
     },
     "execution_count": 46,
     "metadata": {},
     "output_type": "execute_result"
    }
   ],
   "source": [
    "len(trainX)"
   ]
  },
  {
   "cell_type": "code",
   "execution_count": 53,
   "metadata": {},
   "outputs": [
    {
     "name": "stdout",
     "output_type": "stream",
     "text": [
      "With Shift:  1\n",
      "(-0.04763325546848995, 0.3648441365615198)\n",
      "With Shift:  2\n",
      "(-0.05108837096463695, 0.33172705952186643)\n",
      "With Shift:  3\n",
      "(-0.026973200505833874, 0.6089881793101588)\n",
      "With Shift:  4\n",
      "(-0.028394329241349076, 0.5907637002348631)\n",
      "With Shift:  5\n",
      "(-0.02608007474408859, 0.6218729740623117)\n",
      "With Shift:  6\n",
      "(-0.00981293220496705, 0.8530058455514012)\n",
      "With Shift:  7\n",
      "(0.005833927673542114, 0.9124109680290473)\n",
      "With Shift:  8\n",
      "(0.005315906501714883, 0.920273231236157)\n",
      "With Shift:  9\n",
      "(-0.009495028294012114, 0.8583100634947558)\n",
      "With Shift:  10\n",
      "(0.016616879503164914, 0.755037986912179)\n",
      "With Shift:  11\n",
      "(0.0020710081147302687, 0.969027511639594)\n",
      "With Shift:  12\n",
      "(0.017981808837783032, 0.7363608244832685)\n",
      "With Shift:  13\n",
      "(0.02746453797193947, 0.6075705159486)\n",
      "With Shift:  14\n",
      "(0.06133622773872087, 0.25174791142448794)\n",
      "With Shift:  15\n",
      "(0.07679777880637574, 0.1516483801745481)\n",
      "With Shift:  16\n",
      "(0.044409377758703274, 0.4081988749154306)\n",
      "With Shift:  17\n",
      "(0.05633815463615021, 0.29462666703078594)\n",
      "With Shift:  18\n",
      "(0.060467078143052744, 0.2612928162091233)\n",
      "With Shift:  19\n",
      "(0.09303852757756464, 0.0839695649290445)\n",
      "With Shift:  20\n",
      "(0.09150330006476089, 0.08969820095164047)\n",
      "With Shift:  21\n",
      "(0.1078498668245164, 0.04562241753967765)\n",
      "With Shift:  22\n",
      "(0.14664511858582938, 0.006514092306254737)\n",
      "With Shift:  23\n",
      "(0.14091254137627662, 0.009069545586716982)\n",
      "With Shift:  24\n",
      "(0.10660892774820314, 0.049178528396195735)\n",
      "With Shift:  25\n",
      "(0.15604730845036222, 0.003920804107234242)\n",
      "With Shift:  26\n",
      "(0.20886559840563693, 0.00010696073280596784)\n",
      "With Shift:  27\n",
      "(0.18276897306998727, 0.0007349428777013669)\n",
      "With Shift:  28\n",
      "(0.21582648539875304, 6.482997084772151e-05)\n",
      "With Shift:  29\n",
      "(0.20441424747484402, 0.00016134419712055865)\n",
      "With Shift:  30\n",
      "(0.23412279333819516, 1.4947921990195233e-05)\n",
      "With Shift:  31\n",
      "(0.21524057283994366, 7.324384027420429e-05)\n",
      "With Shift:  32\n",
      "(0.20236921421096293, 0.00020117104398558513)\n",
      "With Shift:  33\n",
      "(0.23022960343136645, 2.2732953283353116e-05)\n",
      "With Shift:  34\n",
      "(0.24069526516331632, 9.521440641777546e-06)\n",
      "With Shift:  35\n",
      "(0.30217526605456874, 2.1447078442656356e-08)\n",
      "With Shift:  36\n",
      "(0.21885237277777417, 6.2505249286168e-05)\n",
      "With Shift:  37\n",
      "(0.2637650316172839, 1.2672943690785764e-06)\n",
      "With Shift:  38\n",
      "(0.3024737889484279, 2.405512958431543e-08)\n",
      "With Shift:  39\n",
      "(0.2550651426444905, 3.0859023875070117e-06)\n",
      "With Shift:  40\n",
      "(0.23318436916218066, 2.1735398413574722e-05)\n",
      "With Shift:  41\n",
      "(0.2460456483626253, 7.4372391687814e-06)\n",
      "With Shift:  42\n",
      "(0.33805033605689083, 4.474458049595414e-10)\n",
      "With Shift:  43\n",
      "(0.2873883851702503, 1.5370210471344734e-07)\n",
      "With Shift:  44\n",
      "(0.32531910832789596, 2.3874759345911315e-09)\n",
      "With Shift:  45\n",
      "(0.28048914264614844, 3.384692554172186e-07)\n",
      "With Shift:  46\n",
      "(0.3315521162677244, 1.2708393851802964e-09)\n",
      "With Shift:  47\n",
      "(0.2925460090005153, 1.0784656057015939e-07)\n",
      "With Shift:  48\n",
      "(0.26757277028520926, 1.340883605786119e-06)\n",
      "With Shift:  49\n",
      "(0.29959344241626357, 5.641411655602629e-08)\n",
      "With Shift:  50\n",
      "(0.32801321290670865, 2.4563473776932782e-09)\n",
      "With Shift:  51\n",
      "(0.3183118733992812, 7.986605840097372e-09)\n",
      "With Shift:  52\n",
      "(0.23256739040584407, 3.250182747838671e-05)\n",
      "With Shift:  53\n",
      "(0.29860863649758274, 7.596094290904074e-08)\n",
      "With Shift:  54\n",
      "(0.34764293946148256, 2.9050352448833106e-10)\n",
      "With Shift:  55\n",
      "(0.34761298607863333, 3.114687152935723e-10)\n",
      "With Shift:  56\n",
      "(0.29572144276252477, 1.1826201503840365e-07)\n",
      "With Shift:  57\n",
      "(0.32785580879860815, 3.7659535453552995e-09)\n",
      "With Shift:  58\n",
      "(0.3392006813119711, 1.0550620413533207e-09)\n",
      "With Shift:  59\n",
      "(0.32044647007955535, 9.779675535394514e-09)\n",
      "With Shift:  60\n",
      "(0.3251191724136724, 6.123964730940032e-09)\n",
      "With Shift:  61\n",
      "(0.33579777568974845, 1.901516320270346e-09)\n",
      "With Shift:  62\n",
      "(0.36815663829159995, 3.695867348151393e-11)\n",
      "With Shift:  63\n",
      "(0.34857926003178485, 4.694431814470436e-10)\n",
      "With Shift:  64\n",
      "(0.3623307162790623, 9.074628167714192e-11)\n",
      "With Shift:  65\n",
      "(0.40464482683548214, 3.0153983521149584e-13)\n",
      "With Shift:  66\n",
      "(0.44981623159533424, 2.6729437122926977e-16)\n",
      "With Shift:  67\n",
      "(0.41388873153439426, 9.22066821866392e-14)\n",
      "With Shift:  68\n",
      "(0.38222651228088517, 9.097603897029277e-12)\n",
      "With Shift:  69\n",
      "(0.41598563358051743, 8.156006234622393e-14)\n",
      "With Shift:  70\n",
      "(0.39419163534202095, 2.0898800311327207e-12)\n",
      "With Shift:  71\n",
      "(0.396673561917527, 1.6119933744980096e-12)\n",
      "With Shift:  72\n",
      "(0.3787317786704481, 1.9919082918255393e-11)\n",
      "With Shift:  73\n",
      "(0.372410189533267, 4.883430798818709e-11)\n",
      "With Shift:  74\n",
      "(0.3319530758488763, 6.486030933518591e-09)\n",
      "With Shift:  75\n",
      "(0.3253169356468111, 1.419479196812975e-08)\n",
      "With Shift:  76\n",
      "(0.31961144458928614, 2.7561629752674744e-08)\n",
      "With Shift:  77\n",
      "(0.34373526529719844, 2.078318179588062e-09)\n",
      "With Shift:  78\n",
      "(0.36397845608900004, 2.0345306684227584e-10)\n",
      "With Shift:  79\n",
      "(0.350478259865031, 1.0902808607239336e-09)\n",
      "With Shift:  80\n",
      "(0.3195555743259393, 3.4617394926331336e-08)\n",
      "With Shift:  81\n",
      "(0.3620492731523843, 3.193218155997979e-10)\n",
      "With Shift:  82\n",
      "(0.396042013385532, 4.584052478314291e-12)\n",
      "With Shift:  83\n",
      "(0.39368617468629247, 6.8476328529799444e-12)\n",
      "With Shift:  84\n",
      "(0.4029914957887608, 2.134399708337626e-12)\n",
      "With Shift:  85\n",
      "(0.4392886770319976, 1.224166716152443e-14)\n",
      "With Shift:  86\n",
      "(0.4098067582886648, 1.0037703831714197e-12)\n",
      "With Shift:  87\n",
      "(0.45500249308841906, 1.302943027518699e-15)\n",
      "With Shift:  88\n",
      "(0.45702003796497903, 1.0604168583528974e-15)\n",
      "With Shift:  89\n",
      "(0.44306147293506987, 1.0656153829901969e-14)\n",
      "With Shift:  90\n",
      "(0.45545942434081754, 1.7251036896241197e-15)\n",
      "With Shift:  91\n",
      "(0.41225484995165457, 1.1469768047808557e-12)\n",
      "With Shift:  92\n",
      "(0.38515267033120654, 4.381479697854931e-11)\n",
      "With Shift:  93\n",
      "(0.3555269489819114, 1.5915262858803767e-09)\n",
      "With Shift:  94\n",
      "(0.33325520896038274, 1.8849086382327998e-08)\n",
      "With Shift:  95\n",
      "(0.32542773456732055, 4.445093232345262e-08)\n",
      "With Shift:  96\n",
      "(0.3336258101169579, 2.0482130024522652e-08)\n",
      "With Shift:  97\n",
      "(0.3186781165045797, 9.69934427012994e-08)\n",
      "With Shift:  98\n",
      "(0.30530809380481544, 3.630937992876049e-07)\n",
      "With Shift:  99\n",
      "(0.3199175966208061, 9.609224435699793e-08)\n"
     ]
    }
   ],
   "source": [
    "#taking lags of prices from 1 to 100 finding the pearson correlation coeffcient \n",
    "for i in range(1,100) :\n",
    "    Xtrainshift = trainX.shift(i)\n",
    "    Ycor = trainY[i:]\n",
    "    Xcor = Xtrainshift[i:]\n",
    "    print(\"With Shift: \", i  )\n",
    "    print(pearsonr(Xcor, Ycor))"
   ]
  }
 ],
 "metadata": {
  "kernelspec": {
   "display_name": "Python 3",
   "language": "python",
   "name": "python3"
  },
  "language_info": {
   "codemirror_mode": {
    "name": "ipython",
    "version": 3
   },
   "file_extension": ".py",
   "mimetype": "text/x-python",
   "name": "python",
   "nbconvert_exporter": "python",
   "pygments_lexer": "ipython3",
   "version": "3.6.8"
  }
 },
 "nbformat": 4,
 "nbformat_minor": 2
}
